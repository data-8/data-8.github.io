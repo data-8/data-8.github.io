{
 "cells": [
  {
   "cell_type": "code",
   "execution_count": null,
   "metadata": {
    "collapsed": true
   },
   "outputs": [],
   "source": [
    "from datascience import *\n",
    "import numpy as np"
   ]
  },
  {
   "cell_type": "markdown",
   "metadata": {},
   "source": [
    "# Functions and For Loops excercises \n",
    "\n",
    "Below is some tutorials along with some excercises on how to use and create functions and for loops. There are no tests, the intent of which is for you to learn how to test out your function on various ouputs and figure out whether or not your answer is reasonable. \n"
   ]
  },
  {
   "cell_type": "markdown",
   "metadata": {},
   "source": [
    "## Functions! \n",
    "\n",
    "The first thing we will focus on defining functions. All functions take a form similar to the following: "
   ]
  },
  {
   "cell_type": "code",
   "execution_count": null,
   "metadata": {
    "collapsed": false
   },
   "outputs": [],
   "source": [
    "def function_name(arg1, arg2):\n",
    "    #Any code\n",
    "    summation = arg1 + arg2\n",
    "    return summation\n",
    "val = function_name(1,3)\n",
    "val"
   ]
  },
  {
   "cell_type": "markdown",
   "metadata": {},
   "source": [
    "Notice that `function_name`, `arg1`, and `arg2` are all arbitrary, as long as you are consistent throughout. The next important thing to notice is the word `return`. If you ran the code above, you would get an answer popping out that is the summation of 1 and 3, namely 4. Check what happens if you took out the word `return`. \n",
    "\n",
    "Why does this happen? Because, `return` is what gives the function a value. whatever you return is what the value of calling that function is equal to. So when we call `function_name(1,3)`, it has a value equal to 4, so it's essentially like writing `val = 4`. Note that this is unique to functions!\n",
    "\n",
    "What happens if I try to check what the value of summation is? Importantly, the variable name `summation` only exists inside of the function name; if we define it in the function, we can't use it outside! Run the following code if you don't believe me."
   ]
  },
  {
   "cell_type": "code",
   "execution_count": null,
   "metadata": {
    "collapsed": false
   },
   "outputs": [],
   "source": [
    "summation"
   ]
  },
  {
   "cell_type": "markdown",
   "metadata": {},
   "source": [
    "### Fix that code!\n",
    "\n",
    "All of the following lines of code should output 2016. Fix the ***inside of the function***  such that it works. "
   ]
  },
  {
   "cell_type": "code",
   "execution_count": null,
   "metadata": {
    "collapsed": false
   },
   "outputs": [],
   "source": [
    "def years(x):\n",
    "    4 * x\n",
    "years(504)"
   ]
  },
  {
   "cell_type": "code",
   "execution_count": null,
   "metadata": {
    "collapsed": false
   },
   "outputs": [],
   "source": [
    "def whats_the_year(wat):\n",
    "return wat\n",
    "\n",
    "whats_the_year(2016)"
   ]
  },
  {
   "cell_type": "code",
   "execution_count": null,
   "metadata": {
    "collapsed": false
   },
   "outputs": [],
   "source": [
    "current = 2016\n",
    "def year(current):\n",
    "    return current\n",
    "year(2015)"
   ]
  },
  {
   "cell_type": "code",
   "execution_count": null,
   "metadata": {
    "collapsed": false
   },
   "outputs": [],
   "source": [
    "def trapped_year(arr):\n",
    "    return arr / 2\n",
    "trapped_year(make_array(4032))"
   ]
  },
  {
   "cell_type": "code",
   "execution_count": null,
   "metadata": {
    "collapsed": false
   },
   "outputs": [],
   "source": [
    "#This one requires two changes \n",
    "current = 2016\n",
    "def too_many_years(current):\n",
    "    current = current\n",
    "    return current\n",
    "too_many_years(2015)"
   ]
  },
  {
   "cell_type": "markdown",
   "metadata": {},
   "source": [
    "### Practice"
   ]
  },
  {
   "cell_type": "markdown",
   "metadata": {},
   "source": [
    "Fill in the following functions such that it does as the description says. "
   ]
  },
  {
   "cell_type": "code",
   "execution_count": null,
   "metadata": {
    "collapsed": true
   },
   "outputs": [],
   "source": [
    "def largest_element(arr):\n",
    "    #Return the largest element of the array, ignoring signs. largest_element(make_array(1,2,3,-4)) should return -4. \n",
    "    ...\n",
    "largest_element(make_array(1,2,3,4,-5))"
   ]
  },
  {
   "cell_type": "code",
   "execution_count": null,
   "metadata": {
    "collapsed": true
   },
   "outputs": [],
   "source": [
    "def num_occurences(arr, val):\n",
    "    #Return the amount of times val occurs in the array arr. \n",
    "    ...\n",
    "num_occurences(make_array(1,3,2,4,2,2,4,5,3,10), 4)"
   ]
  },
  {
   "cell_type": "code",
   "execution_count": null,
   "metadata": {
    "collapsed": true
   },
   "outputs": [],
   "source": [
    "def most_occuring(t, col):\n",
    "    #Return the value in the column col which occured the most times\n",
    "    ...\n",
    "t = Table().with_column('GSIs', make_array('Fahad', 'Fahad', 'Henry', 'Sam', 'Nishant', 'Fahad'))\n",
    "most_occuring(t, 'GSIs')"
   ]
  },
  {
   "cell_type": "code",
   "execution_count": null,
   "metadata": {
    "collapsed": false
   },
   "outputs": [],
   "source": [
    "def highest_score(t, col1, col2):\n",
    "    #Given a table t, return the value of col1 associated with the largest value in col2, and also print out their rating\n",
    "    #For example, if we have a table of GSIs (col1) and their ratings (col2), we would want to print the rating and return\n",
    "    #the GSI's name. The example below should print 9.8 but return Mike\n",
    "    ...\n",
    "t = Table().with_columns('GSIs', make_array('Bill', 'Catherine', 'Harold', 'Sean', 'Allison', 'Mike'),\n",
    "                        'Ratings', make_array(7.2,4.5,6.7,7.8, 9.6, 9.8))\n",
    "GSI = highest_score(t, 'GSIs', 'Ratings')\n"
   ]
  },
  {
   "cell_type": "code",
   "execution_count": null,
   "metadata": {
    "collapsed": false
   },
   "outputs": [],
   "source": [
    "def p_value(simulated_null, observed, left):\n",
    "    #Return the p-value of the observed test statistic given the array of the simulated test statistic \n",
    "    #values of the null hypothesis. \n",
    "    #The null hypothesis is that some choice(s) are equally likely. The alternative hypothesis is either \n",
    "    #that some some value has a higher probability of happening, some value has a lower probability of happening, \n",
    "    #or just that the probabilities are not equally likely. left is True if it is the second alternative hypothesis, \n",
    "    #otherwise it will be false. \n",
    "    ...\n",
    "observed = -.17\n",
    "null = np.random.uniform(-.2,.2,1000)\n",
    "p_value(null, observed, True)"
   ]
  },
  {
   "cell_type": "markdown",
   "metadata": {
    "collapsed": true
   },
   "source": [
    "## For Loops!\n",
    "\n",
    "So, what are they useful for? Essentially, they're useful for looping through an array. There's two main reasons we'd want to loop through something:\n",
    "\n",
    "1. We want to run some line of code multiple lines, so we loop through some array of a predetermined length (i.e., arange)\n",
    "2. We want to loop through and access/use every element in some array\n",
    "\n",
    "There are two examples below, both add up all of the elements in a list and assign them to the variables `total1`,`total2` respectively. Examine below and make sure you understand the code. Add in some print statements if you aren't sure. "
   ]
  },
  {
   "cell_type": "code",
   "execution_count": null,
   "metadata": {
    "collapsed": false
   },
   "outputs": [],
   "source": [
    "arr = make_array(1,2,3,4, 1032)\n",
    "\n",
    "total1 = 0\n",
    "total2 = 0\n",
    "\n",
    "for index in np.arange(len(arr)):\n",
    "    total1 = total1 + arr.item(index)\n",
    "print('Total 1',total1)\n",
    "\n",
    "for item in arr:\n",
    "    total2 = total2 + item\n",
    "print('Total 2', total2)\n",
    "\n"
   ]
  },
  {
   "cell_type": "markdown",
   "metadata": {},
   "source": [
    "The crucial things to notice are the following:\n",
    "\n",
    "1. There is an indent and a colon, just like with a function\n",
    "2. Unlike a function, there is no return statements\n",
    "3. Also unlike a function, the variables `total1` and `total2` exist outside of the for loop. \n",
    "\n",
    "### Fix that code!\n",
    "\n",
    "Fix the following for loops, they should end up outputing 2016"
   ]
  },
  {
   "cell_type": "code",
   "execution_count": null,
   "metadata": {
    "collapsed": false
   },
   "outputs": [],
   "source": [
    "#There are two errors in this cell\n",
    "important_arr  = make_array(1,2,3,4,2016)\n",
    "for item in len(arr):\n",
    "    'lol'\n",
    "item #Hint; What is item bound to in this cell\n"
   ]
  },
  {
   "cell_type": "code",
   "execution_count": null,
   "metadata": {
    "collapsed": false
   },
   "outputs": [],
   "source": [
    "for x in np.arange(5):\n",
    "    element = important_arr.item(x)\n",
    "return element"
   ]
  },
  {
   "cell_type": "code",
   "execution_count": null,
   "metadata": {
    "collapsed": false
   },
   "outputs": [],
   "source": [
    "elem = important_arr.item(4)\n",
    "for elem in np.arange(5):\n",
    "    'lol'\n",
    "elem"
   ]
  },
  {
   "cell_type": "markdown",
   "metadata": {},
   "source": [
    "## Practice \n",
    "\n",
    "Fill in the elipses such that the code does as it said it should. "
   ]
  },
  {
   "cell_type": "code",
   "execution_count": null,
   "metadata": {
    "collapsed": true
   },
   "outputs": [],
   "source": [
    "#Using a for loop, chose a random number from 0 to 10 2000 times and output how many are the number 7\n",
    "num_seven = 0\n",
    "for ...:\n",
    "    ...\n",
    "num_seven"
   ]
  },
  {
   "cell_type": "code",
   "execution_count": null,
   "metadata": {
    "collapsed": false
   },
   "outputs": [],
   "source": [
    "#Print, one on each lines, the squares of the numbers from 1 to 8\n",
    "arr = ...\n",
    "for ...:\n",
    "    ..."
   ]
  },
  {
   "cell_type": "markdown",
   "metadata": {},
   "source": [
    "## Combinations!\n",
    "\n",
    "The next cell has a very specific problem that combines a lot of different things. First off, we will define the function `different` for you; it takes in two elements and, they are different, returns 2, otherwise, returns 1. We now want you to define `weighted_num_different` which takes in two arrays and prints out a 2 on the first line if the first elements of the array are equal, otherwise, it prints out 1. It then continues and prints out either 2 on the ith line if the ith elements of the array are equal, or 1 otherwise. In the end, the function should return the sum of all the values which were printed out. \n",
    "\n",
    "This funtion should do a lot of things:\n",
    "1. For loops in arrays\n",
    "2. Print vs return\n",
    "3. Calling functions inside of other functions. \n",
    "\n",
    "Good luck!"
   ]
  },
  {
   "cell_type": "code",
   "execution_count": null,
   "metadata": {
    "collapsed": false
   },
   "outputs": [],
   "source": [
    "def different(x,y):\n",
    "    return int(x == y) + 1\n",
    "...\n",
    "\n",
    "arr1 = make_array(1,3,2,5,3,1,5)\n",
    "arr2 = make_array(2,3,5,5,3,2,3)"
   ]
  }
 ],
 "metadata": {
  "anaconda-cloud": {},
  "kernelspec": {
   "display_name": "Python [Root]",
   "language": "python",
   "name": "Python [Root]"
  },
  "language_info": {
   "codemirror_mode": {
    "name": "ipython",
    "version": 3
   },
   "file_extension": ".py",
   "mimetype": "text/x-python",
   "name": "python",
   "nbconvert_exporter": "python",
   "pygments_lexer": "ipython3",
   "version": "3.5.2"
  }
 },
 "nbformat": 4,
 "nbformat_minor": 0
}
