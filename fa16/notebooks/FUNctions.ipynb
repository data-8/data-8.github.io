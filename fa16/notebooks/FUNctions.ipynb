{
 "cells": [
  {
   "cell_type": "code",
   "execution_count": 1,
   "metadata": {
    "collapsed": false,
    "scrolled": true
   },
   "outputs": [],
   "source": [
    "import numpy as np\n",
    "from datascience import *"
   ]
  },
  {
   "cell_type": "code",
   "execution_count": 2,
   "metadata": {
    "collapsed": false,
    "scrolled": true
   },
   "outputs": [
    {
     "data": {
      "text/html": [
       "<table border=\"1\" class=\"dataframe\">\n",
       "    <thead>\n",
       "        <tr>\n",
       "            <th>Votes</th> <th>Rating</th> <th>Title</th> <th>Year</th> <th>Decade</th>\n",
       "        </tr>\n",
       "    </thead>\n",
       "    <tbody>\n",
       "        <tr>\n",
       "            <td>88355 </td> <td>8.4   </td> <td>M (1931)                    </td> <td>1931</td> <td>1930  </td>\n",
       "        </tr>\n",
       "    </tbody>\n",
       "        <tr>\n",
       "            <td>132823</td> <td>8.3   </td> <td>Singin' in the Rain (1952)  </td> <td>1952</td> <td>1950  </td>\n",
       "        </tr>\n",
       "    </tbody>\n",
       "        <tr>\n",
       "            <td>74178 </td> <td>8.3   </td> <td>All About Eve (1950)        </td> <td>1950</td> <td>1950  </td>\n",
       "        </tr>\n",
       "    </tbody>\n",
       "        <tr>\n",
       "            <td>635139</td> <td>8.6   </td> <td>Léon (1994)                 </td> <td>1994</td> <td>1990  </td>\n",
       "        </tr>\n",
       "    </tbody>\n",
       "        <tr>\n",
       "            <td>145514</td> <td>8.2   </td> <td>The Elephant Man (1980)     </td> <td>1980</td> <td>1980  </td>\n",
       "        </tr>\n",
       "    </tbody>\n",
       "        <tr>\n",
       "            <td>425461</td> <td>8.3   </td> <td>Full Metal Jacket (1987)    </td> <td>1987</td> <td>1980  </td>\n",
       "        </tr>\n",
       "    </tbody>\n",
       "        <tr>\n",
       "            <td>441174</td> <td>8.1   </td> <td>Gone Girl (2014)            </td> <td>2014</td> <td>2010  </td>\n",
       "        </tr>\n",
       "    </tbody>\n",
       "        <tr>\n",
       "            <td>850601</td> <td>8.3   </td> <td>Batman Begins (2005)        </td> <td>2005</td> <td>2000  </td>\n",
       "        </tr>\n",
       "    </tbody>\n",
       "        <tr>\n",
       "            <td>37664 </td> <td>8.2   </td> <td>Judgment at Nuremberg (1961)</td> <td>1961</td> <td>1960  </td>\n",
       "        </tr>\n",
       "    </tbody>\n",
       "        <tr>\n",
       "            <td>46987 </td> <td>8     </td> <td>Relatos salvajes (2014)     </td> <td>2014</td> <td>2010  </td>\n",
       "        </tr>\n",
       "    </tbody>\n",
       "</table>\n",
       "<p>... (240 rows omitted)</p"
      ],
      "text/plain": [
       "Votes  | Rating | Title                        | Year | Decade\n",
       "88355  | 8.4    | M (1931)                     | 1931 | 1930\n",
       "132823 | 8.3    | Singin' in the Rain (1952)   | 1952 | 1950\n",
       "74178  | 8.3    | All About Eve (1950)         | 1950 | 1950\n",
       "635139 | 8.6    | Léon (1994)                  | 1994 | 1990\n",
       "145514 | 8.2    | The Elephant Man (1980)      | 1980 | 1980\n",
       "425461 | 8.3    | Full Metal Jacket (1987)     | 1987 | 1980\n",
       "441174 | 8.1    | Gone Girl (2014)             | 2014 | 2010\n",
       "850601 | 8.3    | Batman Begins (2005)         | 2005 | 2000\n",
       "37664  | 8.2    | Judgment at Nuremberg (1961) | 1961 | 1960\n",
       "46987  | 8      | Relatos salvajes (2014)      | 2014 | 2010\n",
       "... (240 rows omitted)"
      ]
     },
     "execution_count": 2,
     "metadata": {},
     "output_type": "execute_result"
    }
   ],
   "source": [
    "# the table we'll be using throughout these notes\n",
    "imdb = Table.read_table(\"data8assets/materials/fa16/lab/lab03/imdb.csv\")\n",
    "imdb"
   ]
  },
  {
   "cell_type": "markdown",
   "metadata": {},
   "source": [
    "# Using functions\n",
    "Everything that I'm going to say now applies to every function you might use, whether it's np.arange(), Table.join(), max(), make_array, whatever. They're all the same!\n",
    "\n",
    "At its most basic level, a function **takes in** arguments, does some stuff to it, then **returns** some value. Now, there are some functions that just do operations and change the argument without returning anything, but for this class we're just going to be working with functions that return some value. Take note of data types whenever you have to deal with functions.\n",
    "\n",
    "** _Every function call_ ** will look something like this: `function_name(argument1, argument2, ...)` depending on the number of arguments you need to pass in."
   ]
  },
  {
   "cell_type": "code",
   "execution_count": 25,
   "metadata": {
    "collapsed": false
   },
   "outputs": [
    {
     "data": {
      "text/plain": [
       "str"
      ]
     },
     "execution_count": 25,
     "metadata": {},
     "output_type": "execute_result"
    }
   ],
   "source": [
    "make_array(1, 2, 3, 4, 5)               # Takes in integers and returns an array of integers.\n",
    "make_array('a', 'b', 'c', 'd')          # Takes in strings and returns an array of strings.\n",
    "\n",
    "int('234')                              # Takes in a string and returns an int (type conversion)\n",
    "\n",
    "sum(make_array(1, 3, 4, 5, 6, 3))       # Takes in an array and returns a single int\n",
    "\n",
    "type('10000')                           # Takes in anything and returns what data type it is\n",
    "                                        # (This one's useful for debugging!)"
   ]
  },
  {
   "cell_type": "markdown",
   "metadata": {},
   "source": [
    "There are also functions that fit a slightly different pattern, but really are in the same format. When we're using numpy (np) or table methods, we need to specify that we're using that **package** or **module**, which is basically just a group of related methods and objects that we can use. The ones we use in this class often are `numpy (np)` and `Table`, although you have also seen the `Math` module. Here's what they look like:"
   ]
  },
  {
   "cell_type": "code",
   "execution_count": 26,
   "metadata": {
    "collapsed": false
   },
   "outputs": [
    {
     "data": {
      "text/plain": [
       "array([0, 2, 4, 6, 8])"
      ]
     },
     "execution_count": 26,
     "metadata": {},
     "output_type": "execute_result"
    }
   ],
   "source": [
    "imdb.column('Votes')                    # Takes in a column name (string) and returns an array of integers.\n",
    "imdb.where('Rating', are.above(8.5))    # Takes in a column name (string), are.above statement, and returns\n",
    "                                        #     a table.\n",
    "\n",
    "np.arange(0, 10, 2)                     # Takes in start, stop, and step values and returns an array of integers."
   ]
  },
  {
   "cell_type": "code",
   "execution_count": 27,
   "metadata": {
    "collapsed": false
   },
   "outputs": [
    {
     "data": {
      "text/plain": [
       "250"
      ]
     },
     "execution_count": 27,
     "metadata": {},
     "output_type": "execute_result"
    }
   ],
   "source": [
    "# Some clarification:\n",
    "imdb.num_rows   # number of rows/cols is not a function, it's a characteristic of the table, so no parens needed"
   ]
  },
  {
   "cell_type": "markdown",
   "metadata": {},
   "source": [
    "## Stringing functions together"
   ]
  },
  {
   "cell_type": "markdown",
   "metadata": {},
   "source": [
    "**Obnoxious Question:** I want the average year of release (as a string) of movies where the rating is above 8.2 and the number of votes is less than 100,000. And I want you to write it all on one line. (Obviously this isn't a realistic demand on a homework/lab/project, but let's just do it for funsies)\n",
    "\n",
    "Let's break it up into steps that make sense in order:\n",
    "* start with table imdb\n",
    "* filter movies where votes is below 100,000\n",
    "* filter movies where rating is above 8.2\n",
    "* get the years (probably as an array) of those movies after filtering\n",
    "* take the average year\n",
    "* get the years of those movies\n",
    "* end with some string"
   ]
  },
  {
   "cell_type": "code",
   "execution_count": 28,
   "metadata": {
    "collapsed": false
   },
   "outputs": [
    {
     "data": {
      "text/plain": [
       "'1949.46153846'"
      ]
     },
     "execution_count": 28,
     "metadata": {},
     "output_type": "execute_result"
    }
   ],
   "source": [
    "# 1. start with the table\n",
    "imdb\n",
    "\n",
    "# 2. get the movies that have fewer than 100,000 votes\n",
    "imdb.where('Votes', are.below(100000))       # Note this returns a table. That's why we can do this next step:\n",
    "\n",
    "# 3. from the above, also get where the rating is above 8.2\n",
    "imdb.where('Votes', are.below(100000)).where('Rating', are.above(8.2))\n",
    "\n",
    "# 4. get the years from the table\n",
    "imdb.where('Votes', are.below(100000)).where('Rating', are.above(8.2)).column('Year')\n",
    "\n",
    "# 5. take the average of those years\n",
    "np.average(imdb.where('Votes', are.below(100000)).where('Rating', are.above(8.2)).column('Year'))\n",
    "\n",
    "# 6. turn all of that into a string\n",
    "str(np.average(imdb.where('Votes', are.below(100000)).where('Rating', are.above(8.2)).column('Year')))"
   ]
  },
  {
   "cell_type": "markdown",
   "metadata": {},
   "source": [
    "**Obnoxious Question 2:** I want the length of the movie title with the highest rating that was released in a year before 1980 (inclusive), and that has more than 90,000 votes. (You should get 20. Also, don't worry about stripping the (1950) or whatever year off the title)\n",
    "\n",
    "_Tip:_ Check after every step that the output is what you're expecting/makes sense (e.g. that you don't get an empty table if you use imdb.where()). It doesn't hurt to run cells over and over again!"
   ]
  },
  {
   "cell_type": "code",
   "execution_count": null,
   "metadata": {
    "collapsed": false
   },
   "outputs": [],
   "source": [
    "# Your answer here"
   ]
  },
  {
   "cell_type": "code",
   "execution_count": 29,
   "metadata": {
    "collapsed": false
   },
   "outputs": [
    {
     "data": {
      "text/plain": [
       "8"
      ]
     },
     "execution_count": 29,
     "metadata": {},
     "output_type": "execute_result"
    }
   ],
   "source": [
    "# Bonus: what's the significance of this line of code?\n",
    "\n",
    "imdb.where('Year', are.above_or_equal_to(1990)).sort('Title').where('Votes', are.below(80000)).num_rows"
   ]
  },
  {
   "cell_type": "markdown",
   "metadata": {},
   "source": [
    "# Writing functions\n",
    "\n",
    "### Function structure\n",
    "Before we talk about writing functions, we'll go over what they're made of. Functions are all structured pretty much the same:\n",
    "* a `def` statement, where we define the name of the function and arguments that we pass in\n",
    "* a body, where we define what calculations we do with the argument(s)\n",
    "* a `return` statement, where we return some value that we've calculated\n",
    "\n",
    "Take a look at this simple function that returns the first element of an array that we pass in."
   ]
  },
  {
   "cell_type": "code",
   "execution_count": 6,
   "metadata": {
    "collapsed": false
   },
   "outputs": [
    {
     "data": {
      "text/plain": [
       "'wow'"
      ]
     },
     "execution_count": 6,
     "metadata": {},
     "output_type": "execute_result"
    }
   ],
   "source": [
    "def first_element(an_array):             # def, our function name, (arguments we need), colon\n",
    "    return_element = an_array.item(0)    # body\n",
    "    return return_element                # return\n",
    "\n",
    "test_array = make_array('wow', 'cool', 'kljslkjd')    # the array we're going to try our function on\n",
    "first_element(test_array)"
   ]
  },
  {
   "cell_type": "markdown",
   "metadata": {},
   "source": [
    "Looks like it worked! Now let's write some functions on our own.\n",
    "\n",
    "A question asks you to write a function. Here's some tips on how to approach it:\n",
    "\n",
    "1. What do I need to pass in, and what do I need to return? (Are they ints, arrays, strings, etc?)\n",
    "2. Try writing your function for one specific case and then making it more general."
   ]
  },
  {
   "cell_type": "markdown",
   "metadata": {},
   "source": [
    "### Question: Write a function that returns the maximum of a column when we pass in a column name.\n",
    "\n",
    "Answering the above questions:\n",
    "1. We're going to take in a column name (as a string) and return probably an integer, based on the above table.\n",
    "2. Let's try writing the function for a specific case! Below, I've written a way to get the maximum number of votes out of the votes column:"
   ]
  },
  {
   "cell_type": "code",
   "execution_count": 7,
   "metadata": {
    "collapsed": false
   },
   "outputs": [
    {
     "data": {
      "text/plain": [
       "1498733"
      ]
     },
     "execution_count": 7,
     "metadata": {},
     "output_type": "execute_result"
    }
   ],
   "source": [
    "votes = imdb.column('Votes')        # Get all of the votes as an array\n",
    "np.max(votes)                       # use the np.max() function to find the maximum number in the array"
   ]
  },
  {
   "cell_type": "markdown",
   "metadata": {},
   "source": [
    "There are a lot of other ways to do this! The other way we could do it is by sorting imdb by the votes columns, `descending = True`, and then taking the first item of the votes column, etc.\n",
    "\n",
    "But let's continue. Here's a skeleton of the function that we want to write:"
   ]
  },
  {
   "cell_type": "code",
   "execution_count": 8,
   "metadata": {
    "collapsed": false
   },
   "outputs": [],
   "source": [
    "def find_max_of_column(column):\n",
    "    ### body\n",
    "    return maximum"
   ]
  },
  {
   "cell_type": "markdown",
   "metadata": {},
   "source": [
    "Super basic--all I gave you there is the name of the function, what we're passing in, and that we're returning a maximum. \n",
    "\n",
    "Now, to write the function, we can literally just copy/paste the specific code we've already written for '`Votes'`, and replace each instance of where we mention votes to something more generic. In this case, since we're passing in a `column_name` we can replace `'Votes'` with `column_name`."
   ]
  },
  {
   "cell_type": "code",
   "execution_count": 9,
   "metadata": {
    "collapsed": false
   },
   "outputs": [],
   "source": [
    "def find_max_of_column(column_name):\n",
    "    column = imdb.column(column_name)\n",
    "    maximum = np.max(column)\n",
    "    return maximum"
   ]
  },
  {
   "cell_type": "markdown",
   "metadata": {},
   "source": [
    "Easy-peasy. Compare this function to what we wrote to find the max of the `'Votes'` column, and note that it's almost exactly the same code! This process has always worked really well for me whenever I need to write functions.\n",
    "\n",
    "**As practice, try writing a function that, given some decade, returns a table of all of the movies released in that decade.** (e.g. if I give the function the decade 1950, it should return a table of all of the movies that were released in the 1950s)"
   ]
  },
  {
   "cell_type": "code",
   "execution_count": null,
   "metadata": {
    "collapsed": true
   },
   "outputs": [],
   "source": [
    "# Your answer here"
   ]
  }
 ],
 "metadata": {
  "kernelspec": {
   "display_name": "Python 3",
   "language": "python",
   "name": "python3"
  },
  "language_info": {
   "codemirror_mode": {
    "name": "ipython",
    "version": 3
   },
   "file_extension": ".py",
   "mimetype": "text/x-python",
   "name": "python",
   "nbconvert_exporter": "python",
   "pygments_lexer": "ipython3",
   "version": "3.5.2"
  }
 },
 "nbformat": 4,
 "nbformat_minor": 0
}
