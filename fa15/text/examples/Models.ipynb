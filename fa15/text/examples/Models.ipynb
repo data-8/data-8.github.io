{
 "cells": [
  {
   "cell_type": "code",
   "execution_count": 18,
   "metadata": {
    "collapsed": false
   },
   "outputs": [],
   "source": [
    "# HIDDEN\n",
    "import matplotlib\n",
    "matplotlib.use('Agg')\n",
    "from datascience import *\n",
    "%matplotlib inline\n",
    "import matplotlib.pyplot as plots\n",
    "from mpl_toolkits.mplot3d import Axes3D\n",
    "import numpy as np\n",
    "import math\n",
    "import scipy.stats as stats\n",
    "plots.style.use('fivethirtyeight')"
   ]
  },
  {
   "cell_type": "markdown",
   "metadata": {},
   "source": [
    "## Building a model\n",
    "\n",
    "So far, we have talked about *prediction*, where the purpose of learning is to be able to predict the class of new instances.  I'm now going to switch to *model building*, where the goal is to learn a model of how the class depends upon the attributes.\n",
    "\n",
    "One place where model building is useful is for science: e.g., which genes influence whether you become diabetic?  This is interesting and useful in its right (apart from any applications to predicting whether a particular individual will become diabetic), because it can potentially help us understand the workings of our body.\n",
    "\n",
    "Another place where model building is useful is for control: e.g., what should I change about my advertisement to get more people to click on it?  How should I change the profile picture I use on an online dating site, to get more people to \"swipe right\"?  Which attributes make the biggest difference to whether people click/swipe?  Our goal is to determine which attributes to change, to have the biggest possible effect on something we care about.\n",
    "\n",
    "We already know how to build a classifier, given a training set.  Let's see how to use that as a building block to help us solve these problems.\n",
    "\n",
    "How do we figure out which attributes have the biggest influence on the output?  Take a moment and see what you can come up with."
   ]
  },
  {
   "cell_type": "markdown",
   "metadata": {},
   "source": [
    "### Feature selection\n",
    "\n",
    "Background: attributes are also called *features*, in the machine learning literature.\n",
    "\n",
    "Our goal is to find a subset of features that are most relevant to the output.  The way we'll formalize is this is to identify a subset of features that, when we train a classifier using just those features, gives the highest possible accuracy at prediction.\n",
    "\n",
    "Intuitively, if we get 90% accuracy using the features and 88% accuracy using just three of the features (for example), then it stands to reason that those three features are probably the most relevant, and they capture most of the information that affects or determines the output.\n",
    "\n",
    "With this insight, our problem becomes:\n",
    "\n",
    "> Find the subset of $\\ell$ features that gives the best possible accuracy (when we use only those $\\ell$ features for prediction).\n",
    "\n",
    "This is a feature selection problem.  There are many possible approaches to feature selection.  One simple one is to try all possible ways of choosing $\\ell$ of the features, and evaluate the accuracy of each.  However, this can be very slow, because there are so many ways to choose a subset of $\\ell$ features.\n",
    "\n",
    "Therefore, we'll consider a more efficient procedure that often works reasonably well in practice.  It is known as greedy feature selection.  Here's how it works.\n",
    "\n",
    "1. Suppose there are $d$ features.  Try each on its own, to see how much accuracy we can get using a classifier trained with just that one feature.  Keep the best feature.\n",
    "\n",
    "2. Now we have one feature.  Try remaining $d-1$ features, to see which is the best one to add to it (i.e., we are now training a classifier with just 2 features: the best feature picked in step 1, plus one more).  Keep the one that best improves accuracy.  Now we have 2 features.\n",
    "\n",
    "3. Repeat.  At each stage, we try all possibilities for how to add one more feature to the feature subset we've already picked, and we keep the one that best improves accuracy.\n",
    "\n",
    "Let's implement it and try it on some examples!"
   ]
  },
  {
   "cell_type": "markdown",
   "metadata": {},
   "source": [
    "### Code for k-NN\n",
    "\n",
    "First, some code from last time, to implement $k$-nearest neighbors."
   ]
  },
  {
   "cell_type": "code",
   "execution_count": 2,
   "metadata": {
    "collapsed": true
   },
   "outputs": [],
   "source": [
    "def distance(pt1, pt2):\n",
    "    tot = 0\n",
    "    for i in range(len(pt1)):\n",
    "        tot = tot + (pt1[i] - pt2[i])**2\n",
    "    return math.sqrt(tot)"
   ]
  },
  {
   "cell_type": "code",
   "execution_count": 3,
   "metadata": {
    "collapsed": true
   },
   "outputs": [],
   "source": [
    "def computetablewithdists(training, p):\n",
    "    dists = np.zeros(training.num_rows)\n",
    "    attributes = training.drop('Class').rows\n",
    "    for i in range(training.num_rows):\n",
    "        dists[i] = distance(attributes[i], p)\n",
    "    withdists = training.copy()\n",
    "    withdists.append_column('Distance', dists)\n",
    "    return withdists\n",
    "\n",
    "def closest(training, p, k):\n",
    "    withdists = computetablewithdists(training, p)\n",
    "    sortedbydist = withdists.sort('Distance')\n",
    "    topk = sortedbydist.take(range(k))\n",
    "    return topk\n",
    "\n",
    "def majority(topkclasses):\n",
    "    if topkclasses.where('Class', 1).num_rows > topkclasses.where('Class', 0).num_rows:\n",
    "        return 1\n",
    "    else:\n",
    "        return 0\n",
    "\n",
    "def classify(training, p, k):\n",
    "    closestk = closest(training, p, k)\n",
    "    topkclasses = closestk.select('Class')\n",
    "    return majority(topkclasses)"
   ]
  },
  {
   "cell_type": "code",
   "execution_count": 4,
   "metadata": {
    "collapsed": true
   },
   "outputs": [],
   "source": [
    "def evaluate_accuracy(training, valid, k):\n",
    "    validattrs = valid.drop('Class')\n",
    "    numcorrect = 0\n",
    "    for i in range(valid.num_rows):\n",
    "        # Run the classifier on the ith patient in the test set\n",
    "        c = classify(training, validattrs.rows[i], k)\n",
    "        # Was the classifier's prediction correct?\n",
    "        if c == valid['Class'][i]:\n",
    "            numcorrect = numcorrect + 1\n",
    "    return numcorrect / valid.num_rows"
   ]
  },
  {
   "cell_type": "markdown",
   "metadata": {},
   "source": [
    "### Code for feature selection\n",
    "\n",
    "Now we'll implement the feature selection algorithm.  First, a subroutine to evaluate the accuracy when using a particular subset of features:"
   ]
  },
  {
   "cell_type": "code",
   "execution_count": 5,
   "metadata": {
    "collapsed": true
   },
   "outputs": [],
   "source": [
    "def evaluate_features(training, valid, features, k):\n",
    "    tr = training.select(['Class']+features)\n",
    "    va = valid.select(['Class']+features)\n",
    "    return evaluate_accuracy(tr, va, k)"
   ]
  },
  {
   "cell_type": "markdown",
   "metadata": {},
   "source": [
    "Next, we'll implement a subroutine that, given a current subset of features, tries all possible ways to add one more feature to the subset, and evaluates the accuracy of each candidate.  This returns a table that summarizes the accuracy of each option it examined."
   ]
  },
  {
   "cell_type": "code",
   "execution_count": 6,
   "metadata": {
    "collapsed": true
   },
   "outputs": [],
   "source": [
    "def try_one_more_feature(training, valid, baseattrs, k):\n",
    "    results = Table.empty(['Attribute', 'Accuracy'])\n",
    "    for attr in training.drop(['Class']+baseattrs).column_labels:\n",
    "        acc = evaluate_features(training, valid, [attr]+baseattrs, k)\n",
    "        results.append((attr, acc))\n",
    "    return results.sort('Accuracy', descending=True)"
   ]
  },
  {
   "cell_type": "markdown",
   "metadata": {},
   "source": [
    "Finally, we'll implement the greedy feature selection algorithm, using the above subroutines.  For our own purposes of understanding what's going on, I'm going to have it print out, at each iteration, all features it considered and the accuracy it got with each."
   ]
  },
  {
   "cell_type": "code",
   "execution_count": 7,
   "metadata": {
    "collapsed": true
   },
   "outputs": [],
   "source": [
    "def select_features(training, valid, k, maxfeatures=3):\n",
    "    results = Table.empty(['NumAttrs', 'Attributes', 'Accuracy'])\n",
    "    curattrs = []\n",
    "    iters = min(maxfeatures, len(training.column_labels)-1)\n",
    "    while len(curattrs) < iters:\n",
    "        print('== Computing best feature to add to '+str(curattrs))\n",
    "        # Try all ways of adding just one more feature to curattrs\n",
    "        r = try_one_more_feature(training, valid, curattrs, k)\n",
    "        r.show()\n",
    "        print()\n",
    "        # Take the single best feature and add it to curattrs\n",
    "        attr = r['Attribute'][0]\n",
    "        acc = r['Accuracy'][0]\n",
    "        curattrs.append(attr)\n",
    "        results.append((len(curattrs), ', '.join(curattrs), acc))\n",
    "    return results"
   ]
  },
  {
   "cell_type": "markdown",
   "metadata": {},
   "source": [
    "### Tree Cover\n",
    "\n",
    "Now let's try it out on an example.  I'm working with a data set gathered by the US Forestry service.  They visited thousands of wildnerness locations and recorded various characteristics of the soil and land.  They also recorded what kind of tree was growing predominantly on that land.  Focusing only on areas where the tree cover was either Spruce or Lodgepole Pine, let's see if we can figure out which characteristics have the greatest effect on whether the predominant tree cover is Spruce or Lodgepole Pine.\n",
    "\n",
    "There are 500,000 records in this data set -- more than I can analyze with the software we're using.  So, I'll pick a random sample of just a fraction of these records, to let us do some experiments that will complete in a reasonable amount of time."
   ]
  },
  {
   "cell_type": "code",
   "execution_count": 8,
   "metadata": {
    "collapsed": true
   },
   "outputs": [],
   "source": [
    "all_trees = Table.read_table('treecover2.csv.gz', sep=',')\n",
    "all_trees = all_trees.sample(all_trees.num_rows)\n",
    "training   = all_trees.take(range(   0, 1000))\n",
    "validation = all_trees.take(range(1000, 1500))\n",
    "test       = all_trees.take(range(1500, 2000))"
   ]
  },
  {
   "cell_type": "code",
   "execution_count": 9,
   "metadata": {
    "collapsed": false
   },
   "outputs": [
    {
     "data": {
      "text/html": [
       "<table border=\"1\" class=\"dataframe\">\n",
       "    <thead>\n",
       "        <tr>\n",
       "            <th>Elevation</th> <th>Aspect</th> <th>Slope</th> <th>HorizDistToWater</th> <th>VertDistToWater</th> <th>HorizDistToRoad</th> <th>Hillshade9am</th> <th>HillshadeNoon</th> <th>Hillshade3pm</th> <th>HorizDistToFire</th> <th>Area1</th> <th>Area2</th> <th>Area3</th> <th>Area4</th> <th>Class</th>\n",
       "        </tr>\n",
       "    </thead>\n",
       "    <tbody>\n",
       "        <tr>\n",
       "            <td>2990     </td> <td>357   </td> <td>18   </td> <td>696             </td> <td>121            </td> <td>2389           </td> <td>189         </td> <td>205          </td> <td>151         </td> <td>1654           </td> <td>0    </td> <td>0    </td> <td>1    </td> <td>0    </td> <td>1    </td>\n",
       "        </tr>\n",
       "    </tbody>\n",
       "        <tr>\n",
       "            <td>3255     </td> <td>283   </td> <td>27   </td> <td>418             </td> <td>149            </td> <td>360            </td> <td>134         </td> <td>228          </td> <td>228         </td> <td>794            </td> <td>0    </td> <td>1    </td> <td>0    </td> <td>0    </td> <td>0    </td>\n",
       "        </tr>\n",
       "    </tbody>\n",
       "</table>\n",
       "<p>... (998 rows omitted)</p"
      ],
      "text/plain": [
       "<IPython.core.display.HTML object>"
      ]
     },
     "metadata": {},
     "output_type": "display_data"
    }
   ],
   "source": [
    "training.show(2)"
   ]
  },
  {
   "cell_type": "markdown",
   "metadata": {},
   "source": [
    "Let's start by figuring out how accurate a classifier will be, if trained using this data.  I'm going to arbitrarily use $k=15$ for the $k$-nearest neighbor classifier."
   ]
  },
  {
   "cell_type": "code",
   "execution_count": 10,
   "metadata": {
    "collapsed": false
   },
   "outputs": [
    {
     "data": {
      "text/plain": [
       "0.722"
      ]
     },
     "execution_count": 10,
     "metadata": {},
     "output_type": "execute_result"
    }
   ],
   "source": [
    "evaluate_accuracy(training, validation, 15)"
   ]
  },
  {
   "cell_type": "markdown",
   "metadata": {},
   "source": [
    "Now we'll apply feature selection.  I wonder which characteristics have the biggest influence on whether Spruce vs Lodgepole Pine grows?  We'll look for the best 4 features."
   ]
  },
  {
   "cell_type": "code",
   "execution_count": 11,
   "metadata": {
    "collapsed": false
   },
   "outputs": [
    {
     "name": "stdout",
     "output_type": "stream",
     "text": [
      "== Computing best feature to add to []\n"
     ]
    },
    {
     "data": {
      "text/html": [
       "<table border=\"1\" class=\"dataframe\">\n",
       "    <thead>\n",
       "        <tr>\n",
       "            <th>Attribute</th> <th>Accuracy</th>\n",
       "        </tr>\n",
       "    </thead>\n",
       "    <tbody>\n",
       "        <tr>\n",
       "            <td>Elevation       </td> <td>0.746   </td>\n",
       "        </tr>\n",
       "    </tbody>\n",
       "        <tr>\n",
       "            <td>Area2           </td> <td>0.608   </td>\n",
       "        </tr>\n",
       "    </tbody>\n",
       "        <tr>\n",
       "            <td>Area4           </td> <td>0.586   </td>\n",
       "        </tr>\n",
       "    </tbody>\n",
       "        <tr>\n",
       "            <td>HorizDistToFire </td> <td>0.564   </td>\n",
       "        </tr>\n",
       "    </tbody>\n",
       "        <tr>\n",
       "            <td>VertDistToWater </td> <td>0.564   </td>\n",
       "        </tr>\n",
       "    </tbody>\n",
       "        <tr>\n",
       "            <td>HorizDistToRoad </td> <td>0.56    </td>\n",
       "        </tr>\n",
       "    </tbody>\n",
       "        <tr>\n",
       "            <td>Hillshade3pm    </td> <td>0.554   </td>\n",
       "        </tr>\n",
       "    </tbody>\n",
       "        <tr>\n",
       "            <td>Aspect          </td> <td>0.554   </td>\n",
       "        </tr>\n",
       "    </tbody>\n",
       "        <tr>\n",
       "            <td>HillshadeNoon   </td> <td>0.548   </td>\n",
       "        </tr>\n",
       "    </tbody>\n",
       "        <tr>\n",
       "            <td>Hillshade9am    </td> <td>0.548   </td>\n",
       "        </tr>\n",
       "    </tbody>\n",
       "        <tr>\n",
       "            <td>HorizDistToWater</td> <td>0.542   </td>\n",
       "        </tr>\n",
       "    </tbody>\n",
       "        <tr>\n",
       "            <td>Slope           </td> <td>0.538   </td>\n",
       "        </tr>\n",
       "    </tbody>\n",
       "        <tr>\n",
       "            <td>Area3           </td> <td>0.414   </td>\n",
       "        </tr>\n",
       "    </tbody>\n",
       "        <tr>\n",
       "            <td>Area1           </td> <td>0.414   </td>\n",
       "        </tr>\n",
       "    </tbody>\n",
       "</table>"
      ],
      "text/plain": [
       "<IPython.core.display.HTML object>"
      ]
     },
     "metadata": {},
     "output_type": "display_data"
    },
    {
     "name": "stdout",
     "output_type": "stream",
     "text": [
      "\n",
      "== Computing best feature to add to ['Elevation']\n"
     ]
    },
    {
     "data": {
      "text/html": [
       "<table border=\"1\" class=\"dataframe\">\n",
       "    <thead>\n",
       "        <tr>\n",
       "            <th>Attribute</th> <th>Accuracy</th>\n",
       "        </tr>\n",
       "    </thead>\n",
       "    <tbody>\n",
       "        <tr>\n",
       "            <td>HorizDistToWater</td> <td>0.778   </td>\n",
       "        </tr>\n",
       "    </tbody>\n",
       "        <tr>\n",
       "            <td>Aspect          </td> <td>0.774   </td>\n",
       "        </tr>\n",
       "    </tbody>\n",
       "        <tr>\n",
       "            <td>HillshadeNoon   </td> <td>0.772   </td>\n",
       "        </tr>\n",
       "    </tbody>\n",
       "        <tr>\n",
       "            <td>HorizDistToRoad </td> <td>0.772   </td>\n",
       "        </tr>\n",
       "    </tbody>\n",
       "        <tr>\n",
       "            <td>Hillshade9am    </td> <td>0.766   </td>\n",
       "        </tr>\n",
       "    </tbody>\n",
       "        <tr>\n",
       "            <td>HorizDistToFire </td> <td>0.76    </td>\n",
       "        </tr>\n",
       "    </tbody>\n",
       "        <tr>\n",
       "            <td>Area3           </td> <td>0.756   </td>\n",
       "        </tr>\n",
       "    </tbody>\n",
       "        <tr>\n",
       "            <td>Area1           </td> <td>0.756   </td>\n",
       "        </tr>\n",
       "    </tbody>\n",
       "        <tr>\n",
       "            <td>Slope           </td> <td>0.756   </td>\n",
       "        </tr>\n",
       "    </tbody>\n",
       "        <tr>\n",
       "            <td>VertDistToWater </td> <td>0.754   </td>\n",
       "        </tr>\n",
       "    </tbody>\n",
       "        <tr>\n",
       "            <td>Hillshade3pm    </td> <td>0.752   </td>\n",
       "        </tr>\n",
       "    </tbody>\n",
       "        <tr>\n",
       "            <td>Area4           </td> <td>0.746   </td>\n",
       "        </tr>\n",
       "    </tbody>\n",
       "        <tr>\n",
       "            <td>Area2           </td> <td>0.744   </td>\n",
       "        </tr>\n",
       "    </tbody>\n",
       "</table>"
      ],
      "text/plain": [
       "<IPython.core.display.HTML object>"
      ]
     },
     "metadata": {},
     "output_type": "display_data"
    },
    {
     "name": "stdout",
     "output_type": "stream",
     "text": [
      "\n",
      "== Computing best feature to add to ['Elevation', 'HorizDistToWater']\n"
     ]
    },
    {
     "data": {
      "text/html": [
       "<table border=\"1\" class=\"dataframe\">\n",
       "    <thead>\n",
       "        <tr>\n",
       "            <th>Attribute</th> <th>Accuracy</th>\n",
       "        </tr>\n",
       "    </thead>\n",
       "    <tbody>\n",
       "        <tr>\n",
       "            <td>Hillshade3pm   </td> <td>0.788   </td>\n",
       "        </tr>\n",
       "    </tbody>\n",
       "        <tr>\n",
       "            <td>HillshadeNoon  </td> <td>0.786   </td>\n",
       "        </tr>\n",
       "    </tbody>\n",
       "        <tr>\n",
       "            <td>Slope          </td> <td>0.784   </td>\n",
       "        </tr>\n",
       "    </tbody>\n",
       "        <tr>\n",
       "            <td>Area4          </td> <td>0.778   </td>\n",
       "        </tr>\n",
       "    </tbody>\n",
       "        <tr>\n",
       "            <td>Area3          </td> <td>0.778   </td>\n",
       "        </tr>\n",
       "    </tbody>\n",
       "        <tr>\n",
       "            <td>Area2          </td> <td>0.778   </td>\n",
       "        </tr>\n",
       "    </tbody>\n",
       "        <tr>\n",
       "            <td>Area1          </td> <td>0.778   </td>\n",
       "        </tr>\n",
       "    </tbody>\n",
       "        <tr>\n",
       "            <td>Hillshade9am   </td> <td>0.778   </td>\n",
       "        </tr>\n",
       "    </tbody>\n",
       "        <tr>\n",
       "            <td>VertDistToWater</td> <td>0.774   </td>\n",
       "        </tr>\n",
       "    </tbody>\n",
       "        <tr>\n",
       "            <td>HorizDistToFire</td> <td>0.756   </td>\n",
       "        </tr>\n",
       "    </tbody>\n",
       "        <tr>\n",
       "            <td>Aspect         </td> <td>0.756   </td>\n",
       "        </tr>\n",
       "    </tbody>\n",
       "        <tr>\n",
       "            <td>HorizDistToRoad</td> <td>0.748   </td>\n",
       "        </tr>\n",
       "    </tbody>\n",
       "</table>"
      ],
      "text/plain": [
       "<IPython.core.display.HTML object>"
      ]
     },
     "metadata": {},
     "output_type": "display_data"
    },
    {
     "name": "stdout",
     "output_type": "stream",
     "text": [
      "\n"
     ]
    }
   ],
   "source": [
    "best_features = select_features(training, validation, 15)"
   ]
  },
  {
   "cell_type": "code",
   "execution_count": 12,
   "metadata": {
    "collapsed": false
   },
   "outputs": [
    {
     "data": {
      "text/html": [
       "<table border=\"1\" class=\"dataframe\">\n",
       "    <thead>\n",
       "        <tr>\n",
       "            <th>NumAttrs</th> <th>Attributes</th> <th>Accuracy</th>\n",
       "        </tr>\n",
       "    </thead>\n",
       "    <tbody>\n",
       "        <tr>\n",
       "            <td>1       </td> <td>Elevation                                </td> <td>0.746   </td>\n",
       "        </tr>\n",
       "    </tbody>\n",
       "        <tr>\n",
       "            <td>2       </td> <td>Elevation, HorizDistToWater              </td> <td>0.778   </td>\n",
       "        </tr>\n",
       "    </tbody>\n",
       "        <tr>\n",
       "            <td>3       </td> <td>Elevation, HorizDistToWater, Hillshade3pm</td> <td>0.788   </td>\n",
       "        </tr>\n",
       "    </tbody>\n",
       "</table>"
      ],
      "text/plain": [
       "NumAttrs | Attributes                                | Accuracy\n",
       "1        | Elevation                                 | 0.746\n",
       "2        | Elevation, HorizDistToWater               | 0.778\n",
       "3        | Elevation, HorizDistToWater, Hillshade3pm | 0.788"
      ]
     },
     "execution_count": 12,
     "metadata": {},
     "output_type": "execute_result"
    }
   ],
   "source": [
    "best_features"
   ]
  },
  {
   "cell_type": "markdown",
   "metadata": {},
   "source": [
    "As we can see, Elevation looks like far and away the most discriminative feature.  Assuming you have that, it also looks like the distance to water or a road might be a good second feature.  This suggests that these characteristics might play a role in the biology of which tree grows best, and thus might tell us something about the science."
   ]
  },
  {
   "cell_type": "markdown",
   "metadata": {},
   "source": [
    "## Hold-out sets: Training, Validation, Testing\n",
    "\n",
    "Suppose we built a predictor using just the best two features, Elevation and HorizDistToWater.  How accurate would we expect it to be, on new locations that we haven't tried yet?  74.6% accurate?  more?  less?  Why?\n",
    "\n",
    "The correct answer is: the same, or less.  It's the same issue we mentioned last lecture about testing on the training set.  We've tried multiple different approaches, and taken the best; if we then evaluate it on the same data set we used to select which is best, we will get a biased numbers -- an overestimate of the true accuracy.\n",
    "\n",
    "Why?  Here's an analogy.  Suppose the coach of the track team holds try-outs.  100 students try out, and he has them all run 800 meters and times them.  He picks the fastest student and has them represent us in their next track meet.  How do you think that student's performance in the next track meet will be, compared to their tryout?  Faster than in tryouts?  Slower than in tryouts?  Exactly the same?\n",
    "\n",
    "Well, if running was all skill and no luck, then the student's time would be exactly the same.  But there's also an element of randomness: some people do better, or worse, on any given day.  If it was all randomness, the coach would be picking the runner who got the luckiest in try-outs, not the runner who is the fastest, and at the meet that runner would almost certainly be slower than in tryouts -- their speed in the tryout is biased, not an accurate estimate of their future performance.  The same will tend to be true if performance is a mixture of skill and luck.\n",
    "\n",
    "And each combination of features we've tried out is like a runner.  We picked the combination that did the best in our trials, but there's an element of randomness there, so we might just be seeing random fluctuations rather than a combination that's truly better.\n",
    "\n",
    "The way to get an unbiased estimate of performance is the same as last lecture: get some more data; or set some aside in the beginning so we have more when we need it.  In this case, I set aside two extra chunks of data, a *validation* data set and a *test* data set.  I used the validation set to select a few best features.  Now we're going to measure the performance of this on the test set, just to see what happens."
   ]
  },
  {
   "cell_type": "code",
   "execution_count": 13,
   "metadata": {
    "collapsed": false
   },
   "outputs": [
    {
     "data": {
      "text/plain": [
       "0.746"
      ]
     },
     "execution_count": 13,
     "metadata": {},
     "output_type": "execute_result"
    }
   ],
   "source": [
    "evaluate_features(training, validation, ['Elevation'], 15)"
   ]
  },
  {
   "cell_type": "code",
   "execution_count": 14,
   "metadata": {
    "collapsed": false
   },
   "outputs": [
    {
     "data": {
      "text/plain": [
       "0.778"
      ]
     },
     "execution_count": 14,
     "metadata": {},
     "output_type": "execute_result"
    }
   ],
   "source": [
    "evaluate_features(training, validation, ['Elevation', 'HorizDistToWater'], 15)"
   ]
  },
  {
   "cell_type": "code",
   "execution_count": 16,
   "metadata": {
    "collapsed": false
   },
   "outputs": [
    {
     "data": {
      "text/plain": [
       "0.724"
      ]
     },
     "execution_count": 16,
     "metadata": {},
     "output_type": "execute_result"
    }
   ],
   "source": [
    "evaluate_features(training, test, ['Elevation'], 15)"
   ]
  },
  {
   "cell_type": "code",
   "execution_count": 17,
   "metadata": {
    "collapsed": false
   },
   "outputs": [
    {
     "data": {
      "text/plain": [
       "0.772"
      ]
     },
     "execution_count": 17,
     "metadata": {},
     "output_type": "execute_result"
    }
   ],
   "source": [
    "evaluate_features(training, test, ['Elevation', 'HorizDistToWater'], 15)"
   ]
  },
  {
   "cell_type": "markdown",
   "metadata": {},
   "source": [
    "Why do you think we see this difference?"
   ]
  },
  {
   "cell_type": "markdown",
   "metadata": {},
   "source": [
    "### Thought Questions\n",
    "\n",
    "Suppose that the top two attributes had been Elevation and HorizDistToRoad.  Interpret this for me.  What might this mean for the biology of trees?  One possible explanation is that the  distance to the nearest road affects what kind of tree grows; can you give any other possible explanations?\n",
    "\n",
    "Once we know the top two attributes are Elevation and HorizDistToWater, suppose we next wanted to know *how* they affect what kind of tree grows: e.g., does high elevation tend to favor spruce, or does it favor lodgepole pine?  How would you go about answering these kinds of questions?\n",
    "\n",
    "The scientists also gathered some more data that I left out, for simplicity: for each location, they also gathered what kind of soil it has, out of 40 different types.  The original data set had a column for soil type, with numbers from 1-40 indicating which of the 40 types of soil was present.  Suppose I wanted to include this among the other characteristics.  What would go wrong, and how could I fix it up?\n",
    "\n",
    "For this example we picked $k=15$ arbitrarily.  Suppose we wanted to pick the best value of $k$ -- the one that gives the best accuracy.  How could we go about doing that?  What are the pitfalls, and how could they be addressed?\n",
    "\n",
    "Suppose I wanted to use feature selection to help me adjust my online dating profile picture to get the most responses.  There are some characteristics I can't change (such as how handsome I am), and some I can (such as whether I smile or not).  How would I adjust the feature selection algorithm above to account for this?"
   ]
  }
 ],
 "metadata": {
  "kernelspec": {
   "display_name": "Python 3",
   "language": "python",
   "name": "python3"
  },
  "language_info": {
   "codemirror_mode": {
    "name": "ipython",
    "version": 3
   },
   "file_extension": ".py",
   "mimetype": "text/x-python",
   "name": "python",
   "nbconvert_exporter": "python",
   "pygments_lexer": "ipython3",
   "version": "3.4.3"
  }
 },
 "nbformat": 4,
 "nbformat_minor": 0
}
