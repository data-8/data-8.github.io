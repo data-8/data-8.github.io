{
 "cells": [
  {
   "cell_type": "code",
   "execution_count": 8,
   "metadata": {
    "collapsed": true
   },
   "outputs": [],
   "source": [
    "# HIDDEN\n",
    "from datascience import *\n",
    "%matplotlib inline\n",
    "\n",
    "import matplotlib.pyplot as plots\n",
    "from mpl_toolkits.mplot3d import Axes3D\n",
    "plots.style.use('fivethirtyeight')\n",
    "import pylab as pl\n",
    "import math\n",
    "from scipy import stats\n",
    "from scipy import misc\n",
    "import pandas as pd\n",
    "import statsmodels.api as sm\n",
    "import numpy as np"
   ]
  },
  {
   "cell_type": "code",
   "execution_count": 12,
   "metadata": {
    "collapsed": true
   },
   "outputs": [],
   "source": [
    "# HIDDEN\n",
    "\n",
    "# Functions from earlier in the chapter\n",
    "\n",
    "# Correlation coefficient\n",
    "\n",
    "def corr(table, column_A, column_B):\n",
    "    x = table[column_A]\n",
    "    y = table[column_B]\n",
    "    x_su = (x-np.mean(x))/np.std(x)\n",
    "    y_su = (y-np.mean(y))/np.std(y)\n",
    "    return np.mean(x_su*y_su)\n",
    "\n",
    "# Slope and intercept of regression line\n",
    "\n",
    "def regress(table, column_x, column_y):\n",
    "    r = corr(table, column_x, column_y)\n",
    "    reg_slope = r*np.std(table[column_y])/np.std(table[column_x])\n",
    "    reg_int = np.mean(table[column_y]) - reg_slope*np.mean(table[column_x])\n",
    "    return np.array([reg_slope, reg_int])\n",
    "\n",
    "# Fitted value at x\n",
    "\n",
    "def fit(table, column_x, column_y, x):\n",
    "    slope_int = regress(table, column_x, column_y)\n",
    "    return slope_int[0]*x + slope_int[1]\n",
    "\n",
    "# Fitted values for all points in the scatter\n",
    "\n",
    "def fitted_values(table, column_x, column_y):\n",
    "    slope_int = regress(table, column_x, column_y)\n",
    "    return slope_int[0]*table[column_x] + slope_int[1]\n",
    "\n",
    "# Scatter plot with fitted (regression) line\n",
    "\n",
    "def scatter_fit(table, column_x, column_y):\n",
    "    t = table\n",
    "    t['fit'] = fitted_values(table, column_x, column_y)\n",
    "    ts = t.sort(column_x)\n",
    "    plots.scatter(table[column_x], table[column_y], s=10)\n",
    "    plots.plot(ts[column_x], ts['fit'], lw=1, color='green')\n",
    "    plots.xlabel(column_x)\n",
    "    plots.ylabel(column_y)"
   ]
  },
  {
   "cell_type": "markdown",
   "metadata": {},
   "source": [
    "Now that we have explored ways to use multiple features to predict a categorical variable, it is natural to study ways of using multiple predictor variables to predict a quantitative variable. A commonly used method to do this is called *multiple regression*.\n",
    "\n",
    "We will start with an example to review some fundamental aspects of *simple* regression, that is, regression based on one predictor variable.\n",
    "\n",
    "### Example: Simple Regression\n",
    "\n",
    "Suppose that our goal is to use regression to estimate height based on weight, based on a sample that looks consistent with the regression model. Suppose the observed correlation $r$ is 0.5, and that the summary statistics for the two variables are as in the table below: \n",
    "\n",
    "|       |**average**    |**SD**     |   \n",
    "|------:|:-------------:|:---------:|\n",
    "|height |69 inches      |3 inches   |\n",
    "|weight |150 pounds     |20 pounds  |\n",
    "\n",
    "To calculate the equation of the regression line, we need the slope and the intercept.\n",
    "\n",
    "$$\n",
    "\\mbox{slope} ~=~ \\frac{r \\cdot \\mbox{SD of }y}{\\mbox{SD of }x} ~=~\n",
    "\\frac{0.5 \\cdot 3 \\mbox{ inches}}{20 \\mbox{ pounds}} ~=~ 0.075 ~\\mbox{inches per pound}\n",
    "$$\n",
    "\n",
    "\n",
    "$$\n",
    "\\mbox{intercept} ~=~ \\mbox{average of }y - \\mbox{slope}\\cdot \\mbox{average of } x\n",
    "~=~ 69 \\mbox{ inches} ~-~ 0.075 \\mbox{ inches per pound} \\cdot 150 \\mbox{ pounds}\n",
    "~=~ 57.75 \\mbox{ inches}\n",
    "$$\n",
    "\n",
    "The equation of the regression line allows us to calculate the estimated height, in inches,\n",
    "based on a given weight in pounds:\n",
    "\n",
    "$$\n",
    "\\mbox{estimated height} ~=~ 0.075 \\cdot \\mbox{given weight} ~+~ 57.75\n",
    "$$\n",
    "\n",
    "The slope of the line is measures the increase in the estimated height per unit increase in weight. The slope is positive, and it is important to note that this does not mean that we think people get taller if they put on weight. The slope reflects the difference in the average heights of two groups of people that are 1 pound apart in weight. Specifically, consider a group of people whose weight is $w$ pounds, and the group whose weight is $w+1$ pounds. The second group is estimated to be 0.075 inches taller, on average. This is true for all values of $w$ in the sample.\n",
    "\n",
    "In general, the slope of the regression line can be interpreted as the average increase in $y$ per unit increase in $x$. Note that if the slope is negative, then for every unit increase in $x$, the average of $y$ decreases."
   ]
  },
  {
   "cell_type": "markdown",
   "metadata": {},
   "source": [
    "### Multiple Predictors\n",
    "\n",
    "In multiple regression, more than one predictor variable is used to estimate $y$. For example, we might want to estimate blood pressure based on both weight and age. Then the multiple regression model would involve two slopes, an intercept, and random errors as before:\n",
    "\n",
    "blood pressure $~=~ \\mbox{slope}_w * \\mbox{weight} ~+~ \\mbox{slope}_a * \\mbox{age} ~+~ \\mbox{intercept} ~+~ \\mbox{random error}$\n",
    "\n",
    "Our goal would be to find the estimated blood pressure using the best estimates of the two slopes and the intercept; as before, the \"best\" estimates are those that minimize the mean squared error of estimation."
   ]
  },
  {
   "cell_type": "markdown",
   "metadata": {},
   "source": [
    "The mathematics of multiple regression is complicated, and Python code for multiple regression requires knowledge of data structures that we have not covered in this course. Therefore we will just examine output to note some important parallels and differences between multiple regression and simple regression.\n",
    "\n",
    "To start off, we will revisit the Hodgkin's disease data that we explored in our introduction to inference in simple regression. The table consists of data for a random sample of 22 patients. The variables are height in centimeters, a measure of radiation, a measure of chemotherapy, a baseline score on a test of the health of the lungs, and the score on the test taken 15 months after the treatment. It is apparent from the data that the scores tend to go down after 15 months; our goal will be to try to predict the drop in scores from baseline to 15 months, using combinations of the other variables."
   ]
  },
  {
   "cell_type": "code",
   "execution_count": 4,
   "metadata": {
    "collapsed": false
   },
   "outputs": [
    {
     "data": {
      "text/html": [
       "<table border=\"1\" class=\"dataframe\">\n",
       "    <thead>\n",
       "        <tr>\n",
       "            <th>height</th> <th>rad</th> <th>chemo</th> <th>base</th> <th>month15</th> <th>drop</th>\n",
       "        </tr>\n",
       "    </thead>\n",
       "    <tbody>\n",
       "        <tr>\n",
       "            <td>164   </td> <td>679 </td> <td>180  </td> <td>160.57</td> <td>87.77  </td> <td>72.8  </td>\n",
       "        </tr>\n",
       "    </tbody>\n",
       "        <tr>\n",
       "            <td>168   </td> <td>311 </td> <td>180  </td> <td>98.24 </td> <td>67.62  </td> <td>30.62 </td>\n",
       "        </tr>\n",
       "    </tbody>\n",
       "        <tr>\n",
       "            <td>173   </td> <td>388 </td> <td>239  </td> <td>129.04</td> <td>133.33 </td> <td>-4.29 </td>\n",
       "        </tr>\n",
       "    </tbody>\n",
       "        <tr>\n",
       "            <td>157   </td> <td>370 </td> <td>168  </td> <td>85.41 </td> <td>81.28  </td> <td>4.13  </td>\n",
       "        </tr>\n",
       "    </tbody>\n",
       "        <tr>\n",
       "            <td>160   </td> <td>468 </td> <td>151  </td> <td>67.94 </td> <td>79.26  </td> <td>-11.32</td>\n",
       "        </tr>\n",
       "    </tbody>\n",
       "        <tr>\n",
       "            <td>170   </td> <td>341 </td> <td>96   </td> <td>150.51</td> <td>80.97  </td> <td>69.54 </td>\n",
       "        </tr>\n",
       "    </tbody>\n",
       "        <tr>\n",
       "            <td>163   </td> <td>453 </td> <td>134  </td> <td>129.88</td> <td>69.24  </td> <td>60.64 </td>\n",
       "        </tr>\n",
       "    </tbody>\n",
       "        <tr>\n",
       "            <td>175   </td> <td>529 </td> <td>264  </td> <td>87.45 </td> <td>56.48  </td> <td>30.97 </td>\n",
       "        </tr>\n",
       "    </tbody>\n",
       "        <tr>\n",
       "            <td>185   </td> <td>392 </td> <td>240  </td> <td>149.84</td> <td>106.99 </td> <td>42.85 </td>\n",
       "        </tr>\n",
       "    </tbody>\n",
       "        <tr>\n",
       "            <td>178   </td> <td>479 </td> <td>216  </td> <td>92.24 </td> <td>73.43  </td> <td>18.81 </td>\n",
       "        </tr>\n",
       "    </tbody>\n",
       "</table>\n",
       "<p>... (12 rows omitted)</p"
      ],
      "text/plain": [
       "height | rad  | chemo | base   | month15 | drop\n",
       "164    | 679  | 180   | 160.57 | 87.77   | 72.8\n",
       "168    | 311  | 180   | 98.24  | 67.62   | 30.62\n",
       "173    | 388  | 239   | 129.04 | 133.33  | -4.29\n",
       "157    | 370  | 168   | 85.41  | 81.28   | 4.13\n",
       "160    | 468  | 151   | 67.94  | 79.26   | -11.32\n",
       "170    | 341  | 96    | 150.51 | 80.97   | 69.54\n",
       "163    | 453  | 134   | 129.88 | 69.24   | 60.64\n",
       "175    | 529  | 264   | 87.45  | 56.48   | 30.97\n",
       "185    | 392  | 240   | 149.84 | 106.99  | 42.85\n",
       "178    | 479  | 216   | 92.24  | 73.43   | 18.81\n",
       "... (12 rows omitted)"
      ]
     },
     "execution_count": 4,
     "metadata": {},
     "output_type": "execute_result"
    }
   ],
   "source": [
    "hodgkins = Table.read_table('hodgkins.csv')\n",
    "hodgkins['drop'] = hodgkins['base'] - hodgkins['month15']  # drop in scores after treatment\n",
    "hodgkins"
   ]
  },
  {
   "cell_type": "markdown",
   "metadata": {},
   "source": [
    "### Correlation Matrix\n",
    "\n",
    "A natural first step is to see which variables are correlated with the drop. Here is the correlation matrix. It is apparent that ``chemo`` and ``base`` are most highly correlated with ``drop``. Of course ``month15`` is correlated with ``drop`` as well, but we cannot use it for prediction because we will not have the value of that variable for a new patient."
   ]
  },
  {
   "cell_type": "code",
   "execution_count": 5,
   "metadata": {
    "collapsed": false
   },
   "outputs": [
    {
     "data": {
      "text/html": [
       "<div>\n",
       "<table border=\"1\" class=\"dataframe\">\n",
       "  <thead>\n",
       "    <tr style=\"text-align: right;\">\n",
       "      <th></th>\n",
       "      <th>height</th>\n",
       "      <th>rad</th>\n",
       "      <th>chemo</th>\n",
       "      <th>base</th>\n",
       "      <th>month15</th>\n",
       "      <th>drop</th>\n",
       "    </tr>\n",
       "  </thead>\n",
       "  <tbody>\n",
       "    <tr>\n",
       "      <th>height</th>\n",
       "      <td>1.000000</td>\n",
       "      <td>-0.305206</td>\n",
       "      <td>0.576825</td>\n",
       "      <td>0.354229</td>\n",
       "      <td>0.390527</td>\n",
       "      <td>0.043394</td>\n",
       "    </tr>\n",
       "    <tr>\n",
       "      <th>rad</th>\n",
       "      <td>-0.305206</td>\n",
       "      <td>1.000000</td>\n",
       "      <td>-0.003739</td>\n",
       "      <td>0.096432</td>\n",
       "      <td>0.040616</td>\n",
       "      <td>0.073453</td>\n",
       "    </tr>\n",
       "    <tr>\n",
       "      <th>chemo</th>\n",
       "      <td>0.576825</td>\n",
       "      <td>-0.003739</td>\n",
       "      <td>1.000000</td>\n",
       "      <td>0.062187</td>\n",
       "      <td>0.445788</td>\n",
       "      <td>-0.346310</td>\n",
       "    </tr>\n",
       "    <tr>\n",
       "      <th>base</th>\n",
       "      <td>0.354229</td>\n",
       "      <td>0.096432</td>\n",
       "      <td>0.062187</td>\n",
       "      <td>1.000000</td>\n",
       "      <td>0.561371</td>\n",
       "      <td>0.630183</td>\n",
       "    </tr>\n",
       "    <tr>\n",
       "      <th>month15</th>\n",
       "      <td>0.390527</td>\n",
       "      <td>0.040616</td>\n",
       "      <td>0.445788</td>\n",
       "      <td>0.561371</td>\n",
       "      <td>1.000000</td>\n",
       "      <td>-0.288794</td>\n",
       "    </tr>\n",
       "    <tr>\n",
       "      <th>drop</th>\n",
       "      <td>0.043394</td>\n",
       "      <td>0.073453</td>\n",
       "      <td>-0.346310</td>\n",
       "      <td>0.630183</td>\n",
       "      <td>-0.288794</td>\n",
       "      <td>1.000000</td>\n",
       "    </tr>\n",
       "  </tbody>\n",
       "</table>\n",
       "</div>"
      ],
      "text/plain": [
       "           height       rad     chemo      base   month15      drop\n",
       "height   1.000000 -0.305206  0.576825  0.354229  0.390527  0.043394\n",
       "rad     -0.305206  1.000000 -0.003739  0.096432  0.040616  0.073453\n",
       "chemo    0.576825 -0.003739  1.000000  0.062187  0.445788 -0.346310\n",
       "base     0.354229  0.096432  0.062187  1.000000  0.561371  0.630183\n",
       "month15  0.390527  0.040616  0.445788  0.561371  1.000000 -0.288794\n",
       "drop     0.043394  0.073453 -0.346310  0.630183 -0.288794  1.000000"
      ]
     },
     "execution_count": 5,
     "metadata": {},
     "output_type": "execute_result"
    }
   ],
   "source": [
    "# HIDDEN\n",
    "\n",
    "df_hodgkins = pd.read_csv('hodgkins.csv')\n",
    "df_hodgkins['drop'] = df_hodgkins['base'] - df_hodgkins['month15']\n",
    "\n",
    "df_hodgkins.corr()"
   ]
  },
  {
   "cell_type": "markdown",
   "metadata": {},
   "source": [
    "To start off, let us perform the simple regression of ``drop`` on just ``base``, the baseline score. Here is the scatter diagram and regression line, produced using the function ``scatter_fit`` that we defined earlier in the course. You can see that the regression model fits reasonably well."
   ]
  },
  {
   "cell_type": "code",
   "execution_count": 12,
   "metadata": {
    "collapsed": false
   },
   "outputs": [
    {
     "data": {
      "image/png": "[encoded data removed]",
      "text/plain": [
       "<matplotlib.figure.Figure at 0x109cb2390>"
      ]
     },
     "metadata": {},
     "output_type": "display_data"
    }
   ],
   "source": [
    "scatter_fit(hodgkins, 'base', 'drop')"
   ]
  },
  {
   "cell_type": "markdown",
   "metadata": {},
   "source": [
    "The regression output that we have seen thus far has been rather straightforward, based on code that we wrote as a collection of straightfoward functions. The output display below is produced by Python and is very similar to regression output produced by many statistical systems: they contain a large number of summary statistics, many of which are not needed for getting a solid initial grasp of the results.\n",
    "\n",
    "We will ignore the third display table altogether, and focus on the first two.\n",
    "\n",
    "In the top table, much of the left hand side is self-explanatory. \"OLS\" stands for \"ordinary least squares,\" which is a name for our regression model. You can ignore \"Df Residuals\" for now, and also \"Covariance Type,\" but note the \"Df Model\" simply gives the number of predictor variables. It is 1 because we have just one predictor, ``base``.\n",
    "\n",
    "We will ignore all of the right hand side of the table other than \"R-squared\". According to the correlation matrix above, the correlation between ``drop`` and ``base`` is just over 0.63; square than number to get 0.397. We will come back to this quantity, to see how its definition can be extended in the case of multiple regression. "
   ]
  },
  {
   "cell_type": "code",
   "execution_count": 6,
   "metadata": {
    "collapsed": false
   },
   "outputs": [
    {
     "data": {
      "text/html": [
       "<table class=\"simpletable\">\n",
       "<caption>OLS Regression Results</caption>\n",
       "<tr>\n",
       "  <th>Dep. Variable:</th>          <td>drop</td>       <th>  R-squared:         </th> <td>   0.397</td>\n",
       "</tr>\n",
       "<tr>\n",
       "  <th>Model:</th>                   <td>OLS</td>       <th>  Adj. R-squared:    </th> <td>   0.367</td>\n",
       "</tr>\n",
       "<tr>\n",
       "  <th>Method:</th>             <td>Least Squares</td>  <th>  F-statistic:       </th> <td>   13.17</td>\n",
       "</tr>\n",
       "<tr>\n",
       "  <th>Date:</th>             <td>Sat, 05 Dec 2015</td> <th>  Prob (F-statistic):</th>  <td>0.00167</td>\n",
       "</tr>\n",
       "<tr>\n",
       "  <th>Time:</th>                 <td>14:47:05</td>     <th>  Log-Likelihood:    </th> <td> -92.947</td>\n",
       "</tr>\n",
       "<tr>\n",
       "  <th>No. Observations:</th>      <td>    22</td>      <th>  AIC:               </th> <td>   189.9</td>\n",
       "</tr>\n",
       "<tr>\n",
       "  <th>Df Residuals:</th>          <td>    20</td>      <th>  BIC:               </th> <td>   192.1</td>\n",
       "</tr>\n",
       "<tr>\n",
       "  <th>Df Model:</th>              <td>     1</td>      <th>                     </th>     <td> </td>   \n",
       "</tr>\n",
       "<tr>\n",
       "  <th>Covariance Type:</th>      <td>nonrobust</td>    <th>                     </th>     <td> </td>   \n",
       "</tr>\n",
       "</table>\n",
       "<table class=\"simpletable\">\n",
       "<tr>\n",
       "    <td></td>       <th>coef</th>     <th>std err</th>      <th>t</th>      <th>P>|t|</th> <th>[95.0% Conf. Int.]</th> \n",
       "</tr>\n",
       "<tr>\n",
       "  <th>const</th> <td>  -32.1721</td> <td>   17.151</td> <td>   -1.876</td> <td> 0.075</td> <td>  -67.949     3.604</td>\n",
       "</tr>\n",
       "<tr>\n",
       "  <th>base</th>  <td>    0.5447</td> <td>    0.150</td> <td>    3.630</td> <td> 0.002</td> <td>    0.232     0.858</td>\n",
       "</tr>\n",
       "</table>\n",
       "<table class=\"simpletable\">\n",
       "<tr>\n",
       "  <th>Omnibus:</th>       <td> 1.133</td> <th>  Durbin-Watson:     </th> <td>   1.774</td>\n",
       "</tr>\n",
       "<tr>\n",
       "  <th>Prob(Omnibus):</th> <td> 0.568</td> <th>  Jarque-Bera (JB):  </th> <td>   0.484</td>\n",
       "</tr>\n",
       "<tr>\n",
       "  <th>Skew:</th>          <td>-0.362</td> <th>  Prob(JB):          </th> <td>   0.785</td>\n",
       "</tr>\n",
       "<tr>\n",
       "  <th>Kurtosis:</th>      <td> 3.069</td> <th>  Cond. No.          </th> <td>    530.</td>\n",
       "</tr>\n",
       "</table>"
      ],
      "text/plain": [
       "<class 'statsmodels.iolib.summary.Summary'>\n",
       "\"\"\"\n",
       "                            OLS Regression Results                            \n",
       "==============================================================================\n",
       "Dep. Variable:                   drop   R-squared:                       0.397\n",
       "Model:                            OLS   Adj. R-squared:                  0.367\n",
       "Method:                 Least Squares   F-statistic:                     13.17\n",
       "Date:                Sat, 05 Dec 2015   Prob (F-statistic):            0.00167\n",
       "Time:                        14:47:05   Log-Likelihood:                -92.947\n",
       "No. Observations:                  22   AIC:                             189.9\n",
       "Df Residuals:                      20   BIC:                             192.1\n",
       "Df Model:                           1                                         \n",
       "Covariance Type:            nonrobust                                         \n",
       "==============================================================================\n",
       "                 coef    std err          t      P>|t|      [95.0% Conf. Int.]\n",
       "------------------------------------------------------------------------------\n",
       "const        -32.1721     17.151     -1.876      0.075       -67.949     3.604\n",
       "base           0.5447      0.150      3.630      0.002         0.232     0.858\n",
       "==============================================================================\n",
       "Omnibus:                        1.133   Durbin-Watson:                   1.774\n",
       "Prob(Omnibus):                  0.568   Jarque-Bera (JB):                0.484\n",
       "Skew:                          -0.362   Prob(JB):                        0.785\n",
       "Kurtosis:                       3.069   Cond. No.                         530.\n",
       "==============================================================================\n",
       "\n",
       "Warnings:\n",
       "[1] Standard Errors assume that the covariance matrix of the errors is correctly specified.\n",
       "\"\"\""
      ]
     },
     "execution_count": 6,
     "metadata": {},
     "output_type": "execute_result"
    }
   ],
   "source": [
    "# HIDDEN\n",
    "\n",
    "x = df_hodgkins[['base']]\n",
    "y = df_hodgkins['drop']\n",
    "x = sm.add_constant(x)\n",
    "est = sm.OLS(y, x).fit()\n",
    "est.summary()"
   ]
  },
  {
   "cell_type": "markdown",
   "metadata": {},
   "source": [
    "The \"coef\" column of the second table provides the intercept and slope of the regression line:\n",
    "\n",
    "$$\n",
    "\\mbox{estimate of drop} ~=~ 0.5447 \\cdot \\mbox{base} ~-~ 32.1721\n",
    "$$\n",
    "\n",
    "The results for the slope and intercept are the same as what we would get based on our familiar methods for calculating those quantities:"
   ]
  },
  {
   "cell_type": "code",
   "execution_count": 36,
   "metadata": {
    "collapsed": false
   },
   "outputs": [
    {
     "data": {
      "text/plain": [
       "0.54472722699276954"
      ]
     },
     "execution_count": 36,
     "metadata": {},
     "output_type": "execute_result"
    }
   ],
   "source": [
    "slope = 0.630183*np.std(hodgkins['drop'])/np.std(hodgkins['base'])\n",
    "slope"
   ]
  },
  {
   "cell_type": "code",
   "execution_count": 37,
   "metadata": {
    "collapsed": false
   },
   "outputs": [
    {
     "data": {
      "text/plain": [
       "-32.172182995494026"
      ]
     },
     "execution_count": 37,
     "metadata": {},
     "output_type": "execute_result"
    }
   ],
   "source": [
    "intercept = np.mean(hodgkins['drop']) - slope*np.mean(hodgkins['base'])\n",
    "intercept"
   ]
  },
  {
   "cell_type": "markdown",
   "metadata": {},
   "source": [
    "Notice the interval (0.232, 0.858), which is labeled to be a 95% confidence interval for the slope. Our method for computing such an interval would be to bootstrap the scatter diagram many times, compute the slope of the regression line, each time, draw the empirical histogram of the slopes, and pick off the central 95% interval. The interval in the display above has been computed using mathematical formulae for the endpoints; our bootstrap intervals are likely to be very close.\n",
    "\n",
    "Note also that the interval does not contain 0. We can therefore conclude, at least with 95% confidence, that the slope of the true line is not 0; in other words, there is a genuine linear trend in the relation between ``drop`` and ``base``. \n",
    "\n",
    "The other columns of the second table address the question of whether the true slope is 0. We will return to those later, but in practical terms they are essentially redundant because of the information in the confidence intervals."
   ]
  },
  {
   "cell_type": "markdown",
   "metadata": {},
   "source": [
    "**Definition of $R^2$, consistent with our old $r^2$**\n",
    "\n",
    "When we studied simple regression, we had noted that \n",
    "\n",
    "$$\n",
    "r ~=~ \\frac{\\mbox{SD of fitted values of }y}{\\mbox{SD of observed values of } y}\n",
    "$$\n",
    "\n",
    "Let us use our old functions to compute the fitted values and confirm that this is true for our example:"
   ]
  },
  {
   "cell_type": "code",
   "execution_count": 38,
   "metadata": {
    "collapsed": false
   },
   "outputs": [
    {
     "data": {
      "text/plain": [
       "0.63018263544448383"
      ]
     },
     "execution_count": 38,
     "metadata": {},
     "output_type": "execute_result"
    }
   ],
   "source": [
    "fitted = fitted_values(hodgkins, 'base', 'drop')\n",
    "np.std(fitted)/np.std(hodgkins['drop'])"
   ]
  },
  {
   "cell_type": "markdown",
   "metadata": {},
   "source": [
    "Because variance is the square of the standard deviation, we can say that\n",
    "\n",
    "$$\n",
    "0.397 ~=~r^2 ~=~ \\frac{\\mbox{variance of fitted values of }y}{\\mbox{variance of observed values of }y}\n",
    "$$"
   ]
  },
  {
   "cell_type": "markdown",
   "metadata": {},
   "source": [
    "Notice that this way of thinking about $r^2$ involves only the estimated values and the observed values, *not the number of predictor variables*. Therefore, it motivates the definition of *multiple $R^2$*:\n",
    "\n",
    "$$\n",
    "R^2 ~=~ \\frac{\\mbox{variance of fitted values of }y}{\\mbox{variance of observed values of }y}\n",
    "$$\n",
    "\n",
    "It is a fact of mathematics that this quantity is always between 0 and 1. With multiple predictor variables, there is no clear interpretation of a sign attached to the square root of $R^2$. Some of the predictors might be positively associated with $y$, others negatively. An overall measure of the fit is provided by $R^2$. In the examples below, we will address the question of whether or not it is a good idea to try to get the biggest possible value of $R^2$."
   ]
  },
  {
   "cell_type": "markdown",
   "metadata": {},
   "source": [
    "### Multiple regression of the drop in scores, using baseline and chemo as predictors\n",
    "\n",
    "We are now well placed to peform and interpret the multiple regression of ``drop`` based on ``chemo`` and ``base`` as the predictors. Here is a graph that demonstrates the results. The scatter plot is now three dimensional, with the response variable ``drop`` plotted on the vertical axis. The fitted values all lie on the green plane. Some of the points are above the plane, some below. The mean squared distance between the points and this plane is the smallest among all planes."
   ]
  },
  {
   "cell_type": "code",
   "execution_count": 9,
   "metadata": {
    "collapsed": false
   },
   "outputs": [
    {
     "data": {
      "text/plain": [
       "<matplotlib.text.Text at 0x10a5d1898>"
      ]
     },
     "execution_count": 9,
     "metadata": {},
     "output_type": "execute_result"
    },
    {
     "data": {
      "image/png": "[encoded data removed]",
      "text/plain": [
       "<matplotlib.figure.Figure at 0x109f27908>"
      ]
     },
     "metadata": {},
     "output_type": "display_data"
    }
   ],
   "source": [
    "# HIDDEN\n",
    "\n",
    "x = df_hodgkins[['base', 'chemo']]\n",
    "y = df_hodgkins['drop']\n",
    "x = sm.add_constant(x)\n",
    "est = sm.OLS(y, x).fit()\n",
    "\n",
    "fig = plots.figure(figsize=(10,10))\n",
    "ax = plots.axes(projection='3d')\n",
    "ax.scatter(xs=hodgkins['base'], ys=hodgkins['chemo'], zs=hodgkins['drop'], zdir='z')\n",
    "x = np.arange(50,200,10)\n",
    "y = np.arange(80,300,10)\n",
    "x,y = np.meshgrid(x,y)\n",
    "z = 0.5655*x - 0.1898*y + 0.9992\n",
    "ax.plot_surface(x,y,z,alpha=0.15,color='g')\n",
    "ax.view_init(elev=32,azim=330)\n",
    "ax.set_xlabel('base')\n",
    "ax.set_ylabel('chemo')\n",
    "ax.set_zlabel('drop', rotation=90)"
   ]
  },
  {
   "cell_type": "markdown",
   "metadata": {},
   "source": [
    "The numerical results are displayed below. Notice the \"Df Model\", the number of predictors, has risen from 1 to 2. The regression equation, to be used for estimation and prediction, is\n",
    "\n",
    "$$\n",
    "\\mbox{estimated drop} ~=~ 0.5655 \\cdot \\mbox{base} ~-~ 0.1898 \\cdot \\mbox{chemo} ~+~ 0.992\n",
    "$$\n",
    "\n",
    "There is now a 95% confidence interval for each of the two true slopes; neither of the intervals contains 0. \n",
    "\n",
    "To understand what the slope means when there are multiple predictors, keep in mind that the slope corresponding to a predictor is the estimated increase in $y$ per unit change in that predictor, *provided all the other predictors are held constant*. To see whether it is actually reasonable to consider increasing ``base`` by while holding ``chemo`` constant, it is necessary to examine the relation between ``base`` and ``chemo``: if they are highly correlated, you can't change one without also changing the other. In fact, the correlation between ``base`` and ``chemo`` is only about 0.06, which is very small. So for example the slope of -0.1898 for ``chemo`` can be interpreted as the average increase (actually a decrease) in ``drop`` per unit change in ``chemo`` provided ``base`` is held constant."
   ]
  },
  {
   "cell_type": "markdown",
   "metadata": {},
   "source": [
    "As defined earlier in this section, the value of $R^2$ is the ratio of the variance of the fitted values and the variance of the observed values of ``drop``. Now $R^2$ is almost 0.55, noticeably higher than its value of roughly 0.4 in the simple regression of ``drop`` on ``base`` alone. "
   ]
  },
  {
   "cell_type": "code",
   "execution_count": 10,
   "metadata": {
    "collapsed": false
   },
   "outputs": [
    {
     "data": {
      "text/html": [
       "<table class=\"simpletable\">\n",
       "<caption>OLS Regression Results</caption>\n",
       "<tr>\n",
       "  <th>Dep. Variable:</th>          <td>drop</td>       <th>  R-squared:         </th> <td>   0.546</td>\n",
       "</tr>\n",
       "<tr>\n",
       "  <th>Model:</th>                   <td>OLS</td>       <th>  Adj. R-squared:    </th> <td>   0.499</td>\n",
       "</tr>\n",
       "<tr>\n",
       "  <th>Method:</th>             <td>Least Squares</td>  <th>  F-statistic:       </th> <td>   11.44</td>\n",
       "</tr>\n",
       "<tr>\n",
       "  <th>Date:</th>             <td>Sat, 05 Dec 2015</td> <th>  Prob (F-statistic):</th> <td>0.000548</td>\n",
       "</tr>\n",
       "<tr>\n",
       "  <th>Time:</th>                 <td>14:51:00</td>     <th>  Log-Likelihood:    </th> <td> -89.820</td>\n",
       "</tr>\n",
       "<tr>\n",
       "  <th>No. Observations:</th>      <td>    22</td>      <th>  AIC:               </th> <td>   185.6</td>\n",
       "</tr>\n",
       "<tr>\n",
       "  <th>Df Residuals:</th>          <td>    19</td>      <th>  BIC:               </th> <td>   188.9</td>\n",
       "</tr>\n",
       "<tr>\n",
       "  <th>Df Model:</th>              <td>     2</td>      <th>                     </th>     <td> </td>   \n",
       "</tr>\n",
       "<tr>\n",
       "  <th>Covariance Type:</th>      <td>nonrobust</td>    <th>                     </th>     <td> </td>   \n",
       "</tr>\n",
       "</table>\n",
       "<table class=\"simpletable\">\n",
       "<tr>\n",
       "    <td></td>       <th>coef</th>     <th>std err</th>      <th>t</th>      <th>P>|t|</th> <th>[95.0% Conf. Int.]</th> \n",
       "</tr>\n",
       "<tr>\n",
       "  <th>const</th> <td>    0.9992</td> <td>   20.227</td> <td>    0.049</td> <td> 0.961</td> <td>  -41.336    43.335</td>\n",
       "</tr>\n",
       "<tr>\n",
       "  <th>base</th>  <td>    0.5655</td> <td>    0.134</td> <td>    4.226</td> <td> 0.000</td> <td>    0.285     0.846</td>\n",
       "</tr>\n",
       "<tr>\n",
       "  <th>chemo</th> <td>   -0.1898</td> <td>    0.076</td> <td>   -2.500</td> <td> 0.022</td> <td>   -0.349    -0.031</td>\n",
       "</tr>\n",
       "</table>\n",
       "<table class=\"simpletable\">\n",
       "<tr>\n",
       "  <th>Omnibus:</th>       <td> 0.853</td> <th>  Durbin-Watson:     </th> <td>   1.781</td>\n",
       "</tr>\n",
       "<tr>\n",
       "  <th>Prob(Omnibus):</th> <td> 0.653</td> <th>  Jarque-Bera (JB):  </th> <td>   0.368</td>\n",
       "</tr>\n",
       "<tr>\n",
       "  <th>Skew:</th>          <td>-0.317</td> <th>  Prob(JB):          </th> <td>   0.832</td>\n",
       "</tr>\n",
       "<tr>\n",
       "  <th>Kurtosis:</th>      <td> 2.987</td> <th>  Cond. No.          </th> <td>1.36e+03</td>\n",
       "</tr>\n",
       "</table>"
      ],
      "text/plain": [
       "<class 'statsmodels.iolib.summary.Summary'>\n",
       "\"\"\"\n",
       "                            OLS Regression Results                            \n",
       "==============================================================================\n",
       "Dep. Variable:                   drop   R-squared:                       0.546\n",
       "Model:                            OLS   Adj. R-squared:                  0.499\n",
       "Method:                 Least Squares   F-statistic:                     11.44\n",
       "Date:                Sat, 05 Dec 2015   Prob (F-statistic):           0.000548\n",
       "Time:                        14:51:00   Log-Likelihood:                -89.820\n",
       "No. Observations:                  22   AIC:                             185.6\n",
       "Df Residuals:                      19   BIC:                             188.9\n",
       "Df Model:                           2                                         \n",
       "Covariance Type:            nonrobust                                         \n",
       "==============================================================================\n",
       "                 coef    std err          t      P>|t|      [95.0% Conf. Int.]\n",
       "------------------------------------------------------------------------------\n",
       "const          0.9992     20.227      0.049      0.961       -41.336    43.335\n",
       "base           0.5655      0.134      4.226      0.000         0.285     0.846\n",
       "chemo         -0.1898      0.076     -2.500      0.022        -0.349    -0.031\n",
       "==============================================================================\n",
       "Omnibus:                        0.853   Durbin-Watson:                   1.781\n",
       "Prob(Omnibus):                  0.653   Jarque-Bera (JB):                0.368\n",
       "Skew:                          -0.317   Prob(JB):                        0.832\n",
       "Kurtosis:                       2.987   Cond. No.                     1.36e+03\n",
       "==============================================================================\n",
       "\n",
       "Warnings:\n",
       "[1] Standard Errors assume that the covariance matrix of the errors is correctly specified.\n",
       "[2] The condition number is large, 1.36e+03. This might indicate that there are\n",
       "strong multicollinearity or other numerical problems.\n",
       "\"\"\""
      ]
     },
     "execution_count": 10,
     "metadata": {},
     "output_type": "execute_result"
    }
   ],
   "source": [
    "# HIDDEN\n",
    "\n",
    "est.summary()"
   ]
  },
  {
   "cell_type": "markdown",
   "metadata": {},
   "source": [
    "It is a fact of mathematics that $R^2$ will increase if you include more predictor variables (unless they are perfectly uncorrelated with $y$). It is tempting, therefore, to include as many predictors as possible. However, this is not always useful, as can be seen if we regress ``drop`` on ``base``, ``chemo``, and ``height``. The value of $R^2$ does increase, but by a very small amount; the 95% confidence interval for the slope of ``height`` contains 0; in any case, since ``height`` is correlated with both ``base`` and ``chemo``, it is hard to intrepret any of the individual slopes. Therefore it is not an overall gain to include ``height`` as a predictor.\n",
    "\n",
    "The quantity \"Adj. R-squared\" is a version of $R^2$ that has carries a penalty for using too many predictor variables. We will not go into the mathematics of this statistic. Just note that its value is 0.499 for the regression on the two predictors ``base`` and ``chemo``, but it drops to 0.473 when ``height`` is included as well. A drop in the adjusted $R^2$ is often used as an indication that some of the predictors should not be used."
   ]
  },
  {
   "cell_type": "code",
   "execution_count": 11,
   "metadata": {
    "collapsed": false
   },
   "outputs": [
    {
     "data": {
      "text/html": [
       "<table class=\"simpletable\">\n",
       "<caption>OLS Regression Results</caption>\n",
       "<tr>\n",
       "  <th>Dep. Variable:</th>          <td>drop</td>       <th>  R-squared:         </th> <td>   0.548</td>\n",
       "</tr>\n",
       "<tr>\n",
       "  <th>Model:</th>                   <td>OLS</td>       <th>  Adj. R-squared:    </th> <td>   0.473</td>\n",
       "</tr>\n",
       "<tr>\n",
       "  <th>Method:</th>             <td>Least Squares</td>  <th>  F-statistic:       </th> <td>   7.288</td>\n",
       "</tr>\n",
       "<tr>\n",
       "  <th>Date:</th>             <td>Sat, 05 Dec 2015</td> <th>  Prob (F-statistic):</th>  <td>0.00212</td>\n",
       "</tr>\n",
       "<tr>\n",
       "  <th>Time:</th>                 <td>14:51:10</td>     <th>  Log-Likelihood:    </th> <td> -89.768</td>\n",
       "</tr>\n",
       "<tr>\n",
       "  <th>No. Observations:</th>      <td>    22</td>      <th>  AIC:               </th> <td>   187.5</td>\n",
       "</tr>\n",
       "<tr>\n",
       "  <th>Df Residuals:</th>          <td>    18</td>      <th>  BIC:               </th> <td>   191.9</td>\n",
       "</tr>\n",
       "<tr>\n",
       "  <th>Df Model:</th>              <td>     3</td>      <th>                     </th>     <td> </td>   \n",
       "</tr>\n",
       "<tr>\n",
       "  <th>Covariance Type:</th>      <td>nonrobust</td>    <th>                     </th>     <td> </td>   \n",
       "</tr>\n",
       "</table>\n",
       "<table class=\"simpletable\">\n",
       "<tr>\n",
       "     <td></td>       <th>coef</th>     <th>std err</th>      <th>t</th>      <th>P>|t|</th> <th>[95.0% Conf. Int.]</th> \n",
       "</tr>\n",
       "<tr>\n",
       "  <th>const</th>  <td>  -22.8397</td> <td>   84.026</td> <td>   -0.272</td> <td> 0.789</td> <td> -199.372   153.693</td>\n",
       "</tr>\n",
       "<tr>\n",
       "  <th>base</th>   <td>    0.5485</td> <td>    0.149</td> <td>    3.681</td> <td> 0.002</td> <td>    0.235     0.862</td>\n",
       "</tr>\n",
       "<tr>\n",
       "  <th>chemo</th>  <td>   -0.2066</td> <td>    0.097</td> <td>   -2.135</td> <td> 0.047</td> <td>   -0.410    -0.003</td>\n",
       "</tr>\n",
       "<tr>\n",
       "  <th>height</th> <td>    0.1677</td> <td>    0.573</td> <td>    0.293</td> <td> 0.773</td> <td>   -1.035     1.371</td>\n",
       "</tr>\n",
       "</table>\n",
       "<table class=\"simpletable\">\n",
       "<tr>\n",
       "  <th>Omnibus:</th>       <td> 0.604</td> <th>  Durbin-Watson:     </th> <td>   1.766</td>\n",
       "</tr>\n",
       "<tr>\n",
       "  <th>Prob(Omnibus):</th> <td> 0.739</td> <th>  Jarque-Bera (JB):  </th> <td>   0.227</td>\n",
       "</tr>\n",
       "<tr>\n",
       "  <th>Skew:</th>          <td>-0.248</td> <th>  Prob(JB):          </th> <td>   0.893</td>\n",
       "</tr>\n",
       "<tr>\n",
       "  <th>Kurtosis:</th>      <td> 2.954</td> <th>  Cond. No.          </th> <td>6.97e+03</td>\n",
       "</tr>\n",
       "</table>"
      ],
      "text/plain": [
       "<class 'statsmodels.iolib.summary.Summary'>\n",
       "\"\"\"\n",
       "                            OLS Regression Results                            \n",
       "==============================================================================\n",
       "Dep. Variable:                   drop   R-squared:                       0.548\n",
       "Model:                            OLS   Adj. R-squared:                  0.473\n",
       "Method:                 Least Squares   F-statistic:                     7.288\n",
       "Date:                Sat, 05 Dec 2015   Prob (F-statistic):            0.00212\n",
       "Time:                        14:51:10   Log-Likelihood:                -89.768\n",
       "No. Observations:                  22   AIC:                             187.5\n",
       "Df Residuals:                      18   BIC:                             191.9\n",
       "Df Model:                           3                                         \n",
       "Covariance Type:            nonrobust                                         \n",
       "==============================================================================\n",
       "                 coef    std err          t      P>|t|      [95.0% Conf. Int.]\n",
       "------------------------------------------------------------------------------\n",
       "const        -22.8397     84.026     -0.272      0.789      -199.372   153.693\n",
       "base           0.5485      0.149      3.681      0.002         0.235     0.862\n",
       "chemo         -0.2066      0.097     -2.135      0.047        -0.410    -0.003\n",
       "height         0.1677      0.573      0.293      0.773        -1.035     1.371\n",
       "==============================================================================\n",
       "Omnibus:                        0.604   Durbin-Watson:                   1.766\n",
       "Prob(Omnibus):                  0.739   Jarque-Bera (JB):                0.227\n",
       "Skew:                          -0.248   Prob(JB):                        0.893\n",
       "Kurtosis:                       2.954   Cond. No.                     6.97e+03\n",
       "==============================================================================\n",
       "\n",
       "Warnings:\n",
       "[1] Standard Errors assume that the covariance matrix of the errors is correctly specified.\n",
       "[2] The condition number is large, 6.97e+03. This might indicate that there are\n",
       "strong multicollinearity or other numerical problems.\n",
       "\"\"\""
      ]
     },
     "execution_count": 11,
     "metadata": {},
     "output_type": "execute_result"
    }
   ],
   "source": [
    "# HIDDEN \n",
    "\n",
    "x = df_hodgkins[['base', 'chemo', 'height']]\n",
    "y = df_hodgkins['drop']\n",
    "x = sm.add_constant(x)\n",
    "est = sm.OLS(y, x).fit()\n",
    "est.summary()"
   ]
  }
 ],
 "metadata": {
  "kernelspec": {
   "display_name": "Python 3",
   "language": "python",
   "name": "python3"
  },
  "language_info": {
   "codemirror_mode": {
    "name": "ipython",
    "version": 3
   },
   "file_extension": ".py",
   "mimetype": "text/x-python",
   "name": "python",
   "nbconvert_exporter": "python",
   "pygments_lexer": "ipython3",
   "version": "3.4.3"
  }
 },
 "nbformat": 4,
 "nbformat_minor": 0
}
