{
 "cells": [
  {
   "cell_type": "code",
   "execution_count": 1,
   "metadata": {
    "collapsed": true
   },
   "outputs": [],
   "source": [
    "# HIDDEN\n",
    "from datascience import *\n",
    "%matplotlib inline\n",
    "import matplotlib.pyplot as plots\n",
    "plots.style.use('fivethirtyeight')\n",
    "import pylab as pl"
   ]
  },
  {
   "cell_type": "code",
   "execution_count": 2,
   "metadata": {
    "collapsed": false
   },
   "outputs": [
    {
     "data": {
      "text/html": [
       "<table border=\"1\" class=\"dataframe\">\n",
       "    <thead>\n",
       "        <tr>\n",
       "            <th>mar_status_code</th> <th>gender_code</th> <th>rel_rating_code</th> <th>age</th> <th>mar_status</th> <th>gender</th> <th>rel_rating</th> <th>count</th> <th>high_rating</th>\n",
       "        </tr>\n",
       "    </thead>\n",
       "    <tbody>\n",
       "        <tr>\n",
       "            <td>1              </td> <td>1          </td> <td>1              </td> <td>51  </td> <td>married   </td> <td>male  </td> <td>very satisfied    </td> <td>1    </td> <td>True       </td>\n",
       "        </tr>\n",
       "    </tbody>\n",
       "        <tr>\n",
       "            <td>1              </td> <td>2          </td> <td>1              </td> <td>53  </td> <td>married   </td> <td>female</td> <td>very satisfied    </td> <td>1    </td> <td>True       </td>\n",
       "        </tr>\n",
       "    </tbody>\n",
       "        <tr>\n",
       "            <td>1              </td> <td>1          </td> <td>1              </td> <td>57  </td> <td>married   </td> <td>male  </td> <td>very satisfied    </td> <td>1    </td> <td>True       </td>\n",
       "        </tr>\n",
       "    </tbody>\n",
       "        <tr>\n",
       "            <td>1              </td> <td>2          </td> <td>1              </td> <td>57  </td> <td>married   </td> <td>female</td> <td>very satisfied    </td> <td>1    </td> <td>True       </td>\n",
       "        </tr>\n",
       "    </tbody>\n",
       "        <tr>\n",
       "            <td>1              </td> <td>1          </td> <td>1              </td> <td>60  </td> <td>married   </td> <td>male  </td> <td>very satisfied    </td> <td>1    </td> <td>True       </td>\n",
       "        </tr>\n",
       "    </tbody>\n",
       "        <tr>\n",
       "            <td>1              </td> <td>2          </td> <td>1              </td> <td>57  </td> <td>married   </td> <td>female</td> <td>very satisfied    </td> <td>1    </td> <td>True       </td>\n",
       "        </tr>\n",
       "    </tbody>\n",
       "        <tr>\n",
       "            <td>1              </td> <td>1          </td> <td>1              </td> <td>62  </td> <td>married   </td> <td>male  </td> <td>very satisfied    </td> <td>1    </td> <td>True       </td>\n",
       "        </tr>\n",
       "    </tbody>\n",
       "        <tr>\n",
       "            <td>1              </td> <td>2          </td> <td>1              </td> <td>59  </td> <td>married   </td> <td>female</td> <td>very satisfied    </td> <td>1    </td> <td>True       </td>\n",
       "        </tr>\n",
       "    </tbody>\n",
       "        <tr>\n",
       "            <td>1              </td> <td>1          </td> <td>2              </td> <td>53  </td> <td>married   </td> <td>male  </td> <td>somewhat satisfied</td> <td>1    </td> <td>False      </td>\n",
       "        </tr>\n",
       "    </tbody>\n",
       "        <tr>\n",
       "            <td>1              </td> <td>2          </td> <td>2              </td> <td>61  </td> <td>married   </td> <td>female</td> <td>somewhat satisfied</td> <td>1    </td> <td>False      </td>\n",
       "        </tr>\n",
       "    </tbody>\n",
       "</table>\n",
       "<p>... (2058 rows omitted)</p"
      ],
      "text/plain": [
       "<Table(9 rows): | mar_status_code | gender_code | rel_rating_code | age | mar_status | gender | rel_rating | count | high_rating |>"
      ]
     },
     "execution_count": 2,
     "metadata": {},
     "output_type": "execute_result"
    }
   ],
   "source": [
    "# HIDDEN\n",
    "\n",
    "columns = ['mar_status', 'gender', 'rel_rating', 'age']\n",
    "couples = Table.read_table('married_couples.csv').select(columns)\n",
    "\n",
    "def describe(column, descriptions):\n",
    "    \"\"\"Relabel a column of codes and add a column of descriptions\"\"\"\n",
    "    code = column + '_code'\n",
    "    couples.relabel(column, code)\n",
    "    couples[column] = np.choose(couples[code]-1, descriptions)\n",
    "    \n",
    "describe('mar_status', ['married', 'partner'])\n",
    "describe('gender', ['male', 'female'])\n",
    "describe('rel_rating', [\n",
    "    'very satisfied', \n",
    "    'somewhat satisfied', \n",
    "    'neither satisfied nor dissatisfied', \n",
    "    'somewhat dissatisfied', \n",
    "    'very dissatisfied', \n",
    "])\n",
    "couples['count'] = 1\n",
    "couples['high_rating'] = couples['rel_rating'] == 'very satisfied'\n",
    "couples"
   ]
  },
  {
   "cell_type": "code",
   "execution_count": 3,
   "metadata": {
    "collapsed": true
   },
   "outputs": [],
   "source": [
    "# HIDDEN \n",
    "\n",
    "def permutation_stat(original, conditions, values, stat):\n",
    "    repetitions=1600\n",
    "    test_stats = []\n",
    "\n",
    "    for i in np.arange(repetitions):\n",
    "        shuffled = original.sample()\n",
    "        combined = Table([original[conditions], shuffled[values]], \n",
    "                         [conditions, values])\n",
    "        test_stats.append(stat(combined, conditions, values))\n",
    "\n",
    "    observation = stat(original, conditions, values)\n",
    "    p_value = np.count_nonzero(test_stats >= observation) / repetitions\n",
    "    \n",
    "    print(\"Observed value of test statistic:\", observation)\n",
    "    print(\"Empirical P value:\", p_value)\n",
    "    t = Table([test_stats], ['Empirical dist. of test statistic under null'])\n",
    "    t.hist(normed=True)"
   ]
  },
  {
   "cell_type": "code",
   "execution_count": 4,
   "metadata": {
    "collapsed": true
   },
   "outputs": [],
   "source": [
    "# HIDDEN\n",
    "\n",
    "def abs_diff_in_means(t, conditions, values):\n",
    "    \"\"\"Compute the difference in the mean of values for conditions 1 & 2.\"\"\"\n",
    "    a = t.where(conditions, True)[values]\n",
    "    b = t.where(conditions, False)[values]\n",
    "    return abs(np.mean(a)-np.mean(b))\n",
    "\n",
    "def diff_in_means(t, conditions, values):\n",
    "    \"\"\"Compute the difference in the mean of values for conditions 1 & 2.\"\"\"\n",
    "    a = t.where(conditions, True)[values]\n",
    "    b = t.where(conditions, False)[values]\n",
    "    return np.mean(a)-np.mean(b)"
   ]
  },
  {
   "cell_type": "markdown",
   "metadata": {},
   "source": [
    "The function ``permutation_stat`` performs the test, this time using ``abs_diff_in_means`` to compute the test statistic. The empirical P-value is in the 4% to 6% range. It is reasonable to conclude that the test gives no clear signal about whether the two underlying distributions are different; in such a situation, the conservative conclusion is that there is not enough justification to reject the null hypothesis in favor of the alternative.\n",
    "\n",
    "What the test does reveal, however, is that the empirical distribution of the test statistic – the absolute difference between the two sample means – has a recognizable shape. It resembles one half of a bell. If you reflect the histogram about the vertical axis, the two pieces together will look like a bell."
   ]
  },
  {
   "cell_type": "code",
   "execution_count": 5,
   "metadata": {
    "collapsed": false
   },
   "outputs": [
    {
     "name": "stdout",
     "output_type": "stream",
     "text": [
      "Observed value of test statistic: 1.07431900488\n",
      "Empirical P value: 0.041875\n"
     ]
    },
    {
     "data": {
      "image/png": "[encoded data removed]",
      "text/plain": [
       "<matplotlib.figure.Figure at 0x107f90748>"
      ]
     },
     "metadata": {},
     "output_type": "display_data"
    }
   ],
   "source": [
    "permutation_stat(couples, 'high_rating', 'age', abs_diff_in_means)"
   ]
  },
  {
   "cell_type": "markdown",
   "metadata": {},
   "source": [
    "To explore this observation further, we will run the permutation test again, this time using the difference between the means (without the absolute value) as our test statistic. To be consistent about the sign of the difference, we will compute the difference as \"mean age of Group 1 - mean age of Group 2,\" where Group 1 comprises the people who give the highest rating and Group 2 the people who don't. The observed value of this new test statistic is still about 1.07 (the sign is positive), because Group 1 in the sample is on average older than Group 2.\n",
    "\n",
    "The empirical distribution of the new test statistic looks like a bell. The surface of the bell is a bit rough, and the bell has a few dents here and there, but it is recognizably a bell."
   ]
  },
  {
   "cell_type": "code",
   "execution_count": 6,
   "metadata": {
    "collapsed": false
   },
   "outputs": [
    {
     "name": "stdout",
     "output_type": "stream",
     "text": [
      "Observed value of test statistic: 1.07431900488\n",
      "Empirical P value: 0.02\n"
     ]
    },
    {
     "data": {
      "image/png": "[encoded data removed]",
      "text/plain": [
       "<matplotlib.figure.Figure at 0x107f904a8>"
      ]
     },
     "metadata": {},
     "output_type": "display_data"
    }
   ],
   "source": [
    "permutation_stat(couples, 'high_rating', 'age', diff_in_means)"
   ]
  },
  {
   "cell_type": "markdown",
   "metadata": {},
   "source": [
    "The bell curve, formally known as the *normal curve*, is one of the fundamental distributions of probability theory and statistics. It arises principally in connection with probability distributions of the means of large random samples. We will discuss this more fully in later sections.\n",
    "\n",
    "For now, observe that because the empirical distribution of the difference in means is roughly symmetric, the proportion to the right of 1.07 is about the same as the proportion to the left of -1.07. Therefore, multiplying the P-value by 2 gives an answer that is very close to the P-value of the previous test – the one that used the absolute difference in means as its test statistic. Indeed, if you fold the bell about the vertical axis and stack each bar above its reflection, you will get a histogram that looks very much like the tall \"half bell\" of the previous test."
   ]
  },
  {
   "cell_type": "markdown",
   "metadata": {},
   "source": [
    "**One-tailed and two-tailed tests.**\n",
    "\n",
    "In classical statistics, tests of hypotheses using sample means typically involve calculating P-values using the bell shaped curve rather than the \"folded over\" version. If you read a classical analysis, you might see the term \"one-tailed test\" used to describe the situation in which the P-value is computed as the proportion in one tail of the bell. A \"two-tailed test\" uses the total proportion in two equal tails, and is thus equivalent to the test we conducted using the folded-over bell.\n",
    "\n",
    "But as you have seen, in practical terms the tests are essentially equivalent. If you know the P-value of one, you can calculate the P-value of the other. Just be aware that sometimes, as in our examples above, the one-tailed test might give a statistically significant result while the two-tailed test does not. Such results are not contradictory – they merely point out a difficulty in rigid adherence to a fixed cutoff determining \"small\" values of P."
   ]
  },
  {
   "cell_type": "markdown",
   "metadata": {},
   "source": [
    "The Probability Distribution of a Sample Mean\n",
    "------------------------------------------\n",
    "\n",
    "Means of large random samples have a wonderful property that is at the heart of much statistical inference: their probability distributions are roughly bell shaped. This property allows us to determine how variable a random sample mean could be, *based on just one sample*, without any simulation at all. \n",
    "\n",
    "To see why this is important, consider the basis on which we have been conducting our simulations of repeated sampling.\n",
    "\n",
    "For repeated sampling to be feasible, we need to know what to resample from. The null hypothesis specifies the chance model. In the jury panel examples, the populations of eligible jurors were known, and the null hypothesis said that the panels were drawn at random. So we simulated random sampling from the known distributions of eligible jurors. In the case of marital status and employment status, the null hypothesis allowed us to compare married and unmarried people by randomizing them into the different employment categories.\n",
    "\n",
    "But what if the situation does not allow either of these two options? For example, suppose we have just one random sample of California households this year, and are trying to see whether the average annual household income in California exceeds $61,000, which was roughly the average annual income in California last year. How can we replicate the sampling procedure? The underlying distribution of the population is unknown (indeed, its mean is what we're trying to get at), and there is no other sample to which we can compare ours.\n",
    "\n",
    "One way to solve this problem is to avoid replication entirely, and use other methods to approximate the probability distribution of the test statistic. If the test statistic is a sample mean, the theory of probability and statistics tells us that its probability distribution will be roughly bell shaped if the sample is large, no matter what the distribution of the underlying population looks like. This powerful result not only allows us to make inferences when replication is not straightforward, it also illuminates some important general properties of large random samples.\n"
   ]
  },
  {
   "cell_type": "markdown",
   "metadata": {},
   "source": [
    "This chapter will help us understand all of this better. We will start by examining some fundamental properties of means."
   ]
  },
  {
   "cell_type": "markdown",
   "metadata": {},
   "source": [
    "###Properties of the mean\n",
    "\n",
    "**Definition**: The *average* or *mean* of a list of numbers is the sum of all the numbers in the list, divided by the number of entries in the list.\n",
    "\n",
    "In this course, we will use the words \"average\" and \"mean\" interchangeably.\n",
    "\n",
    "**Computation**: We have computed means in two different ways. One is the Table method ``mean()``, and the other is the ``numPy`` function ``np.mean``. Here we use these two ways to calculate the average age of the people in our random sample of couples.  "
   ]
  },
  {
   "cell_type": "code",
   "execution_count": 7,
   "metadata": {
    "collapsed": false
   },
   "outputs": [
    {
     "data": {
      "text/html": [
       "<table border=\"1\" class=\"dataframe\">\n",
       "    <thead>\n",
       "        <tr>\n",
       "            <th>age</th>\n",
       "        </tr>\n",
       "    </thead>\n",
       "    <tbody>\n",
       "        <tr>\n",
       "            <td>43.1654</td>\n",
       "        </tr>\n",
       "    </tbody>\n",
       "</table>"
      ],
      "text/plain": [
       "<Table(1 rows): | age |>"
      ]
     },
     "execution_count": 7,
     "metadata": {},
     "output_type": "execute_result"
    }
   ],
   "source": [
    "# From a table\n",
    "\n",
    "couples.select('age').mean()"
   ]
  },
  {
   "cell_type": "code",
   "execution_count": 8,
   "metadata": {
    "collapsed": false
   },
   "outputs": [
    {
     "data": {
      "text/plain": [
       "43.165377176015475"
      ]
     },
     "execution_count": 8,
     "metadata": {},
     "output_type": "execute_result"
    }
   ],
   "source": [
    "# From an array\n",
    "\n",
    "np.mean(couples['age'])"
   ]
  },
  {
   "cell_type": "markdown",
   "metadata": {},
   "source": [
    "We can, of course, just compute the mean by directly applying its definition. Let's do this for a list ``x_list`` consisting of 15 elements."
   ]
  },
  {
   "cell_type": "code",
   "execution_count": 9,
   "metadata": {
    "collapsed": false
   },
   "outputs": [
    {
     "data": {
      "text/plain": [
       "3.3333333333333335"
      ]
     },
     "execution_count": 9,
     "metadata": {},
     "output_type": "execute_result"
    }
   ],
   "source": [
    "# The data: a list of numbers\n",
    "\n",
    "x_list = [4, 4, 4, 5, 5, 5, 2, 2, 2, 2, 3, 3, 3, 3, 3 ]\n",
    "\n",
    "# The average, computed from the list\n",
    "\n",
    "sum(x_list)/len(x_list)"
   ]
  },
  {
   "cell_type": "markdown",
   "metadata": {},
   "source": [
    "The calculation shows that the average of ``x_list`` is $3 \\frac{1}{3}$. But it also makes us wonder whether the calculation can be simplified by using the fact that there are only four distinct values in the list: 4, 5, 2, and 3. When we add up all the entries to get the numerator of the average, we can collect all the terms correpsonding to each distinct value, and save ourselves some addition:"
   ]
  },
  {
   "cell_type": "code",
   "execution_count": 10,
   "metadata": {
    "collapsed": false
   },
   "outputs": [
    {
     "data": {
      "text/plain": [
       "3.3333333333333335"
      ]
     },
     "execution_count": 10,
     "metadata": {},
     "output_type": "execute_result"
    }
   ],
   "source": [
    "(4*3 + 5*3 + 2*4 + 3*5)/15"
   ]
  },
  {
   "cell_type": "markdown",
   "metadata": {},
   "source": [
    "Distributing the division by 15 across all the terms in the numerator shows that we can calculate the average in terms of the distinct values and the proportions in which they appear:"
   ]
  },
  {
   "cell_type": "code",
   "execution_count": 11,
   "metadata": {
    "collapsed": false
   },
   "outputs": [
    {
     "data": {
      "text/plain": [
       "3.3333333333333335"
      ]
     },
     "execution_count": 11,
     "metadata": {},
     "output_type": "execute_result"
    }
   ],
   "source": [
    "4*(3/15) + 5*(3/15) + 2*(4/15) + 3*(5/15)"
   ]
  },
  {
   "cell_type": "markdown",
   "metadata": {},
   "source": [
    "###The Average and the Histogram\n",
    "\n",
    "We have just seen that the average of a list depends only on the distinct values and their proportions. In other words, the average is a property of the distribution of distinct values in the list.\n",
    "\n",
    "Here is ``x_list`` represented as a distribution table ``x_dist``. The average can be calculated by multiplying the ``value`` column by ``prop`` and then adding the results."
   ]
  },
  {
   "cell_type": "code",
   "execution_count": 12,
   "metadata": {
    "collapsed": false
   },
   "outputs": [
    {
     "data": {
      "text/html": [
       "<table border=\"1\" class=\"dataframe\">\n",
       "    <thead>\n",
       "        <tr>\n",
       "            <th>value</th> <th>count</th> <th>prop</th>\n",
       "        </tr>\n",
       "    </thead>\n",
       "    <tbody>\n",
       "        <tr>\n",
       "            <td>2    </td> <td>4    </td> <td>0.266667</td>\n",
       "        </tr>\n",
       "    </tbody>\n",
       "        <tr>\n",
       "            <td>3    </td> <td>5    </td> <td>0.333333</td>\n",
       "        </tr>\n",
       "    </tbody>\n",
       "        <tr>\n",
       "            <td>4    </td> <td>3    </td> <td>0.2     </td>\n",
       "        </tr>\n",
       "    </tbody>\n",
       "        <tr>\n",
       "            <td>5    </td> <td>3    </td> <td>0.2     </td>\n",
       "        </tr>\n",
       "    </tbody>\n",
       "</table>"
      ],
      "text/plain": [
       "<Table(3 rows): | value | count | prop |>"
      ]
     },
     "execution_count": 12,
     "metadata": {},
     "output_type": "execute_result"
    }
   ],
   "source": [
    "x_dist = Table.from_rows([[2, 4], [3, 5], [4, 3], [5, 3]], ['value', 'count'])\n",
    "x_dist['prop'] = x_dist['count']/sum(x_dist['count'])\n",
    "\n",
    "# the distribution table\n",
    "x_dist"
   ]
  },
  {
   "cell_type": "code",
   "execution_count": 13,
   "metadata": {
    "collapsed": false
   },
   "outputs": [
    {
     "data": {
      "text/plain": [
       "3.333333333333333"
      ]
     },
     "execution_count": 13,
     "metadata": {},
     "output_type": "execute_result"
    }
   ],
   "source": [
    "sum(x_dist['value']*x_dist['prop'])"
   ]
  },
  {
   "cell_type": "markdown",
   "metadata": {},
   "source": [
    "**Another way to think about the mean**. The mean of a list is the *weighted* average of the *distinct* values, where the *weights are the proportions* in which those values appear.\n",
    "\n",
    "Physically, this implies that **the average is the balance point of the histogram**. Here is the histogram of the distribution. Imagine that it is made out of cardboard and that you are trying to balance the cardboard figure at a point on the horizontal axis. The average of $3 \\frac{1}{3}$ is where the figure will balance. \n",
    "\n",
    "To understand why that is, you will have to study some physics. Balance points, or centers of gravity, can be calculated in exactly the way we calculated the mean from the distribution table."
   ]
  },
  {
   "cell_type": "code",
   "execution_count": 14,
   "metadata": {
    "collapsed": false
   },
   "outputs": [
    {
     "data": {
      "image/png": "[encoded data removed]",
      "text/plain": [
       "<matplotlib.figure.Figure at 0x107f94b00>"
      ]
     },
     "metadata": {},
     "output_type": "display_data"
    }
   ],
   "source": [
    "x_dist.select(['value', 'prop']).hist(counts='value', bins=np.arange(1.5, 5.6, 1), normed=True)"
   ]
  },
  {
   "cell_type": "markdown",
   "metadata": {},
   "source": [
    "###Summary of Basic Properties of the Mean\n",
    "These properties follow from the calculation; we have observed most of them in our examples above.\n",
    "\n",
    "- The mean has the same units as the list. \n",
    "- The mean is somewhere in between the smallest and largest value on the list. \n",
    "- The mean depends only on the distribution (distinct values and proportions), not on the number of entries in the list.\n",
    "- The mean is the balance point of the histogram."
   ]
  },
  {
   "cell_type": "markdown",
   "metadata": {},
   "source": [
    "###The Average and the Median\n",
    "\n",
    "Now that we know that the mean is the balance point of the histogram, it is interesting to look at how it is related to the median, which is the \"half-way point\" of the sorted data. \n",
    "\n",
    "In terms of the histogram, we would like to compare the balance point to the point that has 50% of the area of the histogram on either side of it.\n",
    "\n",
    "The relationship is easy to see in a simple example. Here is the list 1, 2, 2, 3, represented as a distribution table ``sym`` for \"symmetric\"."
   ]
  },
  {
   "cell_type": "code",
   "execution_count": 15,
   "metadata": {
    "collapsed": false
   },
   "outputs": [
    {
     "data": {
      "text/html": [
       "<table border=\"1\" class=\"dataframe\">\n",
       "    <thead>\n",
       "        <tr>\n",
       "            <th>x</th> <th>dist</th>\n",
       "        </tr>\n",
       "    </thead>\n",
       "    <tbody>\n",
       "        <tr>\n",
       "            <td>1   </td> <td>0.25</td>\n",
       "        </tr>\n",
       "    </tbody>\n",
       "        <tr>\n",
       "            <td>2   </td> <td>0.5 </td>\n",
       "        </tr>\n",
       "    </tbody>\n",
       "        <tr>\n",
       "            <td>3   </td> <td>0.25</td>\n",
       "        </tr>\n",
       "    </tbody>\n",
       "</table>"
      ],
      "text/plain": [
       "<Table(2 rows): | x | dist |>"
      ]
     },
     "execution_count": 15,
     "metadata": {},
     "output_type": "execute_result"
    }
   ],
   "source": [
    "sym = Table([[1,2,3],[0.25,0.5,0.25]], ['x', 'dist'])\n",
    "sym"
   ]
  },
  {
   "cell_type": "markdown",
   "metadata": {},
   "source": [
    "The histogram (or a calculation) shows that the average and median are both 2."
   ]
  },
  {
   "cell_type": "code",
   "execution_count": 16,
   "metadata": {
    "collapsed": false
   },
   "outputs": [
    {
     "data": {
      "text/plain": [
       "<matplotlib.text.Text at 0x1081447f0>"
      ]
     },
     "execution_count": 16,
     "metadata": {},
     "output_type": "execute_result"
    },
    {
     "data": {
      "image/png": "[encoded data removed]",
      "text/plain": [
       "<matplotlib.figure.Figure at 0x1081572b0>"
      ]
     },
     "metadata": {},
     "output_type": "display_data"
    }
   ],
   "source": [
    "sym.hist(counts='x', bins=np.arange(0.5, 10.6, 1), normed=True,)\n",
    "pl.xlabel(\"value\")"
   ]
  },
  {
   "cell_type": "markdown",
   "metadata": {},
   "source": [
    "In general, for **symmetric distributions**, the mean and the median are equal.\n",
    "\n",
    "What if the distribution is not symmetric? We will explore this by making a change in the histogram above: we will take the bar at the value 3 and slide it over to the value 10."
   ]
  },
  {
   "cell_type": "code",
   "execution_count": 17,
   "metadata": {
    "collapsed": false
   },
   "outputs": [
    {
     "data": {
      "text/html": [
       "<table border=\"1\" class=\"dataframe\">\n",
       "    <thead>\n",
       "        <tr>\n",
       "            <th>x</th> <th>dist1</th> <th>dist2</th>\n",
       "        </tr>\n",
       "    </thead>\n",
       "    <tbody>\n",
       "        <tr>\n",
       "            <td>1   </td> <td>0.25 </td> <td>0.25 </td>\n",
       "        </tr>\n",
       "    </tbody>\n",
       "        <tr>\n",
       "            <td>2   </td> <td>0.5  </td> <td>0.5  </td>\n",
       "        </tr>\n",
       "    </tbody>\n",
       "        <tr>\n",
       "            <td>3   </td> <td>0.25 </td> <td>0    </td>\n",
       "        </tr>\n",
       "    </tbody>\n",
       "        <tr>\n",
       "            <td>10  </td> <td>0    </td> <td>0.25 </td>\n",
       "        </tr>\n",
       "    </tbody>\n",
       "</table>"
      ],
      "text/plain": [
       "<Table(3 rows): | x | dist1 | dist2 |>"
      ]
     },
     "execution_count": 17,
     "metadata": {},
     "output_type": "execute_result"
    }
   ],
   "source": [
    "# Average versus median:\n",
    "# Balance point versus 50% point\n",
    "\n",
    "slide = Table([[1,2,3,10], [0.25, 0.5, 0.25, 0], [0.25, 0.5, 0, 0.25]], \n",
    "               ['x', 'dist1', 'dist2'])\n",
    "slide"
   ]
  },
  {
   "cell_type": "code",
   "execution_count": 18,
   "metadata": {
    "collapsed": false
   },
   "outputs": [
    {
     "data": {
      "image/png": "[encoded data removed]",
      "text/plain": [
       "<matplotlib.figure.Figure at 0x10817d8d0>"
      ]
     },
     "metadata": {},
     "output_type": "display_data"
    }
   ],
   "source": [
    "slide.hist(counts='x', overlay=True, bins=np.arange(0.5, 10.6, 1), normed=True)"
   ]
  },
  {
   "cell_type": "markdown",
   "metadata": {},
   "source": [
    "The yellow histogram represents the original distribution; the blue histogram starts out the same as the yellow at the left end, but its rightmost bar has slid over to the value 10. \n",
    "\n",
    "The median and mean of the yellow distribution are both equal to 2. The median of the blue distribution is also equal to 2; the area on either side of 2 is still 50%, though the right half is distributed differently from the left. \n",
    "\n",
    "But the mean of the blue distribution is not 2: the blue histogram would not balance at 2. The balance point has shifted to the right:"
   ]
  },
  {
   "cell_type": "code",
   "execution_count": 19,
   "metadata": {
    "collapsed": false
   },
   "outputs": [
    {
     "data": {
      "text/plain": [
       "3.75"
      ]
     },
     "execution_count": 19,
     "metadata": {},
     "output_type": "execute_result"
    }
   ],
   "source": [
    "sum(slide['x']*slide['dist2'])"
   ]
  },
  {
   "cell_type": "markdown",
   "metadata": {},
   "source": [
    "In general, if the **histogram has a tail on one side** (the formal term is \"skewed\"), then the mean is pulled away from the median in the direction of the tail.\n",
    "\n",
    "We have seen an example of a distribution with a right-hand tail: the box office gross receipts (in millions of dollars) of the highest grossing movies over the past couple of decades:"
   ]
  },
  {
   "cell_type": "code",
   "execution_count": 20,
   "metadata": {
    "collapsed": true
   },
   "outputs": [],
   "source": [
    "imdb = Table.read_table('imdb.csv')"
   ]
  },
  {
   "cell_type": "code",
   "execution_count": 21,
   "metadata": {
    "collapsed": false,
    "scrolled": true
   },
   "outputs": [],
   "source": [
    "box_office = imdb.select('in_millions').relabel('in_millions', 'mill$')"
   ]
  },
  {
   "cell_type": "code",
   "execution_count": 22,
   "metadata": {
    "collapsed": false
   },
   "outputs": [
    {
     "data": {
      "image/png": "[encoded data removed]",
      "text/plain": [
       "<matplotlib.figure.Figure at 0x1081c3e80>"
      ]
     },
     "metadata": {},
     "output_type": "display_data"
    }
   ],
   "source": [
    "box_office.hist(bins=20, normed=True)"
   ]
  },
  {
   "cell_type": "markdown",
   "metadata": {},
   "source": [
    "The mean gets pulled away from the median in the direction of the tail. So we expect the mean to be larger than the median, and that is indeed the case:"
   ]
  },
  {
   "cell_type": "code",
   "execution_count": 23,
   "metadata": {
    "collapsed": false
   },
   "outputs": [
    {
     "data": {
      "text/plain": [
       "143.61838400000002"
      ]
     },
     "execution_count": 23,
     "metadata": {},
     "output_type": "execute_result"
    }
   ],
   "source": [
    "np.median(box_office['mill$'])"
   ]
  },
  {
   "cell_type": "code",
   "execution_count": 24,
   "metadata": {
    "collapsed": false
   },
   "outputs": [
    {
     "data": {
      "text/plain": [
       "174.29050139234451"
      ]
     },
     "execution_count": 24,
     "metadata": {},
     "output_type": "execute_result"
    }
   ],
   "source": [
    "np.mean(box_office['mill$'])"
   ]
  },
  {
   "cell_type": "markdown",
   "metadata": {},
   "source": [
    "**Another example.** Distributions of incomes often have right hand tails. For example, most households in the United States have low to moderate annual incomes, and a small number have extremely large annual incomes by comparison. In other words, the distribution of annual household incomes in the United States has a long right hand tail. So the mean income is greater than the median; the mean is affected by the small number of very large incomes, whereas the median is not. That is why the median is used more frequently than the mean in summaries of income distributions."
   ]
  },
  {
   "cell_type": "markdown",
   "metadata": {},
   "source": [
    "###The Rough Size of Deviations from Average\n",
    "\n",
    "As we have seen, inferences based on test statistics depend on how those statistics vary across samples. It is therefore important to be able to quantify the variability in any list of numbers. One way is to create a measure of the difference between the values on a list and the average of the list.\n",
    "\n",
    "We will start by defining such a measure in the context of a simple list of just four numbers."
   ]
  },
  {
   "cell_type": "code",
   "execution_count": 25,
   "metadata": {
    "collapsed": false
   },
   "outputs": [
    {
     "data": {
      "text/html": [
       "<table border=\"1\" class=\"dataframe\">\n",
       "    <thead>\n",
       "        <tr>\n",
       "            <th>values</th>\n",
       "        </tr>\n",
       "    </thead>\n",
       "    <tbody>\n",
       "        <tr>\n",
       "            <td>1     </td>\n",
       "        </tr>\n",
       "    </tbody>\n",
       "        <tr>\n",
       "            <td>2     </td>\n",
       "        </tr>\n",
       "    </tbody>\n",
       "        <tr>\n",
       "            <td>2     </td>\n",
       "        </tr>\n",
       "    </tbody>\n",
       "        <tr>\n",
       "            <td>10    </td>\n",
       "        </tr>\n",
       "    </tbody>\n",
       "</table>"
      ],
      "text/plain": [
       "<Table(1 rows): | values |>"
      ]
     },
     "execution_count": 25,
     "metadata": {},
     "output_type": "execute_result"
    }
   ],
   "source": [
    "toy = Table([[1, 2, 2, 10]], ['values'])\n",
    "toy"
   ]
  },
  {
   "cell_type": "markdown",
   "metadata": {},
   "source": [
    "The goal is to get a measure of roughly how far off the numbers in the list are from the average. To do this, we need the average, and all the deviations from the average. A \"deviation from average\" is just a value minus the average."
   ]
  },
  {
   "cell_type": "code",
   "execution_count": 26,
   "metadata": {
    "collapsed": false
   },
   "outputs": [
    {
     "data": {
      "text/plain": [
       "3.75"
      ]
     },
     "execution_count": 26,
     "metadata": {},
     "output_type": "execute_result"
    }
   ],
   "source": [
    "# Step 1. The average.\n",
    "\n",
    "np.mean(toy['values'])"
   ]
  },
  {
   "cell_type": "code",
   "execution_count": 27,
   "metadata": {
    "collapsed": false
   },
   "outputs": [
    {
     "data": {
      "text/html": [
       "<table border=\"1\" class=\"dataframe\">\n",
       "    <thead>\n",
       "        <tr>\n",
       "            <th>values</th> <th>dev_from_ave</th>\n",
       "        </tr>\n",
       "    </thead>\n",
       "    <tbody>\n",
       "        <tr>\n",
       "            <td>1     </td> <td>-2.75       </td>\n",
       "        </tr>\n",
       "    </tbody>\n",
       "        <tr>\n",
       "            <td>2     </td> <td>-1.75       </td>\n",
       "        </tr>\n",
       "    </tbody>\n",
       "        <tr>\n",
       "            <td>2     </td> <td>-1.75       </td>\n",
       "        </tr>\n",
       "    </tbody>\n",
       "        <tr>\n",
       "            <td>10    </td> <td>6.25        </td>\n",
       "        </tr>\n",
       "    </tbody>\n",
       "</table>"
      ],
      "text/plain": [
       "<Table(2 rows): | values | dev_from_ave |>"
      ]
     },
     "execution_count": 27,
     "metadata": {},
     "output_type": "execute_result"
    }
   ],
   "source": [
    "# Step 2. The deviations from average.\n",
    "\n",
    "toy['dev_from_ave'] = toy['values'] - np.mean(toy['values'])\n",
    "toy"
   ]
  },
  {
   "cell_type": "markdown",
   "metadata": {},
   "source": [
    "Some of the deviations are negative; those correspond to values that are below average. Positive deviations correspond to above-average values.\n",
    "\n",
    "To calculate roughly how big the deviations are, it is natural to compute the mean of the deviations. But something interesting happens when all the deviations are added together:"
   ]
  },
  {
   "cell_type": "code",
   "execution_count": 28,
   "metadata": {
    "collapsed": false
   },
   "outputs": [
    {
     "data": {
      "text/plain": [
       "0.0"
      ]
     },
     "execution_count": 28,
     "metadata": {},
     "output_type": "execute_result"
    }
   ],
   "source": [
    "sum(toy['dev_from_ave'])"
   ]
  },
  {
   "cell_type": "markdown",
   "metadata": {},
   "source": [
    "The positive deviations exactly cancel out the negative ones. This is true of all lists of numbers: the sum of the deviations from average is zero. We saw this kind of property earlier, when we were defining total variation distance. \n",
    "\n",
    "Since the sum of the deviations is 0, the mean of the deviations will be 0 as well:"
   ]
  },
  {
   "cell_type": "code",
   "execution_count": 29,
   "metadata": {
    "collapsed": false
   },
   "outputs": [
    {
     "data": {
      "text/plain": [
       "0.0"
      ]
     },
     "execution_count": 29,
     "metadata": {},
     "output_type": "execute_result"
    }
   ],
   "source": [
    "np.mean(toy['dev_from_ave'])"
   ]
  },
  {
   "cell_type": "markdown",
   "metadata": {},
   "source": [
    "So the mean of the deviations is not a useful measure of the size of the deviations. What we want to know is roughly how big the deviations are, regardless of whether they are positive or negative. So we eliminate the signs by squaring all the deviations; then we take the mean of the squares:"
   ]
  },
  {
   "cell_type": "code",
   "execution_count": 30,
   "metadata": {
    "collapsed": false
   },
   "outputs": [
    {
     "data": {
      "text/html": [
       "<table border=\"1\" class=\"dataframe\">\n",
       "    <thead>\n",
       "        <tr>\n",
       "            <th>values</th> <th>dev_from_ave</th> <th>sq_dev_from_ave</th>\n",
       "        </tr>\n",
       "    </thead>\n",
       "    <tbody>\n",
       "        <tr>\n",
       "            <td>1     </td> <td>-2.75       </td> <td>7.5625         </td>\n",
       "        </tr>\n",
       "    </tbody>\n",
       "        <tr>\n",
       "            <td>2     </td> <td>-1.75       </td> <td>3.0625         </td>\n",
       "        </tr>\n",
       "    </tbody>\n",
       "        <tr>\n",
       "            <td>2     </td> <td>-1.75       </td> <td>3.0625         </td>\n",
       "        </tr>\n",
       "    </tbody>\n",
       "        <tr>\n",
       "            <td>10    </td> <td>6.25        </td> <td>39.0625        </td>\n",
       "        </tr>\n",
       "    </tbody>\n",
       "</table>"
      ],
      "text/plain": [
       "<Table(3 rows): | values | dev_from_ave | sq_dev_from_ave |>"
      ]
     },
     "execution_count": 30,
     "metadata": {},
     "output_type": "execute_result"
    }
   ],
   "source": [
    "# Step 3. The squared deviations from average\n",
    "\n",
    "toy['sq_dev_from_ave'] = toy['dev_from_ave']**2\n",
    "toy"
   ]
  },
  {
   "cell_type": "code",
   "execution_count": 31,
   "metadata": {
    "collapsed": false
   },
   "outputs": [
    {
     "data": {
      "text/plain": [
       "13.1875"
      ]
     },
     "execution_count": 31,
     "metadata": {},
     "output_type": "execute_result"
    }
   ],
   "source": [
    "# Variance = the mean squared deviation from average\n",
    "\n",
    "var = np.mean(toy['sq_dev_from_ave'])\n",
    "var"
   ]
  },
  {
   "cell_type": "markdown",
   "metadata": {},
   "source": [
    "The mean squared deviation is called the *variance* of the list. While it does give us an idea of spread, it is not on the same scale as the original variable and its units are the square of the original. This makes interpretation very difficult. So we return to the original scale by taking the positive square root of the variance:"
   ]
  },
  {
   "cell_type": "code",
   "execution_count": 32,
   "metadata": {
    "collapsed": false
   },
   "outputs": [
    {
     "data": {
      "text/plain": [
       "3.6314597615834874"
      ]
     },
     "execution_count": 32,
     "metadata": {},
     "output_type": "execute_result"
    }
   ],
   "source": [
    "# Standard Deviation:    root mean squared deviation from average\n",
    "# Steps of calculation:   5    4      3       2             1\n",
    "\n",
    "sd = var**0.5\n",
    "sd"
   ]
  },
  {
   "cell_type": "markdown",
   "metadata": {},
   "source": [
    "###Standard Deviation\n",
    "\n",
    "The quantity that we have just computed is called the *standard deviation* of the list, and is abbreviated as SD. It measures roughly how far the numbers on the list are from their average.\n",
    "\n",
    "**Definition.** The SD of a list is defined as the *root mean square of deviations from average*. That's a mouthful. But read it from right to left and you have the sequence of steps in the calculation.\n",
    "\n",
    "**Computation.** The ``numPy`` function ``np.std`` computes the SD of values in an array:"
   ]
  },
  {
   "cell_type": "code",
   "execution_count": 33,
   "metadata": {
    "collapsed": false
   },
   "outputs": [
    {
     "data": {
      "text/plain": [
       "3.6314597615834874"
      ]
     },
     "execution_count": 33,
     "metadata": {},
     "output_type": "execute_result"
    }
   ],
   "source": [
    "np.std(toy['values'])"
   ]
  },
  {
   "cell_type": "markdown",
   "metadata": {},
   "source": [
    "### Why use the SD instead of some other measure of spread? Answer #1.\n",
    "\n",
    "There are a few primary reasons the SD is used more than any other measure of spread. Here is one of them.\n",
    "\n",
    "If you know the average of a list, typically you can't infer much else about the spread in the list. You can't even infer that half the list is above average, because, as we have seen, the average and the median are typically different from each other.\n",
    "\n",
    "If you know both the average and the SD, however, you can learn a great deal about the values in the list.\n",
    "\n",
    "**Informal statement.** \n",
    "\n",
    "For all lists, the bulk of the entries are within the range \"average $\\pm$ a few SDs\".\n",
    "\n",
    "Try to resist the desire to know exactly what fuzzy words like \"bulk\" and \"few\" mean. We wil make them precise later in this section. For now, let us examine the statement in the context of the example of box office receipts."
   ]
  },
  {
   "cell_type": "code",
   "execution_count": 34,
   "metadata": {
    "collapsed": false
   },
   "outputs": [
    {
     "data": {
      "image/png": "[encoded data removed]",
      "text/plain": [
       "<matplotlib.figure.Figure at 0x108063c18>"
      ]
     },
     "metadata": {},
     "output_type": "display_data"
    }
   ],
   "source": [
    "box_office.hist(bins=20, normed=True)"
   ]
  },
  {
   "cell_type": "code",
   "execution_count": 35,
   "metadata": {
    "collapsed": false
   },
   "outputs": [
    {
     "data": {
      "text/plain": [
       "174.29050139234451"
      ]
     },
     "execution_count": 35,
     "metadata": {},
     "output_type": "execute_result"
    }
   ],
   "source": [
    "m = np.mean(box_office['mill$'])\n",
    "m"
   ]
  },
  {
   "cell_type": "code",
   "execution_count": 36,
   "metadata": {
    "collapsed": false
   },
   "outputs": [
    {
     "data": {
      "text/plain": [
       "86.152264241676363"
      ]
     },
     "execution_count": 36,
     "metadata": {},
     "output_type": "execute_result"
    }
   ],
   "source": [
    "s = np.std(box_office['mill$'])\n",
    "s"
   ]
  },
  {
   "cell_type": "markdown",
   "metadata": {},
   "source": [
    "The mean is \\$174.29, and the SD is \\$86.15. Notice that none of the entries on the list are below the amount \"mean - SD\". Indeed, none are below \\$100 million. The large spread is due to the large positive deviations in the right hand tail.\n",
    "\n",
    "In the analysis of distributions, specially those that have been represented in a histogram, it is often useful to think of the average as the origin, and distances in units of SDs. For example, here is the interval \"mean $\\pm$ one SD\"; about 87.5% of the movies have box office receipts in this range."
   ]
  },
  {
   "cell_type": "code",
   "execution_count": 37,
   "metadata": {
    "collapsed": false
   },
   "outputs": [
    {
     "data": {
      "text/plain": [
       "88.138237150668147"
      ]
     },
     "execution_count": 37,
     "metadata": {},
     "output_type": "execute_result"
    }
   ],
   "source": [
    "m-s"
   ]
  },
  {
   "cell_type": "code",
   "execution_count": 38,
   "metadata": {
    "collapsed": false
   },
   "outputs": [
    {
     "data": {
      "text/plain": [
       "260.44276563402087"
      ]
     },
     "execution_count": 38,
     "metadata": {},
     "output_type": "execute_result"
    }
   ],
   "source": [
    "m+s"
   ]
  },
  {
   "cell_type": "code",
   "execution_count": 39,
   "metadata": {
    "collapsed": false
   },
   "outputs": [
    {
     "data": {
      "text/plain": [
       "0.8755980861244019"
      ]
     },
     "execution_count": 39,
     "metadata": {},
     "output_type": "execute_result"
    }
   ],
   "source": [
    "np.count_nonzero((m-s < box_office['mill$']) & (box_office['mill$'] < m+s) )/box_office.num_rows"
   ]
  },
  {
   "cell_type": "markdown",
   "metadata": {},
   "source": [
    "The table below contains intervals of the form \"mean $\\pm$ a few SD\", and the proportions of entries in that range. The column ``z`` quantifies the expression \"a few\". As you can see, once ``z`` is about 4 or so, the interval \"average $\\pm z$ SD\" contains almost all of the data. \n",
    "\n",
    "This kind of behavior is true of all lists, not just the ones in our examples."
   ]
  },
  {
   "cell_type": "code",
   "execution_count": 40,
   "metadata": {
    "collapsed": false
   },
   "outputs": [
    {
     "data": {
      "text/html": [
       "<table border=\"1\" class=\"dataframe\">\n",
       "    <thead>\n",
       "        <tr>\n",
       "            <th>z</th> <th>m - z*s</th> <th>m + z*s</th> <th>proportion</th>\n",
       "        </tr>\n",
       "    </thead>\n",
       "    <tbody>\n",
       "        <tr>\n",
       "            <td>0.5 </td> <td>131.214 </td> <td>217.367</td> <td>0.395534  </td>\n",
       "        </tr>\n",
       "    </tbody>\n",
       "        <tr>\n",
       "            <td>1   </td> <td>88.1382 </td> <td>260.443</td> <td>0.875598  </td>\n",
       "        </tr>\n",
       "    </tbody>\n",
       "        <tr>\n",
       "            <td>1.5 </td> <td>45.0621 </td> <td>303.519</td> <td>0.917065  </td>\n",
       "        </tr>\n",
       "    </tbody>\n",
       "        <tr>\n",
       "            <td>2   </td> <td>1.98597 </td> <td>346.595</td> <td>0.948963  </td>\n",
       "        </tr>\n",
       "    </tbody>\n",
       "        <tr>\n",
       "            <td>2.5 </td> <td>-41.0902</td> <td>389.671</td> <td>0.966507  </td>\n",
       "        </tr>\n",
       "    </tbody>\n",
       "        <tr>\n",
       "            <td>3   </td> <td>-84.1663</td> <td>432.747</td> <td>0.982456  </td>\n",
       "        </tr>\n",
       "    </tbody>\n",
       "        <tr>\n",
       "            <td>3.5 </td> <td>-127.242</td> <td>475.823</td> <td>0.992026  </td>\n",
       "        </tr>\n",
       "    </tbody>\n",
       "        <tr>\n",
       "            <td>4   </td> <td>-170.319</td> <td>518.9  </td> <td>0.992026  </td>\n",
       "        </tr>\n",
       "    </tbody>\n",
       "        <tr>\n",
       "            <td>4.5 </td> <td>-213.395</td> <td>561.976</td> <td>0.99362   </td>\n",
       "        </tr>\n",
       "    </tbody>\n",
       "        <tr>\n",
       "            <td>5   </td> <td>-256.471</td> <td>605.052</td> <td>0.99362   </td>\n",
       "        </tr>\n",
       "    </tbody>\n",
       "</table>\n",
       "<p>... (2 rows omitted)</p"
      ],
      "text/plain": [
       "<Table(4 rows): | z | m - z*s | m + z*s | proportion |>"
      ]
     },
     "execution_count": 40,
     "metadata": {},
     "output_type": "execute_result"
    }
   ],
   "source": [
    "box_props = Table([np.arange(0.5, 6.1, 0.5)], ['z'])\n",
    "box_props['m - z*s'] = m - box_props['z']*s\n",
    "box_props['m + z*s'] = m + box_props['z']*s\n",
    "\n",
    "def count_intvl(z):\n",
    "    return np.count_nonzero( (m-z*s < box_office['mill$']) & (box_office['mill$'] < m+z*s) )/box_office.num_rows\n",
    "\n",
    "box_props['proportion'] = box_props.apply(count_intvl, 'z')\n",
    "box_props"
   ]
  },
  {
   "cell_type": "markdown",
   "metadata": {},
   "source": [
    "Chebychev's inequality\n",
    "---------------------\n",
    "\n",
    "This is the **formal version** of our rough statement above:\n",
    "\n",
    "For all lists, and all positive numbers *z*, the proportion of entries that are in the range\n",
    "\"average $\\pm z$ SDs\" \n",
    "is **at least** $1 - \\frac{1}{z^2}$.\n",
    "          "
   ]
  },
  {
   "cell_type": "markdown",
   "metadata": {},
   "source": [
    "What makes this result powerful is that it is true for all lists – all distributions, no matter how irregular, known or unknown. Specifically, Chebychev's inequality says that for every list:\n",
    "\n",
    "- the proportion in the range \"average $\\pm$ 2 SDs\" is at least 1 - 1/4 = 0.75\n",
    "\n",
    "- the proportion in the range \"average $\\pm$ 3 SDs\" is at least 1 - 1/9 $\\approx$ 0.89\n",
    "\n",
    "- the proportion in the range \"average $\\pm$ 4.5 SDs\" is at least 1 - 1/$4.5^2$ $\\approx$ 0.95\n",
    "\n",
    "Chebychev's Inequality gives a lower bound, not an exact answer or an approximation. The proportion of entries in the range \"average $\\pm z$ SDs\" might be quite a bit larger than $1 - 1/z^2$. But it cannot be smaller."
   ]
  },
  {
   "cell_type": "markdown",
   "metadata": {},
   "source": [
    "**Interpreting $z$**\n",
    "\n",
    "$z$ is the number of SDs above average, and is said to be on the *standard units* scale.\n",
    "\n",
    "Some values of standard units are negative, corresponding to original values that are below average. Other values of standard units are positive. But no matter what the distribution of the list looks like, Chebychev's Inequality says that standard units will typically be in the (-5, 5) range.\n",
    "\n",
    "Here are some examples of moving back and forth between the original scale and the standard units scale. Recall that the average box office amounts of our list of movies is $m = \\$174.29$ and the SD is $s = \\$86.15$.\n",
    "\n",
    "**Examples of converting from standard units to the original units.**\n",
    "The calculation is straightforward if you remember that $z$ answers the question, \"How many SDs above average is the original value?\"\n",
    "\n",
    "If $z = 2.4$, then the movie made $z*s + m = 2.4*86.15 + 174.29 = 381.05$ million dollars.\n",
    "\n",
    "If $z = -0.3$, then the movie made $z*s + m = (-0.3)*86.15 + 174.29 = 148.45$ million dollars.\n",
    "\n",
    "**Examples of converting from the original units to standard units.**\n",
    "First find how far above average the value is on the original scale, then compare the difference with the SD.\n",
    "\n",
    "If the movie made 220 million dollars, then $z = (220 - 174.29)/86.15 = 0.53$.\n",
    "\n",
    "If the movie made 120 million dollars, then $z = (120 - 174.29)/86.15 = -0.63$.\n",
    "\n",
    "In probability and statistics, $z$ is standard notation for values on the standard units scale. Converting to standard units is also known as \"finding the $z$-score\".\n",
    "\n"
   ]
  }
 ],
 "metadata": {
  "kernelspec": {
   "display_name": "Python 3",
   "language": "python",
   "name": "python3"
  },
  "language_info": {
   "codemirror_mode": {
    "name": "ipython",
    "version": 3
   },
   "file_extension": ".py",
   "mimetype": "text/x-python",
   "name": "python",
   "nbconvert_exporter": "python",
   "pygments_lexer": "ipython3",
   "version": "3.4.3"
  }
 },
 "nbformat": 4,
 "nbformat_minor": 0
}
