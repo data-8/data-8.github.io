{
 "cells": [
  {
   "cell_type": "code",
   "execution_count": 37,
   "metadata": {
    "collapsed": true
   },
   "outputs": [],
   "source": [
    "# HIDDEN\n",
    "\n",
    "from datascience import *\n",
    "%matplotlib inline\n",
    "import matplotlib.pyplot as plots\n",
    "plots.style.use('fivethirtyeight')\n",
    "p = 0.1\n",
    "import numpy as np"
   ]
  },
  {
   "cell_type": "markdown",
   "metadata": {},
   "source": [
    "We've seen how data is represented as a sequence of values.  What if we want to do something once for each value in the sequence?  For instance, maybe we want to compute the sum of a sequence of numbers.  How can we do that?  The answer is to use iteration: in particular, we use a Python construct called a `for`-loop.  Check it out:"
   ]
  },
  {
   "cell_type": "code",
   "execution_count": 38,
   "metadata": {
    "collapsed": false
   },
   "outputs": [],
   "source": [
    "tbl = Table([[2,3,10]], ['num'])"
   ]
  },
  {
   "cell_type": "code",
   "execution_count": 39,
   "metadata": {
    "collapsed": false
   },
   "outputs": [
    {
     "data": {
      "text/html": [
       "<table border=\"1\" class=\"dataframe\">\n",
       "    <thead>\n",
       "        <tr>\n",
       "            <th>num</th>\n",
       "        </tr>\n",
       "    </thead>\n",
       "    <tbody>\n",
       "        <tr>\n",
       "            <td>2   </td>\n",
       "        </tr>\n",
       "    </tbody>\n",
       "        <tr>\n",
       "            <td>3   </td>\n",
       "        </tr>\n",
       "    </tbody>\n",
       "        <tr>\n",
       "            <td>10  </td>\n",
       "        </tr>\n",
       "    </tbody>\n",
       "</table>"
      ],
      "text/plain": [
       "<Table(1 rows): | num |>"
      ]
     },
     "execution_count": 39,
     "metadata": {},
     "output_type": "execute_result"
    }
   ],
   "source": [
    "tbl"
   ]
  },
  {
   "cell_type": "code",
   "execution_count": 40,
   "metadata": {
    "collapsed": false
   },
   "outputs": [
    {
     "data": {
      "text/plain": [
       "array([ 2,  3, 10])"
      ]
     },
     "execution_count": 40,
     "metadata": {},
     "output_type": "execute_result"
    }
   ],
   "source": [
    "tbl['num']"
   ]
  },
  {
   "cell_type": "markdown",
   "metadata": {},
   "source": [
    "OK, so that gives us a sequence of numbers (the sequence 5, 6, 11)."
   ]
  },
  {
   "cell_type": "code",
   "execution_count": 41,
   "metadata": {
    "collapsed": false
   },
   "outputs": [
    {
     "data": {
      "text/plain": [
       "15"
      ]
     },
     "execution_count": 41,
     "metadata": {},
     "output_type": "execute_result"
    }
   ],
   "source": [
    "total = 0\n",
    "for i in tbl['num']:\n",
    "    total = total + i\n",
    "total"
   ]
  },
  {
   "cell_type": "markdown",
   "metadata": {},
   "source": [
    "Notice how this works.  We start out by setting `total` to hold the number 0.  Then, we go through the sequence, one by one.  For each number in the sequence, we temporarily set `i` to hold that number, and then we execute the statement `total = total + i`.  This statement replaces the previous value of `total` with `total + i`.  In other words, it adds `i` to the current running total.  Once we've gone through the entire sequence, `total` holds the sum of all of the numbers in the sequence.\n",
    "\n",
    "In short, a `for`-loop lets you do something once for each item in a sequence.  It *iterates* through the sequence, examining each value one at a time, and does something for each.\n",
    "\n",
    "In this case, we could have accomplished the same task without a `for`-loop: there is a `numpy` function we could have used (`np.sum`) to do this for us.  That's not unusual; it's not unusual that there might be multiple ways to accomplish the same task.  But sometimes there is no existing Python function that does exactly what we want, and that's when it is good to have tools we can use to do what we want."
   ]
  },
  {
   "cell_type": "markdown",
   "metadata": {},
   "source": [
    "## Repetition"
   ]
  },
  {
   "cell_type": "markdown",
   "metadata": {},
   "source": [
    "A special case of iteration is where we want to do some simple task multiple times: say, 10 times.  You could copy-paste the code 10 times, but that gets a little tedious, and if you wanted to do it a thousand times (or a million times), forget it.  Also, copy-pasting code is usually a bad idea: what if you realize you want to change some piece of it?  Then you'll need to laboriously change each copy of it.  Boooring!\n",
    "\n",
    "A better solution is to use a `for`-loop for this purpose.  The trick is to choose a sequence of length 10, and then iterate over the sequence: do the task once for each item in the sequence.  It doesn't really matter what we put in the sequence; any sequence will do.\n",
    "\n",
    "However, there is a standard idiom for what to put in the sequence.  The typical solution is to create a sequence of consecutive integers, starting at 0, and iterate over it.  If we wanted to do something 1000 times, we'd create a sequence holding the values 0, 1, 2, 3, 4, 5, 6, 7, 8, 9.  Why 9? (and not 10?)  Because that's where we need to end, if we want the list to have 10 items.  (Why not use 1, 2, .., 10?  I'm tempted to say, because computer scientists are just a tad odd.  Actually, there are good reasons for this idiom, but don't worry about it right now.)\n",
    "\n",
    "How do we create a sequence 0, 1, .., 9?  It turns out we've already seen how to do that: use `np.arange()`."
   ]
  },
  {
   "cell_type": "code",
   "execution_count": 42,
   "metadata": {
    "collapsed": false
   },
   "outputs": [
    {
     "data": {
      "text/plain": [
       "array([0, 1, 2, 3, 4, 5, 6, 7, 8, 9])"
      ]
     },
     "execution_count": 42,
     "metadata": {},
     "output_type": "execute_result"
    }
   ],
   "source": [
    "np.arange(10)"
   ]
  },
  {
   "cell_type": "markdown",
   "metadata": {},
   "source": [
    "So, now I'm ready to show you how to do something 10 times:"
   ]
  },
  {
   "cell_type": "code",
   "execution_count": 43,
   "metadata": {
    "collapsed": false
   },
   "outputs": [
    {
     "name": "stdout",
     "output_type": "stream",
     "text": [
      "Go Bears!\n",
      "Go Bears!\n",
      "Go Bears!\n",
      "Go Bears!\n",
      "Go Bears!\n",
      "Go Bears!\n",
      "Go Bears!\n",
      "Go Bears!\n",
      "Go Bears!\n",
      "Go Bears!\n"
     ]
    }
   ],
   "source": [
    "for i in np.arange(10):\n",
    "    print('Go Bears!')"
   ]
  },
  {
   "cell_type": "markdown",
   "metadata": {},
   "source": [
    "Strings are sequences, too:"
   ]
  },
  {
   "cell_type": "code",
   "execution_count": 44,
   "metadata": {
    "collapsed": false
   },
   "outputs": [
    {
     "name": "stdout",
     "output_type": "stream",
     "text": [
      "Give me a C\n",
      "Give me a A\n",
      "Give me a L\n"
     ]
    }
   ],
   "source": [
    "for c in 'CAL':\n",
    "    print('Give me a '+c)"
   ]
  },
  {
   "cell_type": "markdown",
   "metadata": {},
   "source": [
    "In this class, you're going to use this a lot for simulation.  For instance, you might code up a way to simulate one round of some gambling game; then you can use a `for`-loop to repeat the simulation thousands of times and see how often we win.  The great thing about computers is that they're incredibly good at doing a small task repeatedly many times, so this is a perfect match for what they're good at."
   ]
  },
  {
   "cell_type": "markdown",
   "metadata": {},
   "source": [
    "## Randomized response"
   ]
  },
  {
   "cell_type": "markdown",
   "metadata": {},
   "source": [
    "Next, we'll look at a technique that was designed several decades ago to help conduct surveys of sensitive subjects.  Researchers wanted to ask participants a few questions: Have you ever had an affair?  Do you secretly think you are gay?  Have you ever shoplifted?  Have you ever sung a Justin Bieber song in the shower?  They figured that some people might not respond honestly, because of the social stigma associated with answering \"yes\".  So, they came up with a clever way to estimate the fraction of the population who are in the \"yes\" camp, without violating anyone's privacy.\n",
    "\n",
    "Here's the idea.  We'll instruct the respondent to roll a fair 6-sided die, secretly, where no one else can see it.  If the die comes up 1, 2, 3, or 4, then respondent is supposed to answer honestly.  If it comes up 5 or 6, the respondent is supposed to answer the *opposite* of what their true answer would be.  But, they shouldn't reveal what came up on their die.\n",
    "\n",
    "Notice how clever this is.  Even if the person says \"yes\", that doesn't necessarily mean their true answer is \"yes\" -- they might very well have just rolled a 5 or 6.  So the responses to the survey don't reveal any one individual's true answer.  Yet, in aggregate, the responses give enough information that we can get a pretty good estimate of the fraction of people whose true answer is \"yes\".\n",
    "\n",
    "Let's try a simulation, so we can see how this works.  We'll write some code to perform this operation.  First, a function to simulate rolling one die:"
   ]
  },
  {
   "cell_type": "code",
   "execution_count": 45,
   "metadata": {
    "collapsed": false
   },
   "outputs": [
    {
     "data": {
      "text/html": [
       "<table border=\"1\" class=\"dataframe\">\n",
       "    <thead>\n",
       "        <tr>\n",
       "            <th>roll</th>\n",
       "        </tr>\n",
       "    </thead>\n",
       "    <tbody>\n",
       "        <tr>\n",
       "            <td>1   </td>\n",
       "        </tr>\n",
       "    </tbody>\n",
       "        <tr>\n",
       "            <td>2   </td>\n",
       "        </tr>\n",
       "    </tbody>\n",
       "        <tr>\n",
       "            <td>3   </td>\n",
       "        </tr>\n",
       "    </tbody>\n",
       "        <tr>\n",
       "            <td>4   </td>\n",
       "        </tr>\n",
       "    </tbody>\n",
       "        <tr>\n",
       "            <td>5   </td>\n",
       "        </tr>\n",
       "    </tbody>\n",
       "        <tr>\n",
       "            <td>6   </td>\n",
       "        </tr>\n",
       "    </tbody>\n",
       "</table>"
      ],
      "text/plain": [
       "<Table(1 rows): | roll |>"
      ]
     },
     "execution_count": 45,
     "metadata": {},
     "output_type": "execute_result"
    }
   ],
   "source": [
    "dicetbl = Table([[1,2,3,4,5,6]], ['roll'])\n",
    "dicetbl"
   ]
  },
  {
   "cell_type": "code",
   "execution_count": 46,
   "metadata": {
    "collapsed": true
   },
   "outputs": [],
   "source": [
    "def rollonedie():\n",
    "    tbl = dicetbl.sample(k=1) # Make a table with one row, chosen at random from dicetbl\n",
    "    roll = tbl['roll'][0]\n",
    "    return roll"
   ]
  },
  {
   "cell_type": "markdown",
   "metadata": {},
   "source": [
    "Now we'll use this to write a function to simulate how someone is supposed to respond to the survey.  The argument to the function is their true answer; the function returns what they're supposed to tell the interview."
   ]
  },
  {
   "cell_type": "code",
   "execution_count": 47,
   "metadata": {
    "collapsed": true
   },
   "outputs": [],
   "source": [
    "# 1 stands for 'yes', 0 stands for 'no'\n",
    "def respond(trueanswer):\n",
    "    roll = rollonedie()\n",
    "    if roll >= 5:\n",
    "        return 1-trueanswer\n",
    "    else:\n",
    "        return trueanswer"
   ]
  },
  {
   "cell_type": "markdown",
   "metadata": {},
   "source": [
    "We can try it.  Assume our true answer is 'no'; let's see what happens this time:"
   ]
  },
  {
   "cell_type": "code",
   "execution_count": 48,
   "metadata": {
    "collapsed": false
   },
   "outputs": [
    {
     "data": {
      "text/plain": [
       "1"
      ]
     },
     "execution_count": 48,
     "metadata": {},
     "output_type": "execute_result"
    }
   ],
   "source": [
    "respond(0)"
   ]
  },
  {
   "cell_type": "markdown",
   "metadata": {},
   "source": [
    "Of course, if you were to run it again, you might get a different result next time."
   ]
  },
  {
   "cell_type": "code",
   "execution_count": 49,
   "metadata": {
    "collapsed": false
   },
   "outputs": [
    {
     "data": {
      "text/plain": [
       "0"
      ]
     },
     "execution_count": 49,
     "metadata": {},
     "output_type": "execute_result"
    }
   ],
   "source": [
    "respond(0)"
   ]
  },
  {
   "cell_type": "code",
   "execution_count": 50,
   "metadata": {
    "collapsed": false
   },
   "outputs": [
    {
     "data": {
      "text/plain": [
       "1"
      ]
     },
     "execution_count": 50,
     "metadata": {},
     "output_type": "execute_result"
    }
   ],
   "source": [
    "respond(0)"
   ]
  },
  {
   "cell_type": "code",
   "execution_count": 51,
   "metadata": {
    "collapsed": false
   },
   "outputs": [
    {
     "data": {
      "text/plain": [
       "0"
      ]
     },
     "execution_count": 51,
     "metadata": {},
     "output_type": "execute_result"
    }
   ],
   "source": [
    "respond(0)"
   ]
  },
  {
   "cell_type": "markdown",
   "metadata": {},
   "source": [
    "OK, so this lets us simulate the behavior of one participant, using randomized response.  Let's simulate what happens if we do this with 10,000 respondents.  We're going to imagine asking 10,000 people whether they've ever sung a Justin Bieber song in teh shower.  We'll imagine there are `10000 * p` people whose true answer is \"yes\" and `10000 * (1-p)` whose true answer is \"no\", so we'll use one `for`-loop to simulate the behavior each of the first `10000 * p` people, and a second `for`-loop to simulate the behavior of the remaining `10000 * (1-p)`.  We'll collect all the responses in a table, appending each response to the table as we receive it."
   ]
  },
  {
   "cell_type": "code",
   "execution_count": 52,
   "metadata": {
    "collapsed": true
   },
   "outputs": [],
   "source": [
    "responses = Table([[]], ['response'])\n",
    "for i in range(int(p*10000)):\n",
    "    r = respond(1)\n",
    "    responses.append([r])\n",
    "for i in range(int((1-p)*10000)):\n",
    "    r = respond(0)\n",
    "    responses.append([r])"
   ]
  },
  {
   "cell_type": "code",
   "execution_count": 53,
   "metadata": {
    "collapsed": false
   },
   "outputs": [
    {
     "data": {
      "text/html": [
       "<table border=\"1\" class=\"dataframe\">\n",
       "    <thead>\n",
       "        <tr>\n",
       "            <th>response</th>\n",
       "        </tr>\n",
       "    </thead>\n",
       "    <tbody>\n",
       "        <tr>\n",
       "            <td>0       </td>\n",
       "        </tr>\n",
       "    </tbody>\n",
       "        <tr>\n",
       "            <td>1       </td>\n",
       "        </tr>\n",
       "    </tbody>\n",
       "        <tr>\n",
       "            <td>1       </td>\n",
       "        </tr>\n",
       "    </tbody>\n",
       "        <tr>\n",
       "            <td>0       </td>\n",
       "        </tr>\n",
       "    </tbody>\n",
       "        <tr>\n",
       "            <td>1       </td>\n",
       "        </tr>\n",
       "    </tbody>\n",
       "        <tr>\n",
       "            <td>1       </td>\n",
       "        </tr>\n",
       "    </tbody>\n",
       "        <tr>\n",
       "            <td>1       </td>\n",
       "        </tr>\n",
       "    </tbody>\n",
       "        <tr>\n",
       "            <td>1       </td>\n",
       "        </tr>\n",
       "    </tbody>\n",
       "        <tr>\n",
       "            <td>0       </td>\n",
       "        </tr>\n",
       "    </tbody>\n",
       "        <tr>\n",
       "            <td>1       </td>\n",
       "        </tr>\n",
       "    </tbody>\n",
       "</table>\n",
       "<p>... (9990 rows omitted)</p"
      ],
      "text/plain": [
       "<Table(1 rows): | response |>"
      ]
     },
     "execution_count": 53,
     "metadata": {},
     "output_type": "execute_result"
    }
   ],
   "source": [
    "responses"
   ]
  },
  {
   "cell_type": "markdown",
   "metadata": {},
   "source": [
    "We get a giant table with 10,000 rows, one per simulated participant.  Let's build a histogram and look at how many \"yes\"s we got and how many \"no\"s."
   ]
  },
  {
   "cell_type": "code",
   "execution_count": 54,
   "metadata": {
    "collapsed": false
   },
   "outputs": [
    {
     "data": {
      "image/png": "[encoded data removed]",
      "text/plain": [
       "<matplotlib.figure.Figure at 0x7f8984cd84a8>"
      ]
     },
     "metadata": {},
     "output_type": "display_data"
    }
   ],
   "source": [
    "responses.hist(bins=2)"
   ]
  },
  {
   "cell_type": "code",
   "execution_count": 55,
   "metadata": {
    "collapsed": false
   },
   "outputs": [
    {
     "data": {
      "text/plain": [
       "6345"
      ]
     },
     "execution_count": 55,
     "metadata": {},
     "output_type": "execute_result"
    }
   ],
   "source": [
    "responses.where('response', 0).num_rows"
   ]
  },
  {
   "cell_type": "code",
   "execution_count": 56,
   "metadata": {
    "collapsed": false
   },
   "outputs": [
    {
     "data": {
      "text/plain": [
       "3655"
      ]
     },
     "execution_count": 56,
     "metadata": {},
     "output_type": "execute_result"
    }
   ],
   "source": [
    "responses.where('response', 1).num_rows"
   ]
  },
  {
   "cell_type": "markdown",
   "metadata": {},
   "source": [
    "So we polled 10,000 people, and got back 3644 yes responses.\n",
    "\n",
    "**Exercise for you:** Based on these results, approximately what fraction of the population has truly sung a Justin Bieber song in the shower?\n",
    "\n",
    "Take a moment with your partner and work out the answer."
   ]
  },
  {
   "cell_type": "markdown",
   "metadata": {},
   "source": [
    "## Summing up"
   ]
  },
  {
   "cell_type": "markdown",
   "metadata": {},
   "source": [
    "This method is called \"randomized response\".  It is one way to poll people about sensitive subjects, while still protecting their privacy.  You can see how it is a nice example of randomness at work.\n",
    "\n",
    "It turns out that randomized response has beautiful generalizations.  For instance, your Chrome web browser uses it to anonymously report feedback to Google, in a way that won't violate your privacy.  That's all we'll say about it for this semester, but if you take an upper-division course, maybe you'll get to see some generalizations of this beautiful technique."
   ]
  }
 ],
 "metadata": {
  "kernelspec": {
   "display_name": "Python 3",
   "language": "python",
   "name": "python3"
  },
  "language_info": {
   "codemirror_mode": {
    "name": "ipython",
    "version": 3
   },
   "file_extension": ".py",
   "mimetype": "text/x-python",
   "name": "python",
   "nbconvert_exporter": "python",
   "pygments_lexer": "ipython3",
   "version": "3.4.3"
  }
 },
 "nbformat": 4,
 "nbformat_minor": 0
}
