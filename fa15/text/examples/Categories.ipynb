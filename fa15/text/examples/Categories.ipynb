{
 "cells": [
  {
   "cell_type": "code",
   "execution_count": 5,
   "metadata": {
    "collapsed": true
   },
   "outputs": [],
   "source": [
    "# HIDDEN\n",
    "\n",
    "from datascience import *\n",
    "import matplotlib.pyplot as plots\n",
    "plots.style.use('fivethirtyeight')\n",
    "%matplotlib inline"
   ]
  },
  {
   "cell_type": "markdown",
   "metadata": {},
   "source": [
    "In this section, we will continue to use the <code><a href=\"imdb.csv\">imdb.csv</a></code> data set."
   ]
  },
  {
   "cell_type": "code",
   "execution_count": 6,
   "metadata": {
    "collapsed": false
   },
   "outputs": [],
   "source": [
    "imdb = Table.read_table('imdb.csv')"
   ]
  },
  {
   "cell_type": "markdown",
   "metadata": {},
   "source": [
    "Functions can be used to compute new columns in a table based on existing column values. For example, the IMDb dataset of top grossing movies placed the year of each movie in the title. To categorize the data by year, we first must separate the title from the date.\n",
    "\n",
    "**Slicing**. Titles are strings, and a string is a sequence. Any sequence can be *sliced*, creating a new sequence of the same type that has only a range of the original elements. To slice a sequence, place two indices separated by a colon within square brackets. While slicing has a new syntax, slices have the same behavior as the arguments to `np.arange`: the first number is an inclusive lower bound and the second argument is an exclusive upper bound."
   ]
  },
  {
   "cell_type": "code",
   "execution_count": 7,
   "metadata": {
    "collapsed": false
   },
   "outputs": [
    {
     "data": {
      "text/plain": [
       "'minator'"
      ]
     },
     "execution_count": 7,
     "metadata": {},
     "output_type": "execute_result"
    }
   ],
   "source": [
    "title = \"Terminator 2: Judgment Day (1991)\"\n",
    "title[3:10]"
   ]
  },
  {
   "cell_type": "markdown",
   "metadata": {},
   "source": [
    "Negative indices in a slice (or in element selection) count from the end of the sequence. Since years of movies in this data set always contain exactly 4 numbers, we can separate the date from the title using a slice and negative constants."
   ]
  },
  {
   "cell_type": "code",
   "execution_count": 8,
   "metadata": {
    "collapsed": false
   },
   "outputs": [
    {
     "data": {
      "text/plain": [
       "'1991'"
      ]
     },
     "execution_count": 8,
     "metadata": {},
     "output_type": "execute_result"
    }
   ],
   "source": [
    "title[-5:-1]"
   ]
  },
  {
   "cell_type": "markdown",
   "metadata": {},
   "source": [
    "The `year` function below takes in a movie title with the year at the end, slices out the year, and converts the result to an integer by calling `int`."
   ]
  },
  {
   "cell_type": "code",
   "execution_count": 9,
   "metadata": {
    "collapsed": false
   },
   "outputs": [
    {
     "data": {
      "text/plain": [
       "1991"
      ]
     },
     "execution_count": 9,
     "metadata": {},
     "output_type": "execute_result"
    }
   ],
   "source": [
    "def year(title):\n",
    "    \"\"\"Return the year of a movie, assuming it appears at the end of the title.\"\"\"\n",
    "    return int(title[-5:-1])\n",
    "\n",
    "year(title)"
   ]
  },
  {
   "cell_type": "markdown",
   "metadata": {},
   "source": [
    "**Apply.** The `apply` method of a table calls a function on each element of a column, forming a new array of return values. To indicate which function to call, just name it (without quotation marks). The name of the column of input values must still appear within quotation marks."
   ]
  },
  {
   "cell_type": "code",
   "execution_count": 10,
   "metadata": {
    "collapsed": false
   },
   "outputs": [
    {
     "data": {
      "text/html": [
       "<table border=\"1\" class=\"dataframe\">\n",
       "    <thead>\n",
       "        <tr>\n",
       "            <th>rank</th> <th>movie</th> <th>boxoffice</th> <th>in_millions</th> <th>year</th>\n",
       "        </tr>\n",
       "    </thead>\n",
       "    <tbody>\n",
       "        <tr>\n",
       "            <td>1   </td> <td>Avatar (2009)                                   </td> <td>760505847</td> <td>760.506    </td> <td>2009</td>\n",
       "        </tr>\n",
       "    </tbody>\n",
       "        <tr>\n",
       "            <td>2   </td> <td>Titanic (1997)                                  </td> <td>658672302</td> <td>658.672    </td> <td>1997</td>\n",
       "        </tr>\n",
       "    </tbody>\n",
       "        <tr>\n",
       "            <td>3   </td> <td>Jurassic World (2015)                           </td> <td>642978555</td> <td>642.979    </td> <td>2015</td>\n",
       "        </tr>\n",
       "    </tbody>\n",
       "        <tr>\n",
       "            <td>4   </td> <td>The Avengers (2012)                             </td> <td>623279547</td> <td>623.28     </td> <td>2012</td>\n",
       "        </tr>\n",
       "    </tbody>\n",
       "        <tr>\n",
       "            <td>5   </td> <td>The Dark Knight (2008)                          </td> <td>533316061</td> <td>533.316    </td> <td>2008</td>\n",
       "        </tr>\n",
       "    </tbody>\n",
       "        <tr>\n",
       "            <td>6   </td> <td>Star Wars: Episode I - The Phantom Menace (1999)</td> <td>474544677</td> <td>474.545    </td> <td>1999</td>\n",
       "        </tr>\n",
       "    </tbody>\n",
       "        <tr>\n",
       "            <td>7   </td> <td>Star Wars (1977)                                </td> <td>460935665</td> <td>460.936    </td> <td>1977</td>\n",
       "        </tr>\n",
       "    </tbody>\n",
       "        <tr>\n",
       "            <td>8   </td> <td>Avengers: Age of Ultron (2015)                  </td> <td>457744064</td> <td>457.744    </td> <td>2015</td>\n",
       "        </tr>\n",
       "    </tbody>\n",
       "        <tr>\n",
       "            <td>9   </td> <td>The Dark Knight Rises (2012)                    </td> <td>448130642</td> <td>448.131    </td> <td>2012</td>\n",
       "        </tr>\n",
       "    </tbody>\n",
       "        <tr>\n",
       "            <td>10  </td> <td>Shrek 2 (2004)                                  </td> <td>436471036</td> <td>436.471    </td> <td>2004</td>\n",
       "        </tr>\n",
       "    </tbody>\n",
       "</table>\n",
       "<p>... (617 rows omitted)</p"
      ],
      "text/plain": [
       "<Table(5 rows): | rank | movie | boxoffice | in_millions | year |>"
      ]
     },
     "execution_count": 10,
     "metadata": {},
     "output_type": "execute_result"
    }
   ],
   "source": [
    "imdb['year'] = imdb.apply(year, 'movie')\n",
    "imdb"
   ]
  },
  {
   "cell_type": "markdown",
   "metadata": {},
   "source": [
    "Computing Categories\n",
    "-------------------\n",
    "\n",
    "Functions can also be used to create categories based on existing columns. The first step in categorizing data is to write a function that can take existing column values as arguments and return a category label. Then, a new column for that category can be added using `apply`, as in the example above.\n",
    "\n",
    "Certain science fiction films have pushed the limits of special effects technology. The movie E.T., released in 1982, made audiences believe in aliens. Jurassic Park, released in 1993, delivered the most convincing images of dinosaurs ever created. Avatar, released in 2009, created realistic humanoid aliens in immersive 3-dimensional films. We can use these landmarks of special effects technology to categorize the history of cinema."
   ]
  },
  {
   "cell_type": "code",
   "execution_count": 11,
   "metadata": {
    "collapsed": false
   },
   "outputs": [
    {
     "data": {
      "text/html": [
       "<table border=\"1\" class=\"dataframe\">\n",
       "    <thead>\n",
       "        <tr>\n",
       "            <th>rank</th> <th>movie</th> <th>boxoffice</th> <th>in_millions</th> <th>year</th> <th>era</th>\n",
       "        </tr>\n",
       "    </thead>\n",
       "    <tbody>\n",
       "        <tr>\n",
       "            <td>1   </td> <td>Avatar (2009)                                   </td> <td>760505847</td> <td>760.506    </td> <td>2009</td> <td>contemporary</td>\n",
       "        </tr>\n",
       "    </tbody>\n",
       "        <tr>\n",
       "            <td>2   </td> <td>Titanic (1997)                                  </td> <td>658672302</td> <td>658.672    </td> <td>1997</td> <td>recent      </td>\n",
       "        </tr>\n",
       "    </tbody>\n",
       "        <tr>\n",
       "            <td>3   </td> <td>Jurassic World (2015)                           </td> <td>642978555</td> <td>642.979    </td> <td>2015</td> <td>contemporary</td>\n",
       "        </tr>\n",
       "    </tbody>\n",
       "        <tr>\n",
       "            <td>4   </td> <td>The Avengers (2012)                             </td> <td>623279547</td> <td>623.28     </td> <td>2012</td> <td>contemporary</td>\n",
       "        </tr>\n",
       "    </tbody>\n",
       "        <tr>\n",
       "            <td>5   </td> <td>The Dark Knight (2008)                          </td> <td>533316061</td> <td>533.316    </td> <td>2008</td> <td>recent      </td>\n",
       "        </tr>\n",
       "    </tbody>\n",
       "        <tr>\n",
       "            <td>6   </td> <td>Star Wars: Episode I - The Phantom Menace (1999)</td> <td>474544677</td> <td>474.545    </td> <td>1999</td> <td>recent      </td>\n",
       "        </tr>\n",
       "    </tbody>\n",
       "        <tr>\n",
       "            <td>7   </td> <td>Star Wars (1977)                                </td> <td>460935665</td> <td>460.936    </td> <td>1977</td> <td>old         </td>\n",
       "        </tr>\n",
       "    </tbody>\n",
       "        <tr>\n",
       "            <td>8   </td> <td>Avengers: Age of Ultron (2015)                  </td> <td>457744064</td> <td>457.744    </td> <td>2015</td> <td>contemporary</td>\n",
       "        </tr>\n",
       "    </tbody>\n",
       "        <tr>\n",
       "            <td>9   </td> <td>The Dark Knight Rises (2012)                    </td> <td>448130642</td> <td>448.131    </td> <td>2012</td> <td>contemporary</td>\n",
       "        </tr>\n",
       "    </tbody>\n",
       "        <tr>\n",
       "            <td>10  </td> <td>Shrek 2 (2004)                                  </td> <td>436471036</td> <td>436.471    </td> <td>2004</td> <td>recent      </td>\n",
       "        </tr>\n",
       "    </tbody>\n",
       "</table>\n",
       "<p>... (617 rows omitted)</p"
      ],
      "text/plain": [
       "<Table(6 rows): | rank | movie | boxoffice | in_millions | year | era |>"
      ]
     },
     "execution_count": 11,
     "metadata": {},
     "output_type": "execute_result"
    }
   ],
   "source": [
    "def age(year):\n",
    "    if year < 1982:\n",
    "        return 'old'\n",
    "    elif year < 1993:\n",
    "        return 'modern'\n",
    "    elif year < 2009:\n",
    "        return 'recent'\n",
    "    else:\n",
    "        return 'contemporary'\n",
    "    \n",
    "imdb['era'] = imdb.apply(age, 'year')\n",
    "imdb"
   ]
  },
  {
   "cell_type": "markdown",
   "metadata": {},
   "source": [
    "Once a new category column is introduced, it can be used to perform any sort of further processing. For instance, we could count how many movies come from each era. "
   ]
  },
  {
   "cell_type": "code",
   "execution_count": 12,
   "metadata": {
    "collapsed": false
   },
   "outputs": [
    {
     "data": {
      "image/png": "[encoded data removed]",
      "text/plain": [
       "<matplotlib.figure.Figure at 0x10606f860>"
      ]
     },
     "metadata": {},
     "output_type": "display_data"
    }
   ],
   "source": [
    "imdb.select(['era', 'year']).group('era', len).barh('era')"
   ]
  },
  {
   "cell_type": "markdown",
   "metadata": {},
   "source": [
    "Functions can also be used to generate visualizations from tables. Histograms of the eras show quite a contrast in the distribution of movie proceeds over the years. What changes might explain the trend you observe? How might you investigate whether that change accounts for the trend?"
   ]
  },
  {
   "cell_type": "code",
   "execution_count": 13,
   "metadata": {
    "collapsed": false
   },
   "outputs": [
    {
     "data": {
      "image/png": "[encoded data removed]",
      "text/plain": [
       "<matplotlib.figure.Figure at 0x1060a71d0>"
      ]
     },
     "metadata": {},
     "output_type": "display_data"
    },
    {
     "data": {
      "image/png": "[encoded data removed]",
      "text/plain": [
       "<matplotlib.figure.Figure at 0x1060a77b8>"
      ]
     },
     "metadata": {},
     "output_type": "display_data"
    },
    {
     "data": {
      "image/png": "[encoded data removed]",
      "text/plain": [
       "<matplotlib.figure.Figure at 0x1060bea20>"
      ]
     },
     "metadata": {},
     "output_type": "display_data"
    },
    {
     "data": {
      "image/png": "[encoded data removed]",
      "text/plain": [
       "<matplotlib.figure.Figure at 0x108328048>"
      ]
     },
     "metadata": {},
     "output_type": "display_data"
    }
   ],
   "source": [
    "def age_hist(age):\n",
    "    imdb.where('era', age).select(['in_millions']).hist(\n",
    "        bins=np.arange(100, 1000, 50), \n",
    "        normed=True)\n",
    "    \n",
    "age_hist('old')\n",
    "age_hist('modern')\n",
    "age_hist('recent')\n",
    "age_hist('contemporary')"
   ]
  }
 ],
 "metadata": {
  "kernelspec": {
   "display_name": "Python 3",
   "language": "python",
   "name": "python3"
  },
  "language_info": {
   "codemirror_mode": {
    "name": "ipython",
    "version": 3
   },
   "file_extension": ".py",
   "mimetype": "text/x-python",
   "name": "python",
   "nbconvert_exporter": "python",
   "pygments_lexer": "ipython3",
   "version": "3.4.3"
  }
 },
 "nbformat": 4,
 "nbformat_minor": 0
}
