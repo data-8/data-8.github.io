{
 "cells": [
  {
   "cell_type": "code",
   "execution_count": 2,
   "metadata": {
    "collapsed": true
   },
   "outputs": [],
   "source": [
    "# HIDDEN\n",
    "from datascience import *\n",
    "%matplotlib inline\n",
    "\n",
    "import matplotlib.pyplot as plots\n",
    "from mpl_toolkits.mplot3d import Axes3D\n",
    "plots.style.use('fivethirtyeight')\n",
    "import pylab as pl\n",
    "import math\n",
    "from scipy import stats\n",
    "from scipy import misc\n",
    "import numpy as np"
   ]
  },
  {
   "cell_type": "markdown",
   "metadata": {},
   "source": [
    "## Conditional Dependence\n",
    "In many situations involving multiple events, knowing whether some of them have happened affects chances for the others. For example, if we are dealing two cards at random without replacement from a standard deck, then knowing that the first card dealt is the ace of spades would tell us that it is impossible for the second card to be the ace of spades. Such events are called *dependent*.\n",
    "\n",
    "We will conclude the course with an introduction to chance models that involve two dependent features. To start off, we will examine the main questions in the context of an example where the answers are easily understood. \n",
    "\n",
    "**Example 1.**\n",
    "\n",
    "An undergraduate class consists of sophomores and juniors. Many of the students have declared their majors, but some have not. Here is the distribution of categories in the class:\n",
    "\n",
    "- 40% of the students are sophomores and the rest are juniors\n",
    "- Among the sophomores, 50% have declared their majors\n",
    "- Among the juniors, 80% have declared their majors\n",
    "\n",
    "We have seen in an earlier section that data like this can be summarized in a *tree diagram* that partitions the class into four distinct categories of students:\n",
    "\n",
    "- Sophomore, undeclared\n",
    "- Sophomore, declared\n",
    "- Junior, undeclared\n",
    "- Junior, declared"
   ]
  },
  {
   "cell_type": "markdown",
   "metadata": {},
   "source": [
    "![tree diagram (declared)](assets/images/declared.png)"
   ]
  },
  {
   "cell_type": "markdown",
   "metadata": {},
   "source": [
    "Here is a very simple chance model.\n",
    "\n",
    "**Suppose that one student is picked at random.** \n",
    "\n",
    "The dependent features are the student's year and major status: if we know that the student is a sophomore, the chance that the student has declared a major is 0.5, whereas if we know that the student is a junior, the chance that the student has declared is 0.8."
   ]
  },
  {
   "cell_type": "markdown",
   "metadata": {},
   "source": [
    "a) Find the chance that the student is undeclared.\n",
    "\n",
    "Since the model is that the student is picked at random, the answer is just the proportion of undeclared students in the class. Half of the sophomores are undeclared, as are 20 percent of the juniors. Hence the answer is $0.4 \\times 0.5 ~+~ 0.6 \\times 0.2 ~=~ 0.32$.\n",
    "\n",
    "Notice that to find this chance, we added up the chances of the two relevant branches of the tree; to find the chance of a single branch, we multiplied the chances along the branch."
   ]
  },
  {
   "cell_type": "markdown",
   "metadata": {},
   "source": [
    "b) Find the chance that the student is undeclared, given that the student is a sophomore.\n",
    "\n",
    "This question asks for the proportion of undeclared students just among the sophomores. That proportion is known to be 0.5."
   ]
  },
  {
   "cell_type": "markdown",
   "metadata": {
    "collapsed": false
   },
   "source": [
    "c) Find the chance that the student is a sophomore.\n",
    "\n",
    "Again, this can be read off the tree diagram. The chance is 0.4."
   ]
  },
  {
   "cell_type": "markdown",
   "metadata": {},
   "source": [
    "d) Find the chance that the student is sophomore, given that the student is undeclared.\n",
    "\n",
    "This question asks for a \"backwards\" conditional probability; conditioning in the opposite direction to the information provided. The solution uses a method called **Bayes' Rule**, named for its originator, the Reverend Thomas Bayes, an Englishman who lived in the early 18th century. The method simply works out proportion of sophomores among the undeclared students. That is the proportion in the top Undeclared branch, relative to the total proportion in the two Undeclared branches. \n",
    "$$\n",
    "\\frac{0.4 \\times 0.5}{0.4 \\times 0.5 ~+~ 0.6 \\times 0.2} ~=~ 0.625\n",
    "$$\n",
    "\n",
    "This is computed in the cell below."
   ]
  },
  {
   "cell_type": "code",
   "execution_count": 29,
   "metadata": {
    "collapsed": false
   },
   "outputs": [
    {
     "data": {
      "text/plain": [
       "0.625"
      ]
     },
     "execution_count": 29,
     "metadata": {},
     "output_type": "execute_result"
    }
   ],
   "source": [
    "# d) chance that student is sophomore, given that student is undeclared\n",
    "# Method: Bayes' Rule for \"backwards in time\" conditional probabilities\n",
    "\n",
    "(0.4*0.5)/(0.4*0.5 + 0.6*0.2)"
   ]
  },
  {
   "cell_type": "markdown",
   "metadata": {},
   "source": [
    "Notice that when we only knew that the student was a randomly picked member of the class, we said that there was a 40% chance that the student was a sophomore. But given that the student is undeclared, our answer goes up to 62.5%. This is a result of the dependence between the student's year and major declaration status: undeclared students are more likely to be sophomores than juniors."
   ]
  },
  {
   "cell_type": "markdown",
   "metadata": {},
   "source": [
    "We will now use Bayes' Rule to answer a more interesting question.\n",
    "\n",
    "**Example 2.**\n",
    "In a population, there is a rare disease. Researchers have developed a medical test for the disease. Mostly, the test correctly identifies whether or not the tested person has the disease. But sometimes, the test is wrong. Here are the relevant proportions.\n",
    "\n",
    "- 1% of the population has the disease\n",
    "- If a person has the disease, the test returns the correct result with chance 99%.\n",
    "- If a person does not have the disease, the test returns the correct result with chance 99.5%.\n",
    "\n",
    "**One person is picked at random from the population.** Given that the person tests positive, what is the chance that the person has the disease?"
   ]
  },
  {
   "cell_type": "markdown",
   "metadata": {},
   "source": [
    "We begin by partitioning the population into four categories in the tree diagram below."
   ]
  },
  {
   "cell_type": "markdown",
   "metadata": {},
   "source": [
    "![tree diagram (disease: 1 percent)](assets/images/disease1.png)"
   ]
  },
  {
   "cell_type": "markdown",
   "metadata": {},
   "source": [
    "By Bayes' Rule, the chance that the person has the disease given that he or she has tested positive is the chance of the top \"Test Positive\" branch relative to the total chance of the two \"Test Positive\" branches. The answer is\n",
    "$$\n",
    "\\frac{0.01 \\times 0.99}{0.01 \\times 0.99 ~+~ 0.99 \\times 0.005} ~=~ 0.667\n",
    "$$"
   ]
  },
  {
   "cell_type": "code",
   "execution_count": 30,
   "metadata": {
    "collapsed": false
   },
   "outputs": [
    {
     "data": {
      "text/plain": [
       "0.6666666666666666"
      ]
     },
     "execution_count": 30,
     "metadata": {},
     "output_type": "execute_result"
    }
   ],
   "source": [
    "# The person is picked at random from the population.\n",
    "\n",
    "# By Bayes' Rule:\n",
    "# Chance that the person has the disease, given that test was +\n",
    "\n",
    "(0.01*0.99)/(0.01*0.99 + 0.99*0.005)"
   ]
  },
  {
   "cell_type": "markdown",
   "metadata": {},
   "source": [
    "This is 2/3, and it seems rather small. The test has very high accuracy, 99% or higher. Yet is our answer saying that if a patient gets tested and the test result is positive, there is only a 2/3 chance that he or she has the disease?\n",
    "\n",
    "To understand our answer, it is important to recall the chance model: our calculation is valid for **a person picked at random from the population**. Among all the people in the population, the people who test positive split into two groups: those who have the disease and test positive, and those who don't have the disease and test positive. The latter group is called the group of *false positives*. The proportion of true positives is twice as high as that of the false positives – $0.01 \\times 0.99$ compared to $0.99 \\times 0.005$ – and hence the chance of a true positive given a positive test result is $2/3$. The chance is affected both by the accuracy of the test and also by the probability that the sampled person has the disease.\n",
    "\n",
    "But a patient who goes to get tested for a disease is not well modeled as a random member of the population. People get tested because they think they might have the disease, or because their doctor thinks so. In such a case, saying that their chance of having the disease is 1% is not justified; they are not picked at random from the population.\n",
    "\n",
    "So, while our answer is correct for a random member of the population, it does not answer the question for a person who has walked into a doctor's office to be tested."
   ]
  },
  {
   "cell_type": "markdown",
   "metadata": {},
   "source": [
    "To answer the question for such a person, we must first ask ourselves what is the probability that the person has the disease. It is natural to think that it is larger than 1%, as the person has some reason to believe that he or she might have the disease. But how much larger?\n",
    "\n",
    "This cannot be decided based on relative frequencies. The probability that a particular individual has the disease has to be based on a subjective opinion, and is therefore called a *subjective probability*. Some researchers insist that all probabilities must be relative frequencies, but subjective probabilities abound. The chance that a candidate wins the next election, the chance that a big earthquake will hit the Bay Area in the next decade, the chance that a particular country wins the next soccer World Cup: none of these are based on relative frequencies or long run frequencies. Each one contains a subjective element. \n",
    "\n",
    "It is fine to work with subjective probabilities as long as you keep in mind that there will be a subjective element in your answer. Be aware also that different people can have different subjective probabilities of the same event. For example, the patient's subjective probability that he or she has the disease could be quite different from the doctor's subjective probability of the same event. Here we will work from the patient's point of view.\n",
    "\n",
    "Suppose the patient assigned a number to his/her degree of uncertainty about whether he/she had the disease, *before* seeing the test result. This number is the patient's *subjective prior probability* of having the disease.\n",
    "\n",
    "If that probability were 10%, then the probabilities on the left side of the tree diagram would change accordingly, with the 0.1 and 0.9 now interpreted as subjective probabilities:\n",
    "\n",
    "![tree diagram (disease 10 percent)](assets/images/disease10.png)"
   ]
  },
  {
   "cell_type": "markdown",
   "metadata": {},
   "source": [
    "The change has a noticeable effect on the answer, as you can see by running the cell below."
   ]
  },
  {
   "cell_type": "code",
   "execution_count": 5,
   "metadata": {
    "collapsed": false
   },
   "outputs": [
    {
     "data": {
      "text/plain": [
       "0.9565217391304347"
      ]
     },
     "execution_count": 5,
     "metadata": {},
     "output_type": "execute_result"
    }
   ],
   "source": [
    "# Subjective prior probability of 10% that the person has the disease\n",
    "\n",
    "# By Bayes' Rule:\n",
    "# Chance that the person has the disease, given that test was +\n",
    "\n",
    "(0.1*0.99)/(0.1*0.99 + 0.9*0.005)"
   ]
  },
  {
   "cell_type": "markdown",
   "metadata": {},
   "source": [
    "If the patient's prior probability of having the disease is 10%, then after a positive test result the patient must update that probability to over 95%. This updated probability is called a *posterior* probability. It is calculated *after* learning the test result.\n",
    "\n",
    "If the patient's prior probability of havng the disease is 50%, then the result changes yet again. "
   ]
  },
  {
   "cell_type": "markdown",
   "metadata": {},
   "source": [
    "![tree diagram (disease 50 percent)](assets/images/disease50.png)"
   ]
  },
  {
   "cell_type": "code",
   "execution_count": 6,
   "metadata": {
    "collapsed": false
   },
   "outputs": [
    {
     "data": {
      "text/plain": [
       "0.9949748743718593"
      ]
     },
     "execution_count": 6,
     "metadata": {},
     "output_type": "execute_result"
    }
   ],
   "source": [
    "# Subjective prior probability of 50% that the person has the disease\n",
    "\n",
    "# By Bayes' Rule: \n",
    "# Chance that the person has the disease, given that test was +\n",
    "\n",
    "(0.5*0.99)/(0.5*0.99 + 0.5*0.005)"
   ]
  },
  {
   "cell_type": "markdown",
   "metadata": {},
   "source": [
    "Starting out with a 50-50 subjective chance of having the disease, the patient must update that chance to about 99.5% after getting a positive test result. \n",
    "\n",
    "**Computational Note**. In the calculation above, the factor of 0.5 is common to all the terms and cancels out. Hence arithmetically it is the same as a calculation where the prior probabilities are apparently missing:"
   ]
  },
  {
   "cell_type": "code",
   "execution_count": 1,
   "metadata": {
    "collapsed": false
   },
   "outputs": [
    {
     "data": {
      "text/plain": [
       "0.9949748743718593"
      ]
     },
     "execution_count": 1,
     "metadata": {},
     "output_type": "execute_result"
    }
   ],
   "source": [
    "0.99/(0.99 + 0.005)"
   ]
  },
  {
   "cell_type": "markdown",
   "metadata": {
    "collapsed": true
   },
   "source": [
    "But in fact, they are not missing. They have just canceled out. When the prior probabilities are not all equal, then they are all visible in the calculation as we have seen earlier."
   ]
  },
  {
   "cell_type": "markdown",
   "metadata": {},
   "source": [
    "In machine learning applications such as spam detection, Bayes' Rule is used to update probabilities of messages being spam, based on new messages being labeled Spam or Not Spam. You will need more advanced mathematics to carry out all the calculations. But the fundamental method is the same as what you have seen in this section."
   ]
  }
 ],
 "metadata": {
  "kernelspec": {
   "display_name": "Python 3",
   "language": "python",
   "name": "python3"
  },
  "language_info": {
   "codemirror_mode": {
    "name": "ipython",
    "version": 3
   },
   "file_extension": ".py",
   "mimetype": "text/x-python",
   "name": "python",
   "nbconvert_exporter": "python",
   "pygments_lexer": "ipython3",
   "version": "3.4.3"
  }
 },
 "nbformat": 4,
 "nbformat_minor": 0
}
