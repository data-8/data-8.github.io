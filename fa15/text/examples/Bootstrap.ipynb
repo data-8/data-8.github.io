{
 "cells": [
  {
   "cell_type": "code",
   "execution_count": 3,
   "metadata": {
    "collapsed": true
   },
   "outputs": [],
   "source": [
    "# HIDDEN\n",
    "from datascience import *\n",
    "%matplotlib inline\n",
    "import matplotlib.pyplot as plots\n",
    "plots.style.use('fivethirtyeight')\n",
    "import pylab as pl\n",
    "import math\n",
    "from scipy import stats"
   ]
  },
  {
   "cell_type": "code",
   "execution_count": 4,
   "metadata": {
    "collapsed": false
   },
   "outputs": [],
   "source": [
    "# HIDDEN\n",
    "baby = Table.read_table('baby.csv')"
   ]
  },
  {
   "cell_type": "markdown",
   "metadata": {},
   "source": [
    "In the last chapter, we learned how to estimate an unknown numerical *parameter* such as a population mean or proportion. Our estimate was derived from a large random sample drawn from the population.\n",
    "\n",
    "The method of estimation was based on a fundamental observation: While one sample provides a single estimate of the parameter, we know that the sample could have come out differently, and hence *the estimate could have been different*. The estimate varies, depending on the sample. \n",
    "\n",
    "To quantify the amount of variability in the estimate, we need a measure of how different the estimate could be across all possible samples. That measure is the standard error of the estimate. If the estimate is a sample mean or sample proportion, mathematical theory provides us with a good approximation to the standard error, using just the one sample that we have. \n",
    "\n",
    "But what if the estimate were a statistic other than a mean or a proportion?"
   ]
  },
  {
   "cell_type": "markdown",
   "metadata": {},
   "source": [
    "Here is an example where this question arises. The table ``baby`` contains data on a random sample of 1,174 pairs of mothers and their newborn infants. Birth weight is an important factor in the health of a newborn infant – smaller babies tend to need more medical care in their first days than larger newborns. It is therefore helpful to have an estimate of birth weight before the baby is born. One way to do this is to examine the relationship between birth weight and the number of gestational days. \n",
    "\n",
    "We will begin by constructing a measure of this relationship. For each baby, we will calculate the ratio of birth weight to the number of gestational days. Below, the original table ``baby`` has been augmented by the column ``r_bwt_gd`` containing the values of this ratio. The first entry in that column was calcualted as follows:\n",
    "\n",
    "$$\n",
    "\\frac{120~\\mbox{ounces}}{284~\\mbox{days}} ~\\approx ~ 0.4225~ \\mbox{ounces per day}\n",
    "$$"
   ]
  },
  {
   "cell_type": "code",
   "execution_count": 6,
   "metadata": {
    "collapsed": false
   },
   "outputs": [
    {
     "data": {
      "text/html": [
       "<table border=\"1\" class=\"dataframe\">\n",
       "    <thead>\n",
       "        <tr>\n",
       "            <th>birthwt</th> <th>gest_days</th> <th>mat_age</th> <th>mat_ht</th> <th>mat_pw</th> <th>m_smoker</th> <th>r_bwt_gd</th>\n",
       "        </tr>\n",
       "    </thead>\n",
       "    <tbody>\n",
       "        <tr>\n",
       "            <td>120    </td> <td>284      </td> <td>27     </td> <td>62    </td> <td>100   </td> <td>0       </td> <td>0.422535</td>\n",
       "        </tr>\n",
       "    </tbody>\n",
       "        <tr>\n",
       "            <td>113    </td> <td>282      </td> <td>33     </td> <td>64    </td> <td>135   </td> <td>0       </td> <td>0.400709</td>\n",
       "        </tr>\n",
       "    </tbody>\n",
       "        <tr>\n",
       "            <td>128    </td> <td>279      </td> <td>28     </td> <td>64    </td> <td>115   </td> <td>1       </td> <td>0.458781</td>\n",
       "        </tr>\n",
       "    </tbody>\n",
       "        <tr>\n",
       "            <td>108    </td> <td>282      </td> <td>23     </td> <td>67    </td> <td>125   </td> <td>1       </td> <td>0.382979</td>\n",
       "        </tr>\n",
       "    </tbody>\n",
       "        <tr>\n",
       "            <td>136    </td> <td>286      </td> <td>25     </td> <td>62    </td> <td>93    </td> <td>0       </td> <td>0.475524</td>\n",
       "        </tr>\n",
       "    </tbody>\n",
       "        <tr>\n",
       "            <td>138    </td> <td>244      </td> <td>33     </td> <td>62    </td> <td>178   </td> <td>0       </td> <td>0.565574</td>\n",
       "        </tr>\n",
       "    </tbody>\n",
       "        <tr>\n",
       "            <td>132    </td> <td>245      </td> <td>23     </td> <td>65    </td> <td>140   </td> <td>0       </td> <td>0.538776</td>\n",
       "        </tr>\n",
       "    </tbody>\n",
       "        <tr>\n",
       "            <td>120    </td> <td>289      </td> <td>25     </td> <td>62    </td> <td>125   </td> <td>0       </td> <td>0.415225</td>\n",
       "        </tr>\n",
       "    </tbody>\n",
       "        <tr>\n",
       "            <td>143    </td> <td>299      </td> <td>30     </td> <td>66    </td> <td>136   </td> <td>1       </td> <td>0.478261</td>\n",
       "        </tr>\n",
       "    </tbody>\n",
       "        <tr>\n",
       "            <td>140    </td> <td>351      </td> <td>27     </td> <td>68    </td> <td>120   </td> <td>0       </td> <td>0.39886 </td>\n",
       "        </tr>\n",
       "    </tbody>\n",
       "</table>\n",
       "<p>... (1164 rows omitted)</p"
      ],
      "text/plain": [
       "<Table(7 rows): | birthwt | gest_days | mat_age | mat_ht | mat_pw | m_smoker | r_bwt_gd |>"
      ]
     },
     "execution_count": 6,
     "metadata": {},
     "output_type": "execute_result"
    }
   ],
   "source": [
    "baby['r_bwt_gd'] = baby['birthwt']/baby['gest_days']\n",
    "baby"
   ]
  },
  {
   "cell_type": "markdown",
   "metadata": {},
   "source": [
    "Here is a histogram of the 1,174 ratios."
   ]
  },
  {
   "cell_type": "code",
   "execution_count": 308,
   "metadata": {
    "collapsed": false
   },
   "outputs": [
    {
     "data": {
      "text/plain": [
       "<matplotlib.text.Text at 0x10dfd52b0>"
      ]
     },
     "execution_count": 308,
     "metadata": {},
     "output_type": "execute_result"
    },
    {
     "data": {
      "image/png": "[encoded data removed]",
      "text/plain": [
       "<matplotlib.figure.Figure at 0x10d8fa080>"
      ]
     },
     "metadata": {},
     "output_type": "display_data"
    }
   ],
   "source": [
    "baby.select('r_bwt_gd').hist(bins=15,normed=True)\n",
    "plots.xlabel('BirthWt/GestationalDays (ounces per day)')"
   ]
  },
  {
   "cell_type": "markdown",
   "metadata": {},
   "source": [
    "At a first glance the histogram looks quite symmetric, with the density at its maximum over the interval 4 ounces per day to 4.5 ounces per day. But a closer look reveals that some of the ratios were quite large by comparison. The maximum value of the ratios was just over 0.78 ounces per day, almost double the typical value."
   ]
  },
  {
   "cell_type": "code",
   "execution_count": 309,
   "metadata": {
    "collapsed": false
   },
   "outputs": [
    {
     "data": {
      "text/plain": [
       "0.78378378378378377"
      ]
     },
     "execution_count": 309,
     "metadata": {},
     "output_type": "execute_result"
    }
   ],
   "source": [
    "np.max(baby['r_bwt_gd'])            "
   ]
  },
  {
   "cell_type": "markdown",
   "metadata": {},
   "source": [
    "This is a situation in which the median of the distribution is more informative about the typical value than the mean, as the median is unaffected by outliers. The median in the sample is just over 0.429."
   ]
  },
  {
   "cell_type": "code",
   "execution_count": 310,
   "metadata": {
    "collapsed": false
   },
   "outputs": [
    {
     "data": {
      "text/plain": [
       "0.42907801418439717"
      ]
     },
     "execution_count": 310,
     "metadata": {},
     "output_type": "execute_result"
    }
   ],
   "source": [
    "np.median(baby['r_bwt_gd'])         "
   ]
  },
  {
   "cell_type": "markdown",
   "metadata": {},
   "source": [
    "To estimate the median of the ratios in the population, we have to figure out how different the median might have been in another sample. But there is no helpful mathematical formula that tells us how to estimate this variability based on our sample alone.\n",
    "\n",
    "If we knew the distribution of the population, we could replicate the sampling procedure and generate the empirical distribution of the sample median. But we don't know the distribution of the population – we don't even know its median. That's what we are trying to estimate in the first place.\n",
    "\n",
    "What we do have is a large random sample. As we know, a large random sample is likely to resemeble the population from which it is drawn. This observation allows data scientists to *lift themselves up by their own bootstraps*: the sampling procedure can be replicated by *sampling from the sample*. \n",
    "\n",
    "## Resampling from the Sample\n",
    "\n",
    "Here are the steps of *the bootstrap method* for generating an empirical histogram of the sample median.\n",
    "\n",
    "- **Treat the sample as if it is the population.**\n",
    "- **Draw from the sample**, at random **with** replacement, **the same number as the sample size**. Calculate the median.\n",
    "- Do this repeatedly. You will get as many medians as the number of repetitions.\n",
    "- Draw the histogram of all these medians. This is called a bootstrap empirical distribution of the sample median. It is an approximation to the probability distribution of the sample median.\n",
    "\n",
    "It is important to resample the same number of times as the original sample size. The reason is that the estimate is based on the original sample. In order to see how much the estimate could vary, we have to compare it to estimates computed from samples of the same size. For example, the median of about 0.429 ounces per day in our sample of 1,174 babies must be compared to the medians of other samples of size 1,174.\n"
   ]
  },
  {
   "cell_type": "markdown",
   "metadata": {},
   "source": [
    "The code below uses the method ``sample`` to draw at random with replacement from all the ratios in the original sample. Notice that the sample size does not have to be specified. By default, ``sample`` draws as many times as the number of rows in the table from which it is sampling. Since ``baby`` has one row for each baby, the default sample size of ``sample`` is exactly the number required for the bootstrap method. "
   ]
  },
  {
   "cell_type": "code",
   "execution_count": 15,
   "metadata": {
    "collapsed": false
   },
   "outputs": [],
   "source": [
    "resample = baby.select('r_bwt_gd').sample(with_replacement=True)"
   ]
  },
  {
   "cell_type": "markdown",
   "metadata": {},
   "source": [
    "The median of the resampled ratios can be computed in two ways. One way is to extract the array that is the ``r_bwt_gd`` column of the table ``resample``, and then use ``np.median``."
   ]
  },
  {
   "cell_type": "code",
   "execution_count": 8,
   "metadata": {
    "collapsed": false
   },
   "outputs": [
    {
     "data": {
      "text/plain": [
       "0.43003412969283278"
      ]
     },
     "execution_count": 8,
     "metadata": {},
     "output_type": "execute_result"
    }
   ],
   "source": [
    "np.median(resample['r_bwt_gd'])"
   ]
  },
  {
   "cell_type": "markdown",
   "metadata": {},
   "source": [
    "The other way is to use the Table method called ``percentile`` on the table ``resample``. This method takes as it argument the percentile rank that is desired; the median is the 50th percentile."
   ]
  },
  {
   "cell_type": "code",
   "execution_count": 9,
   "metadata": {
    "collapsed": false
   },
   "outputs": [
    {
     "data": {
      "text/html": [
       "<table border=\"1\" class=\"dataframe\">\n",
       "    <thead>\n",
       "        <tr>\n",
       "            <th>r_bwt_gd</th>\n",
       "        </tr>\n",
       "    </thead>\n",
       "    <tbody>\n",
       "        <tr>\n",
       "            <td>0.430034</td>\n",
       "        </tr>\n",
       "    </tbody>\n",
       "</table>"
      ],
      "text/plain": [
       "<Table(1 rows): | r_bwt_gd |>"
      ]
     },
     "execution_count": 9,
     "metadata": {},
     "output_type": "execute_result"
    }
   ],
   "source": [
    "resample.percentile(50)"
   ]
  },
  {
   "cell_type": "markdown",
   "metadata": {},
   "source": [
    "To generate a bootstrap empirical distribution of the sample medians, it is necessary to replicate the sampling procedure many times. To do this easily, we will define a function called ``bootstrap_median`` that takes as its arguments the name of the table containing the original sample, the label of the column containing the variable of interest, and the number of repetitions of the resampling process. The code pertaining to the bootstrap is the same as the two lines of code used above, apart from the generic names of the arguments."
   ]
  },
  {
   "cell_type": "code",
   "execution_count": 14,
   "metadata": {
    "collapsed": false
   },
   "outputs": [],
   "source": [
    "\"\"\"Bootstrap mpirical distribution of random sample medians, resampling from a sample\n",
    "Arguments: table of original sample data, column label, number of repetitions\"\"\"\n",
    "\n",
    "def bootstrap_median(samp_table, column_label, repetitions):\n",
    "    \n",
    "    # Set up an empty table to collect all the replicated medians\n",
    "    medians = Table([[]], [column_label])\n",
    "    \n",
    "    # Run the bootstrap and place all the medians in the table\n",
    "    for i in range(repetitions):\n",
    "        resample = samp_table.select(column_label).sample(with_replacement=True)\n",
    "        m = resample.percentile(50)\n",
    "        medians.append(m.rows[0])\n",
    "        \n",
    "    # Display results\n",
    "    medians.hist(bins=20,normed=True)\n",
    "    plots.xlabel('resampled medians')\n",
    "    print(\"Original sample median:\", samp_table.select(column_label).percentile(50).rows[0][0])\n",
    "    \n",
    "    print(\"2.5 percent point of resampled medians:\", medians.percentile(2.5).rows[0][0])\n",
    "    print(\"97.5 percent point of resampled medians:\", medians.percentile(97.5).rows[0][0])"
   ]
  },
  {
   "cell_type": "markdown",
   "metadata": {},
   "source": [
    "Let us run 10,000 replications of the sampling procedure and look at a disribution of the resulting resampled medians."
   ]
  },
  {
   "cell_type": "code",
   "execution_count": 13,
   "metadata": {
    "collapsed": false
   },
   "outputs": [
    {
     "name": "stdout",
     "output_type": "stream",
     "text": [
      "Original sample median: 0.429078014184\n",
      "2.5 percent point of resampled medians: 0.425454545455\n",
      "97.5 percent point of resampled medians: 0.432727272727\n"
     ]
    },
    {
     "data": {
      "image/png": "[encoded data removed]",
      "text/plain": [
       "<matplotlib.figure.Figure at 0x1095ab668>"
      ]
     },
     "metadata": {},
     "output_type": "display_data"
    }
   ],
   "source": [
    "bootstrap_median(baby, 'r_bwt_gd', 10000)"
   ]
  },
  {
   "cell_type": "markdown",
   "metadata": {},
   "source": [
    "The histogram of resampled medians is roughly bell shaped. An approximate 95%-confidence interval for the popualation median can therefore be constructed by analogy with normal confidence intervals for the sample mean: \n",
    "\n",
    "Eliminate the lowest 2.5% and the highest 2.5% of the resampled medians. Retain the central 95% of the resampled medians as the confidence interval. \n",
    "\n",
    "###Confidence Intervals: the Bootstrap Percentile Method\n",
    "\n",
    "In other words, the left endpoint of the confidence interval is the 2.5th percentile of the resampled medians. The right endpoint has 2.5% of the resampled medians to the right of it, and so it is the 97.5th percentile of the resampled medians.\n",
    "\n",
    "These two endpoints are provided in the display above. An approximate 95% bootstrap confidence interval for the population median is 0.4255 ounces per day to 0.4327 ounces per day."
   ]
  },
  {
   "cell_type": "markdown",
   "metadata": {},
   "source": [
    "###Notes on Using the Bootstrap\n",
    "\n",
    "- We used the bootstrap in the previous section without giving the method a name. When we approximated the SE of the sample mean by replacing the population SD with the sample SD, we were letting the large random sample play the role of the population – that is the essence of the bootstrap method.\n",
    "\n",
    "- To approximate the probability distribution of a statistic, it is a good idea to replicate the resampling procedure as many times as possible. A few thousand replications will result in decent approximations to the distribution of sample median, especially if the distribution of the population has one peak and is not very asymmetric. We used 10,000 replications in the example above.\n",
    "\n",
    "- The bootstrap percentile method works well for estimating the population median based on a large random sample. However, it has limitations, as do all methods of estimation. For example, it is not expected to do well in of the following situations.\n",
    "    - The goal is to estimate the minimum or maximum value in the population, or a very low or very high percentile, or most parameters that are greatly influenced by rare elements of the population.\n",
    "    - The probability distribution of the statistic is not roughly normal.\n",
    "    - The original sample is small.\n",
    "\n"
   ]
  }
 ],
 "metadata": {
  "kernelspec": {
   "display_name": "Python 3",
   "language": "python",
   "name": "python3"
  },
  "language_info": {
   "codemirror_mode": {
    "name": "ipython",
    "version": 3
   },
   "file_extension": ".py",
   "mimetype": "text/x-python",
   "name": "python",
   "nbconvert_exporter": "python",
   "pygments_lexer": "ipython3",
   "version": "3.4.3"
  }
 },
 "nbformat": 4,
 "nbformat_minor": 0
}
