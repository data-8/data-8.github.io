{
 "cells": [
  {
   "cell_type": "code",
   "execution_count": 4,
   "metadata": {
    "collapsed": true
   },
   "outputs": [],
   "source": [
    "# HIDDEN\n",
    "from datascience import *\n",
    "%matplotlib inline\n",
    "import matplotlib.pyplot as plots\n",
    "plots.style.use('fivethirtyeight')"
   ]
  },
  {
   "cell_type": "markdown",
   "metadata": {},
   "source": [
    "##Further Generalization: New Test Statistics\n",
    "\n",
    "Thus far, we have been looking at entire distributions, whether the variable is categorical, such as employment status, or quantitative, such as age. When we analyze quantitative variables, we can summarize the distributions by using measures such as the median and the average. These measures can be useful as test statistics – sometimes, working with them can be more efficient than working with the whole distribution. We will now generalize our methods of testing so that we can replace the total variation distance between distributions by other test statistics of our choice.\n",
    "\n",
    "As part of the survey we have been studying, the sampled people were asked to rate their satisfaction with their spouse or partner. One of the questions they answered was, \"Every relationship has its ups and downs. Taking all things together, how satisfied are you with your relationship with your spouse or partner?\"\n",
    "\n",
    "The question was in a multiple choice format, with the following possible answers:\n",
    "\n",
    "- 1: very satisfied\n",
    "- 2: somewhat satisfied\n",
    "- 3: neither satisfied nor dissatisfied\n",
    "- 4: somewhat dissatisfied\n",
    "- 5: very dissatisfied\n",
    "\n",
    "The answers given by the sampled people are in the column ``rel_rating`` of the table ``couples``. More than 63% of the sampled people gave their satisfaction the highest possible rating:"
   ]
  },
  {
   "cell_type": "code",
   "execution_count": 8,
   "metadata": {
    "collapsed": false
   },
   "outputs": [
    {
     "data": {
      "text/html": [
       "<table border=\"1\" class=\"dataframe\">\n",
       "    <thead>\n",
       "        <tr>\n",
       "            <th>mar_status_code</th> <th>gender_code</th> <th>rel_rating_code</th> <th>age</th> <th>mar_status</th> <th>gender</th> <th>rel_rating</th> <th>count</th>\n",
       "        </tr>\n",
       "    </thead>\n",
       "    <tbody>\n",
       "        <tr>\n",
       "            <td>1              </td> <td>1          </td> <td>1              </td> <td>51  </td> <td>married   </td> <td>male  </td> <td>very satisfied    </td> <td>1    </td>\n",
       "        </tr>\n",
       "    </tbody>\n",
       "        <tr>\n",
       "            <td>1              </td> <td>2          </td> <td>1              </td> <td>53  </td> <td>married   </td> <td>female</td> <td>very satisfied    </td> <td>1    </td>\n",
       "        </tr>\n",
       "    </tbody>\n",
       "        <tr>\n",
       "            <td>1              </td> <td>1          </td> <td>1              </td> <td>57  </td> <td>married   </td> <td>male  </td> <td>very satisfied    </td> <td>1    </td>\n",
       "        </tr>\n",
       "    </tbody>\n",
       "        <tr>\n",
       "            <td>1              </td> <td>2          </td> <td>1              </td> <td>57  </td> <td>married   </td> <td>female</td> <td>very satisfied    </td> <td>1    </td>\n",
       "        </tr>\n",
       "    </tbody>\n",
       "        <tr>\n",
       "            <td>1              </td> <td>1          </td> <td>1              </td> <td>60  </td> <td>married   </td> <td>male  </td> <td>very satisfied    </td> <td>1    </td>\n",
       "        </tr>\n",
       "    </tbody>\n",
       "        <tr>\n",
       "            <td>1              </td> <td>2          </td> <td>1              </td> <td>57  </td> <td>married   </td> <td>female</td> <td>very satisfied    </td> <td>1    </td>\n",
       "        </tr>\n",
       "    </tbody>\n",
       "        <tr>\n",
       "            <td>1              </td> <td>1          </td> <td>1              </td> <td>62  </td> <td>married   </td> <td>male  </td> <td>very satisfied    </td> <td>1    </td>\n",
       "        </tr>\n",
       "    </tbody>\n",
       "        <tr>\n",
       "            <td>1              </td> <td>2          </td> <td>1              </td> <td>59  </td> <td>married   </td> <td>female</td> <td>very satisfied    </td> <td>1    </td>\n",
       "        </tr>\n",
       "    </tbody>\n",
       "        <tr>\n",
       "            <td>1              </td> <td>1          </td> <td>2              </td> <td>53  </td> <td>married   </td> <td>male  </td> <td>somewhat satisfied</td> <td>1    </td>\n",
       "        </tr>\n",
       "    </tbody>\n",
       "        <tr>\n",
       "            <td>1              </td> <td>2          </td> <td>2              </td> <td>61  </td> <td>married   </td> <td>female</td> <td>somewhat satisfied</td> <td>1    </td>\n",
       "        </tr>\n",
       "    </tbody>\n",
       "</table>\n",
       "<p>... (2058 rows omitted)</p"
      ],
      "text/plain": [
       "<Table(8 rows): | mar_status_code | gender_code | rel_rating_code | age | mar_status | gender | rel_rating | count |>"
      ]
     },
     "execution_count": 8,
     "metadata": {},
     "output_type": "execute_result"
    }
   ],
   "source": [
    "columns = ['mar_status', 'gender', 'rel_rating', 'age']\n",
    "couples = Table.read_table('married_couples.csv').select(columns)\n",
    "\n",
    "def describe(column, descriptions):\n",
    "    \"\"\"Relabel a column of codes and add a column of descriptions\"\"\"\n",
    "    code = column + '_code'\n",
    "    couples.relabel(column, code)\n",
    "    couples[column] = np.choose(couples[code]-1, descriptions)\n",
    "    \n",
    "describe('mar_status', ['married', 'partner'])\n",
    "describe('gender', ['male', 'female'])\n",
    "describe('rel_rating', [\n",
    "    'very satisfied', \n",
    "    'somewhat satisfied', \n",
    "    'neither satisfied nor dissatisfied', \n",
    "    'somewhat dissatisfied', \n",
    "    'very dissatisfied', \n",
    "])\n",
    "couples['count'] = 1\n",
    "couples"
   ]
  },
  {
   "cell_type": "code",
   "execution_count": 10,
   "metadata": {
    "collapsed": false
   },
   "outputs": [
    {
     "data": {
      "text/plain": [
       "0.6353965183752418"
      ]
     },
     "execution_count": 10,
     "metadata": {},
     "output_type": "execute_result"
    }
   ],
   "source": [
    "couples.where('rel_rating', 'very satisfied').num_rows/couples.num_rows"
   ]
  },
  {
   "cell_type": "markdown",
   "metadata": {},
   "source": [
    "Let us examine whether this rating is related to age. Perhaps older people are more appreciative of their relationships, or more frustrated; or perhaps high satisfaction with the spouse or partner has nothing to do with age. As a first step, here are the histograms of the ages of sampled people who gave the highest rating, and those who did not. "
   ]
  },
  {
   "cell_type": "code",
   "execution_count": 11,
   "metadata": {
    "collapsed": false
   },
   "outputs": [
    {
     "data": {
      "image/png": "[encoded data removed]",
      "text/plain": [
       "<matplotlib.figure.Figure at 0x1061eec18>"
      ]
     },
     "metadata": {},
     "output_type": "display_data"
    },
    {
     "data": {
      "image/png": "[encoded data removed]",
      "text/plain": [
       "<matplotlib.figure.Figure at 0x1061eec50>"
      ]
     },
     "metadata": {},
     "output_type": "display_data"
    }
   ],
   "source": [
    "# Compare ages of those who rate satisfaction highly and those who don't\n",
    "\n",
    "couples['high_rating'] = couples['rel_rating'] == 'very satisfied'\n",
    "\n",
    "for condition in [True, False]:\n",
    "    mrr = couples.where('high_rating', condition).select(['age'])\n",
    "    mrr.hist(bins=np.arange(15,71,5),normed=True)"
   ]
  },
  {
   "cell_type": "markdown",
   "metadata": {},
   "source": [
    "The two distributions are different, but they are also similar in many ways. This raises the question of how the two distributions compare in the U.S. population.\n",
    "\n",
    "To answer this, we start by setting up null and alternative hypotheses.\n",
    "\n",
    "**Null hypothesis.** Among married and cohabitating people in the United States, the distribution of ages of those who give the highest satisfaction rating is the same as the distribution of ages who do not. The difference in the sample is due to chance.\n",
    "\n",
    "**Alternative hypothesis.** Among married and cohabitating people in the United States, the distribution of ages of those who give the highest satisfaction rating is different from the distribution of ages who do not.\n",
    "\n",
    "Let us see if we can answer the question by just comparing the medians of the two distributions in the sample. As our test statistic, we will measure how far apart the two medians are.\n",
    "\n",
    "Formally, the **test statistic** will be the absolute difference between the medians of the ages of the two groups."
   ]
  },
  {
   "cell_type": "code",
   "execution_count": 12,
   "metadata": {
    "collapsed": false
   },
   "outputs": [
    {
     "data": {
      "text/plain": [
       "44.0"
      ]
     },
     "execution_count": 12,
     "metadata": {},
     "output_type": "execute_result"
    }
   ],
   "source": [
    "np.median(couples.where('high_rating', True)['age'])"
   ]
  },
  {
   "cell_type": "code",
   "execution_count": 13,
   "metadata": {
    "collapsed": false
   },
   "outputs": [
    {
     "data": {
      "text/plain": [
       "43.0"
      ]
     },
     "execution_count": 13,
     "metadata": {},
     "output_type": "execute_result"
    }
   ],
   "source": [
    "np.median(couples.where('high_rating', False)['age'])"
   ]
  },
  {
   "cell_type": "markdown",
   "metadata": {},
   "source": [
    "The median age of those who gave the highest rating is one year more than the median of those who did not. The observed value of our test statistic is therefore 1.\n",
    "\n",
    "To see how this statistic could vary under the null hypothesis, we will perform a permutation test. The test will involve repeatedly generating permuted samples of ages of the two groups, and calculating the test statistic for each of those samples. So it is useful to define a function that computes the test statistic – the absolute differeence between the medians – for every generated sample.\n",
    "\n",
    "Like the function ``tvd``, the function ``abs_diff_in_medians`` takes as its arguments the table of data, the name of a column of conditions that come in two categories, and the name of the column of values to be compared. It returns the absolute difference between the median values under the two conditions. By applying this function to the original sample, we can see that it returns the observed value of our test statistic."
   ]
  },
  {
   "cell_type": "code",
   "execution_count": 14,
   "metadata": {
    "collapsed": true
   },
   "outputs": [],
   "source": [
    "def abs_diff_in_medians(t, conditions, values):\n",
    "    \"\"\"Compute the difference in the median of values for conditions 1 & 2.\"\"\"\n",
    "    a = t.where(conditions, True)[values]\n",
    "    b = t.where(conditions, False)[values]\n",
    "    return abs(np.median(a)-np.median(b))"
   ]
  },
  {
   "cell_type": "code",
   "execution_count": 15,
   "metadata": {
    "collapsed": false
   },
   "outputs": [
    {
     "data": {
      "text/plain": [
       "1.0"
      ]
     },
     "execution_count": 15,
     "metadata": {},
     "output_type": "execute_result"
    }
   ],
   "source": [
    "abs_diff_in_medians(couples, 'high_rating', 'age')"
   ]
  },
  {
   "cell_type": "markdown",
   "metadata": {},
   "source": [
    "To run the permutation test, we will define a function ``permutation_stat`` that is similar to ``permutation_ tvd`` except that it takes a fourth argument. This argument is the name of a function that computes the test statistic. The code is the same as for ``permutation_tvd`` apart from the number of repetitions and the replacement of ``tvd`` by the generic function ``stat``.\n",
    "\n",
    "Because ``permutation_test`` takes a function as an argument, it is called a *higher order function*."
   ]
  },
  {
   "cell_type": "code",
   "execution_count": 16,
   "metadata": {
    "collapsed": true
   },
   "outputs": [],
   "source": [
    "def permutation_stat(original, conditions, values, stat):\n",
    "    repetitions=1600\n",
    "    test_stats = []\n",
    "\n",
    "    for i in np.arange(repetitions):\n",
    "        shuffled = original.sample()\n",
    "        combined = Table([original[conditions], shuffled[values]], \n",
    "                         [conditions, values])\n",
    "        test_stats.append(stat(combined, conditions, values))\n",
    "\n",
    "    observation = stat(original, conditions, values)\n",
    "    p_value = np.count_nonzero(test_stats >= observation) / repetitions\n",
    "    \n",
    "    print(\"Observed value of test statistic:\", observation)\n",
    "    print(\"Empirical P value:\", p_value)\n",
    "    t = Table([test_stats], ['Empirical dist. of test statistic under null'])\n",
    "    t.hist(normed=True)"
   ]
  },
  {
   "cell_type": "markdown",
   "metadata": {},
   "source": [
    "Let us run the permutation test using ``abs_diff_in_medians`` to compute the test statistic. The empirical histogram of the test statistic shows that our observed value of 1 is typical under the null hypothesis. "
   ]
  },
  {
   "cell_type": "code",
   "execution_count": 17,
   "metadata": {
    "collapsed": false
   },
   "outputs": [
    {
     "name": "stdout",
     "output_type": "stream",
     "text": [
      "Observed value of test statistic: 1.0\n",
      "Empirical P value: 0.7025\n"
     ]
    },
    {
     "data": {
      "image/png": "[encoded data removed]",
      "text/plain": [
       "<matplotlib.figure.Figure at 0x1084f56d8>"
      ]
     },
     "metadata": {},
     "output_type": "display_data"
    }
   ],
   "source": [
    "permutation_stat(couples, 'high_rating', 'age', abs_diff_in_medians)"
   ]
  },
  {
   "cell_type": "markdown",
   "metadata": {},
   "source": [
    "The absolute difference between the medians does not reveal a difference between the two underlying distributions of age. As you can see from the empirical histogram above, the test statistic is rather coarse – it has a small number of likely values. This suggests that it might be more informative to compare means instead of medians.\n",
    "\n",
    "The functions that we have developed make it easy for us to run the permutation test again, this time with a different test statistic.\n",
    "\n",
    "The **new test statistic** is the absolute difference between the means.\n",
    "\n",
    "As before, we will define a function that computes the test statistic based on a sample. Applying this function to the orignial sample shows that the observed means of the two groups differ by about 1.07 years."
   ]
  },
  {
   "cell_type": "code",
   "execution_count": 18,
   "metadata": {
    "collapsed": true
   },
   "outputs": [],
   "source": [
    "def abs_diff_in_means(t, conditions, values):\n",
    "    \"\"\"Compute the difference in the mean of values for conditions 1 & 2.\"\"\"\n",
    "    a = t.where(conditions, True)[values]\n",
    "    b = t.where(conditions, False)[values]\n",
    "    return abs(np.mean(a)-np.mean(b))"
   ]
  },
  {
   "cell_type": "code",
   "execution_count": 20,
   "metadata": {
    "collapsed": false
   },
   "outputs": [
    {
     "data": {
      "text/plain": [
       "1.0743190048811186"
      ]
     },
     "execution_count": 20,
     "metadata": {},
     "output_type": "execute_result"
    }
   ],
   "source": [
    "abs_diff_in_means(couples, 'high_rating', 'age')"
   ]
  }
 ],
 "metadata": {
  "kernelspec": {
   "display_name": "Python 3",
   "language": "python",
   "name": "python3"
  },
  "language_info": {
   "codemirror_mode": {
    "name": "ipython",
    "version": 3
   },
   "file_extension": ".py",
   "mimetype": "text/x-python",
   "name": "python",
   "nbconvert_exporter": "python",
   "pygments_lexer": "ipython3",
   "version": "3.4.3"
  }
 },
 "nbformat": 4,
 "nbformat_minor": 0
}
