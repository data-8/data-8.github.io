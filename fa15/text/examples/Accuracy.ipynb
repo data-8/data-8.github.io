{
 "cells": [
  {
   "cell_type": "code",
   "execution_count": 1,
   "metadata": {
    "collapsed": true
   },
   "outputs": [],
   "source": [
    "# HIDDEN\n",
    "from datascience import *\n",
    "%matplotlib inline\n",
    "import matplotlib.pyplot as plots\n",
    "plots.style.use('fivethirtyeight')\n",
    "import pylab as pl\n",
    "import math\n",
    "from scipy import stats"
   ]
  },
  {
   "cell_type": "markdown",
   "metadata": {},
   "source": [
    "###Notes on accuracy\n",
    "\n",
    "A crucial factor in determining the accuracy of an estimate is the method by which the sample is drawn. All of our samples have been drawn at random either with or without replacement. As noted earlier, the probabilities involved in sampling without replacement are essentially the same as those in sampling with replacement, provided the sample is small relative to the population. That is because drawing out a small portion of a population typically has no appreciable effect on the composition of the population, so the draws are made from essentially the same population each time.\n",
    "\n",
    "The discussion about accuracy below applies to random samples drawn with replacement. By the observations above, it also applies to random samples without replacement, provided the samples are small relative to the population.\n",
    "\n",
    "###Accuracy and Standard Error\n",
    "\n",
    "The accuracy of an estimate can be measured by its typical distance from the quantity being estimated. In the case of sample means and proportions, that distance is measured by the standard error; the smaller the standard error, the more accurate the estimate.\n",
    "\n",
    "###1. Accuracy increases with sample size.\n",
    "The sample size is in the denominator of the formula for the standard error of the sample mean. So for predicting means (or proportions, in the case of a population of 0's and 1's), larger random samples are more accurate.\n",
    "\n",
    "###2. The Square Root Law\n",
    "The denominator of the standard error formula is the square root of the sample size. Therefore, if the sample size is multiplied by a factor bigger than 1, the accuracy increases by the square root of the factor.\n",
    "\n",
    "###3. A bound for the standard error of the sample proportion\n",
    "The standard error of a sample mean or proportion does not depend only on the sample size; it depends also on the population SD. When the population consists of 0's and 1's – that is, when the quanity being estimated is a population proportion – there is a simple bound for the population SD. \n",
    "\n",
    "$$\n",
    "\\mbox{For}~p~\\mbox{between}~0~\\mbox{and}~1,\n",
    "\\sqrt{p(1-p)} ~\\mbox{is}~ \\mathbf{\\mbox{at most}} ~ 0.5, ~\n",
    "\\mbox{which is the value of} ~\\sqrt{p(1-p)}~ \\mbox{for} ~ p = 0.5.\n",
    "$$\n",
    "\n",
    "This leads to a bound for the standard error of the sample proportion.\n",
    "$$\n",
    "\\mbox{The SE of sample proportion is} ~ \\mathbf{\\mbox{at most}} ~~\n",
    "\\frac{0.5}{\\sqrt{\\mbox{sample size}}}.\n",
    "$$\n",
    "\n",
    "The figure below shows why $\\sqrt{p(1-p)}$ has a maximum value of $0.5$ at $p = 0.5$."
   ]
  },
  {
   "cell_type": "code",
   "execution_count": 4,
   "metadata": {
    "collapsed": false
   },
   "outputs": [
    {
     "data": {
      "text/plain": [
       "<matplotlib.text.Text at 0x109c32860>"
      ]
     },
     "execution_count": 4,
     "metadata": {},
     "output_type": "execute_result"
    },
    {
     "data": {
      "image/png": "[encoded data removed]",
      "text/plain": [
       "<matplotlib.figure.Figure at 0x109cc30f0>"
      ]
     },
     "metadata": {},
     "output_type": "display_data"
    }
   ],
   "source": [
    "x = np.arange(0, 1.01, 0.01)\n",
    "plots.plot(x, np.sqrt(x*(1-x)))\n",
    "plots.ylim(0, 0.51)\n",
    "plots.xlabel('$p$')\n",
    "plots.ylabel('$\\sqrt{p(1-p)}$')"
   ]
  },
  {
   "cell_type": "markdown",
   "metadata": {},
   "source": [
    "**Example: How to find a sample size that achieves a desired accuracy**\n",
    "\n",
    "Suppose that you have a sample that is essentially equivalent to drawing at random with replacement. Suppose also that your goal is to estimate a proportion in the population, and that the largest standard error you are prepared to accept is 0.005. How large should the sample be?\n",
    "\n",
    "You can find a threshold for the sample size by using the bound that we developed above:\n",
    "$$\n",
    "\\mbox{\"worst-case\" SE of the sample proportion} ~\\le~\n",
    "\\frac{0.5}{\\sqrt{\\mbox{sample size}}} ~\\le~ 0.005, ~~ \\mbox{so} ~~\n",
    "\\mbox{sample size} ~\\ge ~ \\big{(}\\frac{0.5}{0.005}\\big{)}^2 ~=~10,000\n",
    "$$"
   ]
  },
  {
   "cell_type": "markdown",
   "metadata": {},
   "source": [
    "###Concluding note\n",
    "\n",
    "In news reports about opinion polls, the focus is typically on the estimates; any mention of error is often relegated to the final sentence of the report and might say something like this:\n",
    "\n",
    "\"The margin of error in such surveys is about 3 percentage points.\"\n",
    "\n",
    "Usually, this means that 0.03 is close to the largest possible \"plus or minus\" number in the polling organization's construction of confidence intervals for proportions. Most polling organizations use sampling schemes that are more complex than those in our course. However, regardless of exactly how the samples are drawn, it is important to remember that it is possible for estimates based on random samples to be off by more than the expected amounts. A better ending for the news report would be, \"The margin of error in most such surveys is about 3 percentage points. However, sometimes the error might be larger.\""
   ]
  },
  {
   "cell_type": "code",
   "execution_count": null,
   "metadata": {
    "collapsed": true
   },
   "outputs": [],
   "source": []
  }
 ],
 "metadata": {
  "kernelspec": {
   "display_name": "Python 3",
   "language": "python",
   "name": "python3"
  },
  "language_info": {
   "codemirror_mode": {
    "name": "ipython",
    "version": 3
   },
   "file_extension": ".py",
   "mimetype": "text/x-python",
   "name": "python",
   "nbconvert_exporter": "python",
   "pygments_lexer": "ipython3",
   "version": "3.4.3"
  }
 },
 "nbformat": 4,
 "nbformat_minor": 0
}
