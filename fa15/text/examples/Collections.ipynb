{
 "cells": [
  {
   "cell_type": "markdown",
   "metadata": {},
   "source": [
    "Values can be grouped together into collections, which allows programmers to organize those values and refer to all of them with a single name. The most common way to group together values is by placing them in a list, which is expessed by separating elements using commas within square brackets. After a comma, it's okay to start a new line. Below, we collect four different `years` and the corresponding average world temperature over land (in degrees Celsius) in the decade leading up to each year. \\footnote{http://berkeleyearth.lbl.gov/regions/global-land} "
   ]
  },
  {
   "cell_type": "code",
   "execution_count": 2,
   "metadata": {
    "collapsed": true
   },
   "outputs": [],
   "source": [
    "years = [1850, 1900, \n",
    "         1950, 2000]\n",
    "temps = [8.1, 8.3, 8.7, 9.4]"
   ]
  },
  {
   "cell_type": "markdown",
   "metadata": {},
   "source": [
    "The elements of these lists can be accessed within expressions, also using square brackets. Each element has an index, starting at 0. Once accessed, these values can be placed into other lists. The expression below gives us a list of the growth rates for each 50 year period. Not only is the world land temperature increasing, but its growth rate is increasing as well."
   ]
  },
  {
   "cell_type": "code",
   "execution_count": 4,
   "metadata": {
    "collapsed": false
   },
   "outputs": [
    {
     "data": {
      "text/plain": [
       "[0.024691358024691492, 0.04819277108433717, 0.08045977011494265]"
      ]
     },
     "execution_count": 4,
     "metadata": {},
     "output_type": "execute_result"
    }
   ],
   "source": [
    "[(temps[1]-temps[0])/temps[0], \n",
    " (temps[2]-temps[1])/temps[1], \n",
    " (temps[3]-temps[2])/temps[2]]"
   ]
  },
  {
   "cell_type": "markdown",
   "metadata": {},
   "source": [
    "**Tuples.** Values can also be grouped together into *tuples* in addition to *lists*. A tuple is expressed by separating elements using commas within parentheses: `(1, 2, 3)`. In many cases, lists and tuples are interchangeable. \n",
    "\n"
   ]
  }
 ],
 "metadata": {
  "kernelspec": {
   "display_name": "Python 3",
   "language": "python",
   "name": "python3"
  },
  "language_info": {
   "codemirror_mode": {
    "name": "ipython",
    "version": 3
   },
   "file_extension": ".py",
   "mimetype": "text/x-python",
   "name": "python",
   "nbconvert_exporter": "python",
   "pygments_lexer": "ipython3",
   "version": "3.4.3"
  }
 },
 "nbformat": 4,
 "nbformat_minor": 0
}
